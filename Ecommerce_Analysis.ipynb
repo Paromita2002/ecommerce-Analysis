{
 "cells": [
  {
   "cell_type": "code",
   "execution_count": 1,
   "id": "82b22b06-7683-410a-9021-fb904e465cd5",
   "metadata": {},
   "outputs": [],
   "source": [
    "# Importing Libraries\n",
    "import numpy as np\n",
    "import pandas as pd\n",
    "import seaborn as sns\n",
    "import matplotlib.pyplot as plt\n",
    "import matplotlib.ticker as mtick\n",
    "import matplotlib.dates as mdates\n",
    "\n",
    "import warnings\n",
    "warnings.filterwarnings('ignore')"
   ]
  },
  {
   "cell_type": "code",
   "execution_count": 2,
   "id": "1d6600b3-274c-4924-880c-ad281ebb7969",
   "metadata": {},
   "outputs": [
    {
     "data": {
      "text/html": [
       "<div>\n",
       "<style scoped>\n",
       "    .dataframe tbody tr th:only-of-type {\n",
       "        vertical-align: middle;\n",
       "    }\n",
       "\n",
       "    .dataframe tbody tr th {\n",
       "        vertical-align: top;\n",
       "    }\n",
       "\n",
       "    .dataframe thead th {\n",
       "        text-align: right;\n",
       "    }\n",
       "</style>\n",
       "<table border=\"1\" class=\"dataframe\">\n",
       "  <thead>\n",
       "    <tr style=\"text-align: right;\">\n",
       "      <th></th>\n",
       "      <th>InvoiceNo</th>\n",
       "      <th>StockCode</th>\n",
       "      <th>Description</th>\n",
       "      <th>Quantity</th>\n",
       "      <th>InvoiceDate</th>\n",
       "      <th>UnitPrice</th>\n",
       "      <th>CustomerID</th>\n",
       "      <th>Country</th>\n",
       "    </tr>\n",
       "  </thead>\n",
       "  <tbody>\n",
       "    <tr>\n",
       "      <th>0</th>\n",
       "      <td>536365</td>\n",
       "      <td>85123A</td>\n",
       "      <td>WHITE HANGING HEART T-LIGHT HOLDER</td>\n",
       "      <td>6</td>\n",
       "      <td>12-01-2010 08:26</td>\n",
       "      <td>2.55</td>\n",
       "      <td>17850.0</td>\n",
       "      <td>United Kingdom</td>\n",
       "    </tr>\n",
       "    <tr>\n",
       "      <th>1</th>\n",
       "      <td>536365</td>\n",
       "      <td>71053</td>\n",
       "      <td>WHITE METAL LANTERN</td>\n",
       "      <td>6</td>\n",
       "      <td>12-01-2010 08:26</td>\n",
       "      <td>3.39</td>\n",
       "      <td>17850.0</td>\n",
       "      <td>United Kingdom</td>\n",
       "    </tr>\n",
       "    <tr>\n",
       "      <th>2</th>\n",
       "      <td>536365</td>\n",
       "      <td>84406B</td>\n",
       "      <td>CREAM CUPID HEARTS COAT HANGER</td>\n",
       "      <td>8</td>\n",
       "      <td>12-01-2010 08:26</td>\n",
       "      <td>2.75</td>\n",
       "      <td>17850.0</td>\n",
       "      <td>United Kingdom</td>\n",
       "    </tr>\n",
       "    <tr>\n",
       "      <th>3</th>\n",
       "      <td>536365</td>\n",
       "      <td>84029G</td>\n",
       "      <td>KNITTED UNION FLAG HOT WATER BOTTLE</td>\n",
       "      <td>6</td>\n",
       "      <td>12-01-2010 08:26</td>\n",
       "      <td>3.39</td>\n",
       "      <td>17850.0</td>\n",
       "      <td>United Kingdom</td>\n",
       "    </tr>\n",
       "    <tr>\n",
       "      <th>4</th>\n",
       "      <td>536365</td>\n",
       "      <td>84029E</td>\n",
       "      <td>RED WOOLLY HOTTIE WHITE HEART.</td>\n",
       "      <td>6</td>\n",
       "      <td>12-01-2010 08:26</td>\n",
       "      <td>3.39</td>\n",
       "      <td>17850.0</td>\n",
       "      <td>United Kingdom</td>\n",
       "    </tr>\n",
       "  </tbody>\n",
       "</table>\n",
       "</div>"
      ],
      "text/plain": [
       "  InvoiceNo StockCode                          Description  Quantity  \\\n",
       "0    536365    85123A   WHITE HANGING HEART T-LIGHT HOLDER         6   \n",
       "1    536365     71053                  WHITE METAL LANTERN         6   \n",
       "2    536365    84406B       CREAM CUPID HEARTS COAT HANGER         8   \n",
       "3    536365    84029G  KNITTED UNION FLAG HOT WATER BOTTLE         6   \n",
       "4    536365    84029E       RED WOOLLY HOTTIE WHITE HEART.         6   \n",
       "\n",
       "        InvoiceDate  UnitPrice  CustomerID         Country  \n",
       "0  12-01-2010 08:26       2.55     17850.0  United Kingdom  \n",
       "1  12-01-2010 08:26       3.39     17850.0  United Kingdom  \n",
       "2  12-01-2010 08:26       2.75     17850.0  United Kingdom  \n",
       "3  12-01-2010 08:26       3.39     17850.0  United Kingdom  \n",
       "4  12-01-2010 08:26       3.39     17850.0  United Kingdom  "
      ]
     },
     "execution_count": 2,
     "metadata": {},
     "output_type": "execute_result"
    }
   ],
   "source": [
    "# Load Data\n",
    "df = pd.read_csv(r\"C:\\Users\\PAROMITA DAS\\Downloads\\customer segment\\Ecommerce.csv\")\n",
    "df.head()"
   ]
  },
  {
   "cell_type": "markdown",
   "id": "0c5ba22a-85d5-400e-a9e9-25cbaa4c376b",
   "metadata": {},
   "source": [
    "# Data Cleaning and Preparation"
   ]
  },
  {
   "cell_type": "code",
   "execution_count": 121,
   "id": "c5aeb224-2597-45b0-b660-b7bd69f76a41",
   "metadata": {},
   "outputs": [
    {
     "data": {
      "text/html": [
       "<div>\n",
       "<style scoped>\n",
       "    .dataframe tbody tr th:only-of-type {\n",
       "        vertical-align: middle;\n",
       "    }\n",
       "\n",
       "    .dataframe tbody tr th {\n",
       "        vertical-align: top;\n",
       "    }\n",
       "\n",
       "    .dataframe thead th {\n",
       "        text-align: right;\n",
       "    }\n",
       "</style>\n",
       "<table border=\"1\" class=\"dataframe\">\n",
       "  <thead>\n",
       "    <tr style=\"text-align: right;\">\n",
       "      <th></th>\n",
       "      <th>InvoiceNo</th>\n",
       "      <th>StockCode</th>\n",
       "      <th>Description</th>\n",
       "      <th>Quantity</th>\n",
       "      <th>InvoiceDate</th>\n",
       "      <th>UnitPrice</th>\n",
       "      <th>CustomerID</th>\n",
       "      <th>Country</th>\n",
       "      <th>TotalSales</th>\n",
       "      <th>DayOfWeek</th>\n",
       "    </tr>\n",
       "  </thead>\n",
       "  <tbody>\n",
       "    <tr>\n",
       "      <th>0</th>\n",
       "      <td>536365</td>\n",
       "      <td>85123A</td>\n",
       "      <td>WHITE HANGING HEART T-LIGHT HOLDER</td>\n",
       "      <td>6</td>\n",
       "      <td>2010-12-01 08:26:00</td>\n",
       "      <td>2.55</td>\n",
       "      <td>17850.0</td>\n",
       "      <td>United Kingdom</td>\n",
       "      <td>15.30</td>\n",
       "      <td>Wednesday</td>\n",
       "    </tr>\n",
       "    <tr>\n",
       "      <th>1</th>\n",
       "      <td>536365</td>\n",
       "      <td>71053</td>\n",
       "      <td>WHITE METAL LANTERN</td>\n",
       "      <td>6</td>\n",
       "      <td>2010-12-01 08:26:00</td>\n",
       "      <td>3.39</td>\n",
       "      <td>17850.0</td>\n",
       "      <td>United Kingdom</td>\n",
       "      <td>20.34</td>\n",
       "      <td>Wednesday</td>\n",
       "    </tr>\n",
       "    <tr>\n",
       "      <th>2</th>\n",
       "      <td>536365</td>\n",
       "      <td>84406B</td>\n",
       "      <td>CREAM CUPID HEARTS COAT HANGER</td>\n",
       "      <td>8</td>\n",
       "      <td>2010-12-01 08:26:00</td>\n",
       "      <td>2.75</td>\n",
       "      <td>17850.0</td>\n",
       "      <td>United Kingdom</td>\n",
       "      <td>22.00</td>\n",
       "      <td>Wednesday</td>\n",
       "    </tr>\n",
       "    <tr>\n",
       "      <th>3</th>\n",
       "      <td>536365</td>\n",
       "      <td>84029G</td>\n",
       "      <td>KNITTED UNION FLAG HOT WATER BOTTLE</td>\n",
       "      <td>6</td>\n",
       "      <td>2010-12-01 08:26:00</td>\n",
       "      <td>3.39</td>\n",
       "      <td>17850.0</td>\n",
       "      <td>United Kingdom</td>\n",
       "      <td>20.34</td>\n",
       "      <td>Wednesday</td>\n",
       "    </tr>\n",
       "    <tr>\n",
       "      <th>4</th>\n",
       "      <td>536365</td>\n",
       "      <td>84029E</td>\n",
       "      <td>RED WOOLLY HOTTIE WHITE HEART.</td>\n",
       "      <td>6</td>\n",
       "      <td>2010-12-01 08:26:00</td>\n",
       "      <td>3.39</td>\n",
       "      <td>17850.0</td>\n",
       "      <td>United Kingdom</td>\n",
       "      <td>20.34</td>\n",
       "      <td>Wednesday</td>\n",
       "    </tr>\n",
       "  </tbody>\n",
       "</table>\n",
       "</div>"
      ],
      "text/plain": [
       "  InvoiceNo StockCode                          Description  Quantity  \\\n",
       "0    536365    85123A   WHITE HANGING HEART T-LIGHT HOLDER         6   \n",
       "1    536365     71053                  WHITE METAL LANTERN         6   \n",
       "2    536365    84406B       CREAM CUPID HEARTS COAT HANGER         8   \n",
       "3    536365    84029G  KNITTED UNION FLAG HOT WATER BOTTLE         6   \n",
       "4    536365    84029E       RED WOOLLY HOTTIE WHITE HEART.         6   \n",
       "\n",
       "          InvoiceDate  UnitPrice  CustomerID         Country  TotalSales  \\\n",
       "0 2010-12-01 08:26:00       2.55     17850.0  United Kingdom       15.30   \n",
       "1 2010-12-01 08:26:00       3.39     17850.0  United Kingdom       20.34   \n",
       "2 2010-12-01 08:26:00       2.75     17850.0  United Kingdom       22.00   \n",
       "3 2010-12-01 08:26:00       3.39     17850.0  United Kingdom       20.34   \n",
       "4 2010-12-01 08:26:00       3.39     17850.0  United Kingdom       20.34   \n",
       "\n",
       "   DayOfWeek  \n",
       "0  Wednesday  \n",
       "1  Wednesday  \n",
       "2  Wednesday  \n",
       "3  Wednesday  \n",
       "4  Wednesday  "
      ]
     },
     "execution_count": 121,
     "metadata": {},
     "output_type": "execute_result"
    }
   ],
   "source": [
    "df.head()"
   ]
  },
  {
   "cell_type": "code",
   "execution_count": 122,
   "id": "2597c393-3acf-4377-b55a-2ec065d0512a",
   "metadata": {},
   "outputs": [
    {
     "data": {
      "text/html": [
       "<div>\n",
       "<style scoped>\n",
       "    .dataframe tbody tr th:only-of-type {\n",
       "        vertical-align: middle;\n",
       "    }\n",
       "\n",
       "    .dataframe tbody tr th {\n",
       "        vertical-align: top;\n",
       "    }\n",
       "\n",
       "    .dataframe thead th {\n",
       "        text-align: right;\n",
       "    }\n",
       "</style>\n",
       "<table border=\"1\" class=\"dataframe\">\n",
       "  <thead>\n",
       "    <tr style=\"text-align: right;\">\n",
       "      <th></th>\n",
       "      <th>InvoiceNo</th>\n",
       "      <th>StockCode</th>\n",
       "      <th>Description</th>\n",
       "      <th>Quantity</th>\n",
       "      <th>InvoiceDate</th>\n",
       "      <th>UnitPrice</th>\n",
       "      <th>CustomerID</th>\n",
       "      <th>Country</th>\n",
       "      <th>TotalSales</th>\n",
       "      <th>DayOfWeek</th>\n",
       "    </tr>\n",
       "  </thead>\n",
       "  <tbody>\n",
       "    <tr>\n",
       "      <th>401599</th>\n",
       "      <td>581587</td>\n",
       "      <td>22613</td>\n",
       "      <td>PACK OF 20 SPACEBOY NAPKINS</td>\n",
       "      <td>12</td>\n",
       "      <td>2011-12-09 12:50:00</td>\n",
       "      <td>0.85</td>\n",
       "      <td>12680.0</td>\n",
       "      <td>France</td>\n",
       "      <td>10.20</td>\n",
       "      <td>Friday</td>\n",
       "    </tr>\n",
       "    <tr>\n",
       "      <th>401600</th>\n",
       "      <td>581587</td>\n",
       "      <td>22899</td>\n",
       "      <td>CHILDREN'S APRON DOLLY GIRL</td>\n",
       "      <td>6</td>\n",
       "      <td>2011-12-09 12:50:00</td>\n",
       "      <td>2.10</td>\n",
       "      <td>12680.0</td>\n",
       "      <td>France</td>\n",
       "      <td>12.60</td>\n",
       "      <td>Friday</td>\n",
       "    </tr>\n",
       "    <tr>\n",
       "      <th>401601</th>\n",
       "      <td>581587</td>\n",
       "      <td>23254</td>\n",
       "      <td>CHILDRENS CUTLERY DOLLY GIRL</td>\n",
       "      <td>4</td>\n",
       "      <td>2011-12-09 12:50:00</td>\n",
       "      <td>4.15</td>\n",
       "      <td>12680.0</td>\n",
       "      <td>France</td>\n",
       "      <td>16.60</td>\n",
       "      <td>Friday</td>\n",
       "    </tr>\n",
       "    <tr>\n",
       "      <th>401602</th>\n",
       "      <td>581587</td>\n",
       "      <td>23255</td>\n",
       "      <td>CHILDRENS CUTLERY CIRCUS PARADE</td>\n",
       "      <td>4</td>\n",
       "      <td>2011-12-09 12:50:00</td>\n",
       "      <td>4.15</td>\n",
       "      <td>12680.0</td>\n",
       "      <td>France</td>\n",
       "      <td>16.60</td>\n",
       "      <td>Friday</td>\n",
       "    </tr>\n",
       "    <tr>\n",
       "      <th>401603</th>\n",
       "      <td>581587</td>\n",
       "      <td>22138</td>\n",
       "      <td>BAKING SET 9 PIECE RETROSPOT</td>\n",
       "      <td>3</td>\n",
       "      <td>2011-12-09 12:50:00</td>\n",
       "      <td>4.95</td>\n",
       "      <td>12680.0</td>\n",
       "      <td>France</td>\n",
       "      <td>14.85</td>\n",
       "      <td>Friday</td>\n",
       "    </tr>\n",
       "  </tbody>\n",
       "</table>\n",
       "</div>"
      ],
      "text/plain": [
       "       InvoiceNo StockCode                      Description  Quantity  \\\n",
       "401599    581587     22613      PACK OF 20 SPACEBOY NAPKINS        12   \n",
       "401600    581587     22899     CHILDREN'S APRON DOLLY GIRL          6   \n",
       "401601    581587     23254    CHILDRENS CUTLERY DOLLY GIRL          4   \n",
       "401602    581587     23255  CHILDRENS CUTLERY CIRCUS PARADE         4   \n",
       "401603    581587     22138    BAKING SET 9 PIECE RETROSPOT          3   \n",
       "\n",
       "               InvoiceDate  UnitPrice  CustomerID Country  TotalSales  \\\n",
       "401599 2011-12-09 12:50:00       0.85     12680.0  France       10.20   \n",
       "401600 2011-12-09 12:50:00       2.10     12680.0  France       12.60   \n",
       "401601 2011-12-09 12:50:00       4.15     12680.0  France       16.60   \n",
       "401602 2011-12-09 12:50:00       4.15     12680.0  France       16.60   \n",
       "401603 2011-12-09 12:50:00       4.95     12680.0  France       14.85   \n",
       "\n",
       "       DayOfWeek  \n",
       "401599    Friday  \n",
       "401600    Friday  \n",
       "401601    Friday  \n",
       "401602    Friday  \n",
       "401603    Friday  "
      ]
     },
     "execution_count": 122,
     "metadata": {},
     "output_type": "execute_result"
    }
   ],
   "source": [
    "df.tail()"
   ]
  },
  {
   "cell_type": "code",
   "execution_count": 123,
   "id": "01a3aa13-2755-4332-a3f6-46ef24a30f47",
   "metadata": {},
   "outputs": [
    {
     "name": "stdout",
     "output_type": "stream",
     "text": [
      "<class 'pandas.core.frame.DataFrame'>\n",
      "Int64Index: 391183 entries, 0 to 401603\n",
      "Data columns (total 10 columns):\n",
      " #   Column       Non-Null Count   Dtype         \n",
      "---  ------       --------------   -----         \n",
      " 0   InvoiceNo    391183 non-null  object        \n",
      " 1   StockCode    391183 non-null  object        \n",
      " 2   Description  391183 non-null  object        \n",
      " 3   Quantity     391183 non-null  int64         \n",
      " 4   InvoiceDate  391183 non-null  datetime64[ns]\n",
      " 5   UnitPrice    391183 non-null  float64       \n",
      " 6   CustomerID   391183 non-null  float64       \n",
      " 7   Country      391183 non-null  object        \n",
      " 8   TotalSales   391183 non-null  float64       \n",
      " 9   DayOfWeek    391183 non-null  object        \n",
      "dtypes: datetime64[ns](1), float64(3), int64(1), object(5)\n",
      "memory usage: 32.8+ MB\n"
     ]
    }
   ],
   "source": [
    "# Basic information about the dataset\n",
    "df.info()"
   ]
  },
  {
   "cell_type": "raw",
   "id": "94da444e-ef49-4d4f-a6a3-cf65c208ddd5",
   "metadata": {
    "vscode": {
     "languageId": "raw"
    }
   },
   "source": [
    "Insights:\n",
    "\n",
    "1.Missing values are present in both CustomerID and Description.\n",
    "2.CustomerID, UnitPrice, and Quantity are numerical variables.\n",
    "3.InvoiceDate needs to be converted to datetime format.\n",
    "4.All remaining variables are categorical."
   ]
  },
  {
   "cell_type": "code",
   "execution_count": 124,
   "id": "3023aff6-6893-4568-8482-8f16a7fe11c9",
   "metadata": {},
   "outputs": [
    {
     "data": {
      "text/plain": [
       "(391183, 10)"
      ]
     },
     "execution_count": 124,
     "metadata": {},
     "output_type": "execute_result"
    }
   ],
   "source": [
    "df.shape"
   ]
  },
  {
   "cell_type": "code",
   "execution_count": 125,
   "id": "188c8921-d448-45e2-9975-5f5f6987b889",
   "metadata": {},
   "outputs": [
    {
     "data": {
      "text/html": [
       "<div>\n",
       "<style scoped>\n",
       "    .dataframe tbody tr th:only-of-type {\n",
       "        vertical-align: middle;\n",
       "    }\n",
       "\n",
       "    .dataframe tbody tr th {\n",
       "        vertical-align: top;\n",
       "    }\n",
       "\n",
       "    .dataframe thead th {\n",
       "        text-align: right;\n",
       "    }\n",
       "</style>\n",
       "<table border=\"1\" class=\"dataframe\">\n",
       "  <thead>\n",
       "    <tr style=\"text-align: right;\">\n",
       "      <th></th>\n",
       "      <th>count</th>\n",
       "      <th>mean</th>\n",
       "      <th>std</th>\n",
       "      <th>min</th>\n",
       "      <th>25%</th>\n",
       "      <th>50%</th>\n",
       "      <th>75%</th>\n",
       "      <th>max</th>\n",
       "    </tr>\n",
       "  </thead>\n",
       "  <tbody>\n",
       "    <tr>\n",
       "      <th>Quantity</th>\n",
       "      <td>391183.0</td>\n",
       "      <td>13.179665</td>\n",
       "      <td>181.907403</td>\n",
       "      <td>1.0</td>\n",
       "      <td>2.00</td>\n",
       "      <td>6.00</td>\n",
       "      <td>12.00</td>\n",
       "      <td>80995.0</td>\n",
       "    </tr>\n",
       "    <tr>\n",
       "      <th>UnitPrice</th>\n",
       "      <td>391183.0</td>\n",
       "      <td>2.874130</td>\n",
       "      <td>4.284639</td>\n",
       "      <td>0.0</td>\n",
       "      <td>1.25</td>\n",
       "      <td>1.95</td>\n",
       "      <td>3.75</td>\n",
       "      <td>649.5</td>\n",
       "    </tr>\n",
       "    <tr>\n",
       "      <th>CustomerID</th>\n",
       "      <td>391183.0</td>\n",
       "      <td>15295.083503</td>\n",
       "      <td>1710.359579</td>\n",
       "      <td>12346.0</td>\n",
       "      <td>13969.00</td>\n",
       "      <td>15158.00</td>\n",
       "      <td>16794.00</td>\n",
       "      <td>18287.0</td>\n",
       "    </tr>\n",
       "    <tr>\n",
       "      <th>TotalSales</th>\n",
       "      <td>391183.0</td>\n",
       "      <td>22.335397</td>\n",
       "      <td>310.919394</td>\n",
       "      <td>0.0</td>\n",
       "      <td>4.95</td>\n",
       "      <td>11.90</td>\n",
       "      <td>19.80</td>\n",
       "      <td>168469.6</td>\n",
       "    </tr>\n",
       "  </tbody>\n",
       "</table>\n",
       "</div>"
      ],
      "text/plain": [
       "               count          mean          std      min       25%       50%  \\\n",
       "Quantity    391183.0     13.179665   181.907403      1.0      2.00      6.00   \n",
       "UnitPrice   391183.0      2.874130     4.284639      0.0      1.25      1.95   \n",
       "CustomerID  391183.0  15295.083503  1710.359579  12346.0  13969.00  15158.00   \n",
       "TotalSales  391183.0     22.335397   310.919394      0.0      4.95     11.90   \n",
       "\n",
       "                 75%       max  \n",
       "Quantity       12.00   80995.0  \n",
       "UnitPrice       3.75     649.5  \n",
       "CustomerID  16794.00   18287.0  \n",
       "TotalSales     19.80  168469.6  "
      ]
     },
     "execution_count": 125,
     "metadata": {},
     "output_type": "execute_result"
    }
   ],
   "source": [
    "# Summary statistics for numerical variables\n",
    "df.describe().T"
   ]
  },
  {
   "cell_type": "raw",
   "id": "3e1f3228-5888-47ce-a400-a70c24e19f37",
   "metadata": {
    "vscode": {
     "languageId": "raw"
    }
   },
   "source": [
    "Insights:\n",
    "\n",
    "1.For Quantity and UnitPrice, the mean is greater than the median, indicating a right-skewed distribution caused by extreme outliers. \n",
    "This is also evident from the wide range between minimum and maximum values.\n",
    "2.The standard deviation of both Quantity and UnitPrice is relatively high, suggesting significant variation in the dataset.\n",
    "3.Negative values are present in Quantity and UnitPrice, which are unusual and should be investigated further."
   ]
  },
  {
   "cell_type": "code",
   "execution_count": 126,
   "id": "e03a2812-d3e7-4bac-9bee-a377475051c0",
   "metadata": {},
   "outputs": [
    {
     "data": {
      "text/html": [
       "<div>\n",
       "<style scoped>\n",
       "    .dataframe tbody tr th:only-of-type {\n",
       "        vertical-align: middle;\n",
       "    }\n",
       "\n",
       "    .dataframe tbody tr th {\n",
       "        vertical-align: top;\n",
       "    }\n",
       "\n",
       "    .dataframe thead th {\n",
       "        text-align: right;\n",
       "    }\n",
       "</style>\n",
       "<table border=\"1\" class=\"dataframe\">\n",
       "  <thead>\n",
       "    <tr style=\"text-align: right;\">\n",
       "      <th></th>\n",
       "      <th>count</th>\n",
       "      <th>unique</th>\n",
       "      <th>top</th>\n",
       "      <th>freq</th>\n",
       "    </tr>\n",
       "  </thead>\n",
       "  <tbody>\n",
       "    <tr>\n",
       "      <th>InvoiceNo</th>\n",
       "      <td>391183</td>\n",
       "      <td>18405</td>\n",
       "      <td>576339</td>\n",
       "      <td>541</td>\n",
       "    </tr>\n",
       "    <tr>\n",
       "      <th>StockCode</th>\n",
       "      <td>391183</td>\n",
       "      <td>3659</td>\n",
       "      <td>85123A</td>\n",
       "      <td>2023</td>\n",
       "    </tr>\n",
       "    <tr>\n",
       "      <th>Description</th>\n",
       "      <td>391183</td>\n",
       "      <td>3871</td>\n",
       "      <td>WHITE HANGING HEART T-LIGHT HOLDER</td>\n",
       "      <td>2016</td>\n",
       "    </tr>\n",
       "    <tr>\n",
       "      <th>Country</th>\n",
       "      <td>391183</td>\n",
       "      <td>37</td>\n",
       "      <td>United Kingdom</td>\n",
       "      <td>348892</td>\n",
       "    </tr>\n",
       "    <tr>\n",
       "      <th>DayOfWeek</th>\n",
       "      <td>391183</td>\n",
       "      <td>6</td>\n",
       "      <td>Thursday</td>\n",
       "      <td>78919</td>\n",
       "    </tr>\n",
       "  </tbody>\n",
       "</table>\n",
       "</div>"
      ],
      "text/plain": [
       "              count unique                                 top    freq\n",
       "InvoiceNo    391183  18405                              576339     541\n",
       "StockCode    391183   3659                              85123A    2023\n",
       "Description  391183   3871  WHITE HANGING HEART T-LIGHT HOLDER    2016\n",
       "Country      391183     37                      United Kingdom  348892\n",
       "DayOfWeek    391183      6                            Thursday   78919"
      ]
     },
     "execution_count": 126,
     "metadata": {},
     "output_type": "execute_result"
    }
   ],
   "source": [
    "# Summary statistics for categorical variables\n",
    "df.describe(include='object').T"
   ]
  },
  {
   "cell_type": "raw",
   "id": "1d3eb79f-e852-45c7-b704-6693eb40d22a",
   "metadata": {
    "vscode": {
     "languageId": "raw"
    }
   },
   "source": [
    "Insights:\n",
    "\n",
    "1.The number of unique InvoiceNo is much lower than the total count, indicating that a single invoice can contain multiple product orders.\n",
    "2.The number of unique StockCodes is lower than the number of unique Descriptions, suggesting that some products may have multiple descriptions.\n",
    "3.The e-commerce platform records transactions across 38 countries."
   ]
  },
  {
   "cell_type": "code",
   "execution_count": 127,
   "id": "453034aa-548f-4ea5-9b80-a4b7f941f07d",
   "metadata": {},
   "outputs": [
    {
     "data": {
      "text/plain": [
       "InvoiceNo      0\n",
       "StockCode      0\n",
       "Description    0\n",
       "Quantity       0\n",
       "InvoiceDate    0\n",
       "UnitPrice      0\n",
       "CustomerID     0\n",
       "Country        0\n",
       "TotalSales     0\n",
       "DayOfWeek      0\n",
       "dtype: int64"
      ]
     },
     "execution_count": 127,
     "metadata": {},
     "output_type": "execute_result"
    }
   ],
   "source": [
    "# Calculate the count of null-values for each column\n",
    "df.isnull().sum()"
   ]
  },
  {
   "cell_type": "code",
   "execution_count": 128,
   "id": "1e8f6783-7596-48d0-a3fb-b66d172ad2fd",
   "metadata": {},
   "outputs": [
    {
     "name": "stdout",
     "output_type": "stream",
     "text": [
      "The percentage of missing values in the CustomerID column is: 0.0 %\n"
     ]
    }
   ],
   "source": [
    "num = round((df[\"CustomerID\"].isnull().sum()*100)/len(df),2)\n",
    "print(\"The percentage of missing values in the CustomerID column is:\", num,'%')"
   ]
  },
  {
   "cell_type": "raw",
   "id": "c1533d1f-8161-40ec-9469-f3c9d886caff",
   "metadata": {
    "vscode": {
     "languageId": "raw"
    }
   },
   "source": [
    "Since this analysis will revolve around investigating customers and clustering them into categories, the missing values in the CustomerIDs should be removed.\n",
    "As a result a large chunk of the dataset should be removed. "
   ]
  },
  {
   "cell_type": "code",
   "execution_count": 129,
   "id": "d2d6e01a-c992-40b2-b3a5-45b93148fdeb",
   "metadata": {},
   "outputs": [],
   "source": [
    "# Removing null-values from the 'CustomerID' column\n",
    "df = df.dropna(subset = [\"CustomerID\"])"
   ]
  },
  {
   "cell_type": "code",
   "execution_count": 130,
   "id": "5219a6f0-3a94-4eff-84a7-3832120f1afc",
   "metadata": {},
   "outputs": [
    {
     "data": {
      "text/plain": [
       "InvoiceNo      0\n",
       "StockCode      0\n",
       "Description    0\n",
       "Quantity       0\n",
       "InvoiceDate    0\n",
       "UnitPrice      0\n",
       "CustomerID     0\n",
       "Country        0\n",
       "TotalSales     0\n",
       "DayOfWeek      0\n",
       "dtype: int64"
      ]
     },
     "execution_count": 130,
     "metadata": {},
     "output_type": "execute_result"
    }
   ],
   "source": [
    "# Verifying the removal of missing values \n",
    "df.isnull().sum()"
   ]
  },
  {
   "cell_type": "raw",
   "id": "abf789ef-0456-479b-8bb6-42150b9dfa25",
   "metadata": {},
   "source": [
    "Insights: Removing the null values in the CustomerID also removes the ones in the Description column. "
   ]
  },
  {
   "cell_type": "code",
   "execution_count": null,
   "id": "b237e6b3-7565-48bd-8a6e-b493b3f6994c",
   "metadata": {},
   "outputs": [
    {
     "data": {
      "text/plain": [
       "(391183, 10)"
      ]
     },
     "execution_count": 131,
     "metadata": {},
     "output_type": "execute_result"
    }
   ],
   "source": [
    "df.shape"
   ]
  },
  {
   "cell_type": "code",
   "execution_count": 132,
   "id": "56cc56cb-a895-445a-be53-acd947029005",
   "metadata": {},
   "outputs": [
    {
     "name": "stdout",
     "output_type": "stream",
     "text": [
      "0\n"
     ]
    }
   ],
   "source": [
    "# Check for duplicate rows\n",
    "duplicates = df.duplicated()\n",
    "\n",
    "# Count the number of duplicate rows\n",
    "print(duplicates.sum())"
   ]
  },
  {
   "cell_type": "code",
   "execution_count": 133,
   "id": "da72ba4c-e4f3-4d67-a9a5-9b922b155df5",
   "metadata": {},
   "outputs": [
    {
     "data": {
      "text/html": [
       "<div>\n",
       "<style scoped>\n",
       "    .dataframe tbody tr th:only-of-type {\n",
       "        vertical-align: middle;\n",
       "    }\n",
       "\n",
       "    .dataframe tbody tr th {\n",
       "        vertical-align: top;\n",
       "    }\n",
       "\n",
       "    .dataframe thead th {\n",
       "        text-align: right;\n",
       "    }\n",
       "</style>\n",
       "<table border=\"1\" class=\"dataframe\">\n",
       "  <thead>\n",
       "    <tr style=\"text-align: right;\">\n",
       "      <th></th>\n",
       "      <th>InvoiceNo</th>\n",
       "      <th>StockCode</th>\n",
       "      <th>Description</th>\n",
       "      <th>Quantity</th>\n",
       "      <th>InvoiceDate</th>\n",
       "      <th>UnitPrice</th>\n",
       "      <th>CustomerID</th>\n",
       "      <th>Country</th>\n",
       "      <th>TotalSales</th>\n",
       "      <th>DayOfWeek</th>\n",
       "    </tr>\n",
       "  </thead>\n",
       "  <tbody>\n",
       "  </tbody>\n",
       "</table>\n",
       "</div>"
      ],
      "text/plain": [
       "Empty DataFrame\n",
       "Columns: [InvoiceNo, StockCode, Description, Quantity, InvoiceDate, UnitPrice, CustomerID, Country, TotalSales, DayOfWeek]\n",
       "Index: []"
      ]
     },
     "execution_count": 133,
     "metadata": {},
     "output_type": "execute_result"
    }
   ],
   "source": [
    "df[duplicates]"
   ]
  },
  {
   "cell_type": "code",
   "execution_count": 134,
   "id": "4ac4dba1-341c-40f6-9352-fcd95fe70036",
   "metadata": {},
   "outputs": [],
   "source": [
    "# Remove duplicates, keeping the first occurence\n",
    "df = df.drop_duplicates()"
   ]
  },
  {
   "cell_type": "code",
   "execution_count": 135,
   "id": "f7438133-b798-48ef-92fa-7f36213b89be",
   "metadata": {},
   "outputs": [],
   "source": [
    "# Reset the index after dropping duplicates\n",
    "# Here drop = True removes the previous indices\n",
    "df.reset_index(drop=True, inplace=True)"
   ]
  },
  {
   "cell_type": "code",
   "execution_count": 136,
   "id": "98a3b6b6-5b36-4922-a559-a4618a724411",
   "metadata": {},
   "outputs": [
    {
     "data": {
      "text/plain": [
       "(391183, 10)"
      ]
     },
     "execution_count": 136,
     "metadata": {},
     "output_type": "execute_result"
    }
   ],
   "source": [
    "# Checking the shape after droping the duplicates\n",
    "df.shape"
   ]
  },
  {
   "cell_type": "code",
   "execution_count": 137,
   "id": "dc6c48e2-6de6-47ab-adec-8b23d326c93b",
   "metadata": {},
   "outputs": [
    {
     "data": {
      "text/html": [
       "<div>\n",
       "<style scoped>\n",
       "    .dataframe tbody tr th:only-of-type {\n",
       "        vertical-align: middle;\n",
       "    }\n",
       "\n",
       "    .dataframe tbody tr th {\n",
       "        vertical-align: top;\n",
       "    }\n",
       "\n",
       "    .dataframe thead th {\n",
       "        text-align: right;\n",
       "    }\n",
       "</style>\n",
       "<table border=\"1\" class=\"dataframe\">\n",
       "  <thead>\n",
       "    <tr style=\"text-align: right;\">\n",
       "      <th></th>\n",
       "      <th>InvoiceNo</th>\n",
       "      <th>StockCode</th>\n",
       "      <th>Description</th>\n",
       "      <th>Quantity</th>\n",
       "      <th>InvoiceDate</th>\n",
       "      <th>UnitPrice</th>\n",
       "      <th>CustomerID</th>\n",
       "      <th>Country</th>\n",
       "      <th>TotalSales</th>\n",
       "      <th>DayOfWeek</th>\n",
       "    </tr>\n",
       "  </thead>\n",
       "  <tbody>\n",
       "    <tr>\n",
       "      <th>0</th>\n",
       "      <td>536365</td>\n",
       "      <td>85123A</td>\n",
       "      <td>WHITE HANGING HEART T-LIGHT HOLDER</td>\n",
       "      <td>6</td>\n",
       "      <td>2010-12-01 08:26:00</td>\n",
       "      <td>2.55</td>\n",
       "      <td>17850.0</td>\n",
       "      <td>United Kingdom</td>\n",
       "      <td>15.30</td>\n",
       "      <td>Wednesday</td>\n",
       "    </tr>\n",
       "    <tr>\n",
       "      <th>1</th>\n",
       "      <td>536365</td>\n",
       "      <td>71053</td>\n",
       "      <td>WHITE METAL LANTERN</td>\n",
       "      <td>6</td>\n",
       "      <td>2010-12-01 08:26:00</td>\n",
       "      <td>3.39</td>\n",
       "      <td>17850.0</td>\n",
       "      <td>United Kingdom</td>\n",
       "      <td>20.34</td>\n",
       "      <td>Wednesday</td>\n",
       "    </tr>\n",
       "    <tr>\n",
       "      <th>2</th>\n",
       "      <td>536365</td>\n",
       "      <td>84406B</td>\n",
       "      <td>CREAM CUPID HEARTS COAT HANGER</td>\n",
       "      <td>8</td>\n",
       "      <td>2010-12-01 08:26:00</td>\n",
       "      <td>2.75</td>\n",
       "      <td>17850.0</td>\n",
       "      <td>United Kingdom</td>\n",
       "      <td>22.00</td>\n",
       "      <td>Wednesday</td>\n",
       "    </tr>\n",
       "    <tr>\n",
       "      <th>3</th>\n",
       "      <td>536365</td>\n",
       "      <td>84029G</td>\n",
       "      <td>KNITTED UNION FLAG HOT WATER BOTTLE</td>\n",
       "      <td>6</td>\n",
       "      <td>2010-12-01 08:26:00</td>\n",
       "      <td>3.39</td>\n",
       "      <td>17850.0</td>\n",
       "      <td>United Kingdom</td>\n",
       "      <td>20.34</td>\n",
       "      <td>Wednesday</td>\n",
       "    </tr>\n",
       "    <tr>\n",
       "      <th>4</th>\n",
       "      <td>536365</td>\n",
       "      <td>84029E</td>\n",
       "      <td>RED WOOLLY HOTTIE WHITE HEART.</td>\n",
       "      <td>6</td>\n",
       "      <td>2010-12-01 08:26:00</td>\n",
       "      <td>3.39</td>\n",
       "      <td>17850.0</td>\n",
       "      <td>United Kingdom</td>\n",
       "      <td>20.34</td>\n",
       "      <td>Wednesday</td>\n",
       "    </tr>\n",
       "  </tbody>\n",
       "</table>\n",
       "</div>"
      ],
      "text/plain": [
       "  InvoiceNo StockCode                          Description  Quantity  \\\n",
       "0    536365    85123A   WHITE HANGING HEART T-LIGHT HOLDER         6   \n",
       "1    536365     71053                  WHITE METAL LANTERN         6   \n",
       "2    536365    84406B       CREAM CUPID HEARTS COAT HANGER         8   \n",
       "3    536365    84029G  KNITTED UNION FLAG HOT WATER BOTTLE         6   \n",
       "4    536365    84029E       RED WOOLLY HOTTIE WHITE HEART.         6   \n",
       "\n",
       "          InvoiceDate  UnitPrice  CustomerID         Country  TotalSales  \\\n",
       "0 2010-12-01 08:26:00       2.55     17850.0  United Kingdom       15.30   \n",
       "1 2010-12-01 08:26:00       3.39     17850.0  United Kingdom       20.34   \n",
       "2 2010-12-01 08:26:00       2.75     17850.0  United Kingdom       22.00   \n",
       "3 2010-12-01 08:26:00       3.39     17850.0  United Kingdom       20.34   \n",
       "4 2010-12-01 08:26:00       3.39     17850.0  United Kingdom       20.34   \n",
       "\n",
       "   DayOfWeek  \n",
       "0  Wednesday  \n",
       "1  Wednesday  \n",
       "2  Wednesday  \n",
       "3  Wednesday  \n",
       "4  Wednesday  "
      ]
     },
     "execution_count": 137,
     "metadata": {},
     "output_type": "execute_result"
    }
   ],
   "source": [
    "df.head()"
   ]
  },
  {
   "cell_type": "code",
   "execution_count": 138,
   "id": "e2597f03-61c9-487c-98ea-91e83a3aa892",
   "metadata": {},
   "outputs": [
    {
     "data": {
      "text/plain": [
       "0"
      ]
     },
     "execution_count": 138,
     "metadata": {},
     "output_type": "execute_result"
    }
   ],
   "source": [
    "# Count of rows for which quantity is less than 0\n",
    "df[df[\"Quantity\"] < 0].shape[0]"
   ]
  },
  {
   "cell_type": "code",
   "execution_count": 139,
   "id": "39936be0-6f0f-4285-8d73-de75071afbd3",
   "metadata": {},
   "outputs": [
    {
     "data": {
      "text/html": [
       "<div>\n",
       "<style scoped>\n",
       "    .dataframe tbody tr th:only-of-type {\n",
       "        vertical-align: middle;\n",
       "    }\n",
       "\n",
       "    .dataframe tbody tr th {\n",
       "        vertical-align: top;\n",
       "    }\n",
       "\n",
       "    .dataframe thead th {\n",
       "        text-align: right;\n",
       "    }\n",
       "</style>\n",
       "<table border=\"1\" class=\"dataframe\">\n",
       "  <thead>\n",
       "    <tr style=\"text-align: right;\">\n",
       "      <th></th>\n",
       "      <th>InvoiceNo</th>\n",
       "      <th>StockCode</th>\n",
       "      <th>Description</th>\n",
       "      <th>Quantity</th>\n",
       "      <th>InvoiceDate</th>\n",
       "      <th>UnitPrice</th>\n",
       "      <th>CustomerID</th>\n",
       "      <th>Country</th>\n",
       "      <th>TotalSales</th>\n",
       "      <th>DayOfWeek</th>\n",
       "    </tr>\n",
       "  </thead>\n",
       "  <tbody>\n",
       "  </tbody>\n",
       "</table>\n",
       "</div>"
      ],
      "text/plain": [
       "Empty DataFrame\n",
       "Columns: [InvoiceNo, StockCode, Description, Quantity, InvoiceDate, UnitPrice, CustomerID, Country, TotalSales, DayOfWeek]\n",
       "Index: []"
      ]
     },
     "execution_count": 139,
     "metadata": {},
     "output_type": "execute_result"
    }
   ],
   "source": [
    "# Exploring the rows for which quantity is less than 0\n",
    "df[df[\"Quantity\"] < 0]"
   ]
  },
  {
   "cell_type": "code",
   "execution_count": 140,
   "id": "9606d7ab-d6b1-40e7-8b96-0a41c73b4c2b",
   "metadata": {},
   "outputs": [],
   "source": [
    "# Store negative quantity rows in df1\n",
    "# These will be required if we want to analyse the cancelled orders later-on\n",
    "df_cancelled = df[df[\"Quantity\"] < 0]"
   ]
  },
  {
   "cell_type": "code",
   "execution_count": 141,
   "id": "05832359-0a96-4171-9665-474b2db788a4",
   "metadata": {},
   "outputs": [
    {
     "data": {
      "text/plain": [
       "(0, 10)"
      ]
     },
     "execution_count": 141,
     "metadata": {},
     "output_type": "execute_result"
    }
   ],
   "source": [
    "df_cancelled.shape"
   ]
  },
  {
   "cell_type": "raw",
   "id": "85f2790f-8617-4b2a-908c-7be824565c2a",
   "metadata": {},
   "source": [
    "Insights: If we look at the InvoiceNo, all of them starts with the letter 'C' which suggests it is a cancelled order. We can further investigate the cancelled orders, but for now we can remove them. "
   ]
  },
  {
   "cell_type": "code",
   "execution_count": 142,
   "id": "6a15ea6b-f32a-4072-9016-212b1240b394",
   "metadata": {},
   "outputs": [],
   "source": [
    "# Keep only rows with Quantity ≥ 0\n",
    "df = df[df[\"Quantity\"] >= 0]"
   ]
  },
  {
   "cell_type": "code",
   "execution_count": 143,
   "id": "dce8d37b-1dc1-49a0-822b-61f4810fcce3",
   "metadata": {},
   "outputs": [
    {
     "data": {
      "text/plain": [
       "(391183, 10)"
      ]
     },
     "execution_count": 143,
     "metadata": {},
     "output_type": "execute_result"
    }
   ],
   "source": [
    "# Checking the shape of the orginal dataframe\n",
    "df.shape"
   ]
  },
  {
   "cell_type": "code",
   "execution_count": 144,
   "id": "d7e1ae16-a198-455b-b15b-3eb6318c3721",
   "metadata": {},
   "outputs": [
    {
     "data": {
      "text/html": [
       "<div>\n",
       "<style scoped>\n",
       "    .dataframe tbody tr th:only-of-type {\n",
       "        vertical-align: middle;\n",
       "    }\n",
       "\n",
       "    .dataframe tbody tr th {\n",
       "        vertical-align: top;\n",
       "    }\n",
       "\n",
       "    .dataframe thead th {\n",
       "        text-align: right;\n",
       "    }\n",
       "</style>\n",
       "<table border=\"1\" class=\"dataframe\">\n",
       "  <thead>\n",
       "    <tr style=\"text-align: right;\">\n",
       "      <th></th>\n",
       "      <th>count</th>\n",
       "      <th>mean</th>\n",
       "      <th>std</th>\n",
       "      <th>min</th>\n",
       "      <th>25%</th>\n",
       "      <th>50%</th>\n",
       "      <th>75%</th>\n",
       "      <th>max</th>\n",
       "    </tr>\n",
       "  </thead>\n",
       "  <tbody>\n",
       "    <tr>\n",
       "      <th>Quantity</th>\n",
       "      <td>391183.0</td>\n",
       "      <td>13.179665</td>\n",
       "      <td>181.907403</td>\n",
       "      <td>1.0</td>\n",
       "      <td>2.00</td>\n",
       "      <td>6.00</td>\n",
       "      <td>12.00</td>\n",
       "      <td>80995.0</td>\n",
       "    </tr>\n",
       "    <tr>\n",
       "      <th>UnitPrice</th>\n",
       "      <td>391183.0</td>\n",
       "      <td>2.874130</td>\n",
       "      <td>4.284639</td>\n",
       "      <td>0.0</td>\n",
       "      <td>1.25</td>\n",
       "      <td>1.95</td>\n",
       "      <td>3.75</td>\n",
       "      <td>649.5</td>\n",
       "    </tr>\n",
       "    <tr>\n",
       "      <th>CustomerID</th>\n",
       "      <td>391183.0</td>\n",
       "      <td>15295.083503</td>\n",
       "      <td>1710.359579</td>\n",
       "      <td>12346.0</td>\n",
       "      <td>13969.00</td>\n",
       "      <td>15158.00</td>\n",
       "      <td>16794.00</td>\n",
       "      <td>18287.0</td>\n",
       "    </tr>\n",
       "    <tr>\n",
       "      <th>TotalSales</th>\n",
       "      <td>391183.0</td>\n",
       "      <td>22.335397</td>\n",
       "      <td>310.919394</td>\n",
       "      <td>0.0</td>\n",
       "      <td>4.95</td>\n",
       "      <td>11.90</td>\n",
       "      <td>19.80</td>\n",
       "      <td>168469.6</td>\n",
       "    </tr>\n",
       "  </tbody>\n",
       "</table>\n",
       "</div>"
      ],
      "text/plain": [
       "               count          mean          std      min       25%       50%  \\\n",
       "Quantity    391183.0     13.179665   181.907403      1.0      2.00      6.00   \n",
       "UnitPrice   391183.0      2.874130     4.284639      0.0      1.25      1.95   \n",
       "CustomerID  391183.0  15295.083503  1710.359579  12346.0  13969.00  15158.00   \n",
       "TotalSales  391183.0     22.335397   310.919394      0.0      4.95     11.90   \n",
       "\n",
       "                 75%       max  \n",
       "Quantity       12.00   80995.0  \n",
       "UnitPrice       3.75     649.5  \n",
       "CustomerID  16794.00   18287.0  \n",
       "TotalSales     19.80  168469.6  "
      ]
     },
     "execution_count": 144,
     "metadata": {},
     "output_type": "execute_result"
    }
   ],
   "source": [
    "df.describe().T"
   ]
  },
  {
   "cell_type": "code",
   "execution_count": 145,
   "id": "4b44c22c-4eb6-4617-b694-0bf83384fa39",
   "metadata": {},
   "outputs": [
    {
     "data": {
      "text/html": [
       "<div>\n",
       "<style scoped>\n",
       "    .dataframe tbody tr th:only-of-type {\n",
       "        vertical-align: middle;\n",
       "    }\n",
       "\n",
       "    .dataframe tbody tr th {\n",
       "        vertical-align: top;\n",
       "    }\n",
       "\n",
       "    .dataframe thead th {\n",
       "        text-align: right;\n",
       "    }\n",
       "</style>\n",
       "<table border=\"1\" class=\"dataframe\">\n",
       "  <thead>\n",
       "    <tr style=\"text-align: right;\">\n",
       "      <th></th>\n",
       "      <th>count</th>\n",
       "      <th>unique</th>\n",
       "      <th>top</th>\n",
       "      <th>freq</th>\n",
       "    </tr>\n",
       "  </thead>\n",
       "  <tbody>\n",
       "    <tr>\n",
       "      <th>InvoiceNo</th>\n",
       "      <td>391183</td>\n",
       "      <td>18405</td>\n",
       "      <td>576339</td>\n",
       "      <td>541</td>\n",
       "    </tr>\n",
       "    <tr>\n",
       "      <th>StockCode</th>\n",
       "      <td>391183</td>\n",
       "      <td>3659</td>\n",
       "      <td>85123A</td>\n",
       "      <td>2023</td>\n",
       "    </tr>\n",
       "    <tr>\n",
       "      <th>Description</th>\n",
       "      <td>391183</td>\n",
       "      <td>3871</td>\n",
       "      <td>WHITE HANGING HEART T-LIGHT HOLDER</td>\n",
       "      <td>2016</td>\n",
       "    </tr>\n",
       "    <tr>\n",
       "      <th>Country</th>\n",
       "      <td>391183</td>\n",
       "      <td>37</td>\n",
       "      <td>United Kingdom</td>\n",
       "      <td>348892</td>\n",
       "    </tr>\n",
       "    <tr>\n",
       "      <th>DayOfWeek</th>\n",
       "      <td>391183</td>\n",
       "      <td>6</td>\n",
       "      <td>Thursday</td>\n",
       "      <td>78919</td>\n",
       "    </tr>\n",
       "  </tbody>\n",
       "</table>\n",
       "</div>"
      ],
      "text/plain": [
       "              count unique                                 top    freq\n",
       "InvoiceNo    391183  18405                              576339     541\n",
       "StockCode    391183   3659                              85123A    2023\n",
       "Description  391183   3871  WHITE HANGING HEART T-LIGHT HOLDER    2016\n",
       "Country      391183     37                      United Kingdom  348892\n",
       "DayOfWeek    391183      6                            Thursday   78919"
      ]
     },
     "execution_count": 145,
     "metadata": {},
     "output_type": "execute_result"
    }
   ],
   "source": [
    "df.describe(include='object').T"
   ]
  },
  {
   "cell_type": "markdown",
   "id": "ddfea0b6-2592-4802-ac52-c25afa400feb",
   "metadata": {},
   "source": [
    "### Exploring Quantity"
   ]
  },
  {
   "cell_type": "code",
   "execution_count": 146,
   "id": "e1feca68-52e0-41e2-b99e-c1ee6011d6be",
   "metadata": {},
   "outputs": [
    {
     "data": {
      "image/png": "[encoded data removed]",
      "text/plain": [
       "<Figure size 1000x600 with 1 Axes>"
      ]
     },
     "metadata": {},
     "output_type": "display_data"
    }
   ],
   "source": [
    "# Boxplot of quantity\n",
    "plt.figure(figsize=(10, 6))\n",
    "sns.boxplot(y=df[\"Quantity\"])\n",
    "plt.title(\"Box Plot of Quantity\")\n",
    "plt.ylabel(\"Quantity\")\n",
    "plt.show()"
   ]
  },
  {
   "cell_type": "raw",
   "id": "6a509145-6e18-43f4-8073-6716178a5e4f",
   "metadata": {
    "vscode": {
     "languageId": "raw"
    }
   },
   "source": [
    "Insights: \n",
    "1. Presence of extreme outliers. The maximum value for quantity is 80,995 which should be identified. \n",
    "2. If we want to remove the outliers:\n",
    "IQR = Q3 - Q1 = 12.0 - 2.0 = 10.0\n",
    "\n",
    "Outliers > Q3 + 1.5(IQR)\n",
    "or, Outliers > 12 + 15\n",
    "or, Outliers > 27"
   ]
  },
  {
   "cell_type": "code",
   "execution_count": 147,
   "id": "86a770eb-5d40-4856-a442-ec408c0053c2",
   "metadata": {},
   "outputs": [
    {
     "data": {
      "text/html": [
       "<div>\n",
       "<style scoped>\n",
       "    .dataframe tbody tr th:only-of-type {\n",
       "        vertical-align: middle;\n",
       "    }\n",
       "\n",
       "    .dataframe tbody tr th {\n",
       "        vertical-align: top;\n",
       "    }\n",
       "\n",
       "    .dataframe thead th {\n",
       "        text-align: right;\n",
       "    }\n",
       "</style>\n",
       "<table border=\"1\" class=\"dataframe\">\n",
       "  <thead>\n",
       "    <tr style=\"text-align: right;\">\n",
       "      <th></th>\n",
       "      <th>InvoiceNo</th>\n",
       "      <th>StockCode</th>\n",
       "      <th>Description</th>\n",
       "      <th>Quantity</th>\n",
       "      <th>InvoiceDate</th>\n",
       "      <th>UnitPrice</th>\n",
       "      <th>CustomerID</th>\n",
       "      <th>Country</th>\n",
       "      <th>TotalSales</th>\n",
       "      <th>DayOfWeek</th>\n",
       "    </tr>\n",
       "  </thead>\n",
       "  <tbody>\n",
       "    <tr>\n",
       "      <th>390722</th>\n",
       "      <td>581483</td>\n",
       "      <td>23843</td>\n",
       "      <td>PAPER CRAFT , LITTLE BIRDIE</td>\n",
       "      <td>80995</td>\n",
       "      <td>2011-12-09 09:15:00</td>\n",
       "      <td>2.08</td>\n",
       "      <td>16446.0</td>\n",
       "      <td>United Kingdom</td>\n",
       "      <td>168469.6</td>\n",
       "      <td>Friday</td>\n",
       "    </tr>\n",
       "  </tbody>\n",
       "</table>\n",
       "</div>"
      ],
      "text/plain": [
       "       InvoiceNo StockCode                  Description  Quantity  \\\n",
       "390722    581483     23843  PAPER CRAFT , LITTLE BIRDIE     80995   \n",
       "\n",
       "               InvoiceDate  UnitPrice  CustomerID         Country  TotalSales  \\\n",
       "390722 2011-12-09 09:15:00       2.08     16446.0  United Kingdom    168469.6   \n",
       "\n",
       "       DayOfWeek  \n",
       "390722    Friday  "
      ]
     },
     "execution_count": 147,
     "metadata": {},
     "output_type": "execute_result"
    }
   ],
   "source": [
    "# Checking the details of the order containing maximum quantity\n",
    "df[df[\"Quantity\"] == 80995]"
   ]
  },
  {
   "cell_type": "code",
   "execution_count": 148,
   "id": "d3292d1c-7411-474a-ad78-ed1a629af2ff",
   "metadata": {},
   "outputs": [
    {
     "data": {
      "text/html": [
       "<div>\n",
       "<style scoped>\n",
       "    .dataframe tbody tr th:only-of-type {\n",
       "        vertical-align: middle;\n",
       "    }\n",
       "\n",
       "    .dataframe tbody tr th {\n",
       "        vertical-align: top;\n",
       "    }\n",
       "\n",
       "    .dataframe thead th {\n",
       "        text-align: right;\n",
       "    }\n",
       "</style>\n",
       "<table border=\"1\" class=\"dataframe\">\n",
       "  <thead>\n",
       "    <tr style=\"text-align: right;\">\n",
       "      <th></th>\n",
       "      <th>InvoiceNo</th>\n",
       "      <th>StockCode</th>\n",
       "      <th>Description</th>\n",
       "      <th>Quantity</th>\n",
       "      <th>InvoiceDate</th>\n",
       "      <th>UnitPrice</th>\n",
       "      <th>CustomerID</th>\n",
       "      <th>Country</th>\n",
       "      <th>TotalSales</th>\n",
       "      <th>DayOfWeek</th>\n",
       "    </tr>\n",
       "  </thead>\n",
       "  <tbody>\n",
       "    <tr>\n",
       "      <th>131622</th>\n",
       "      <td>553573</td>\n",
       "      <td>22980</td>\n",
       "      <td>PANTRY SCRUBBING BRUSH</td>\n",
       "      <td>1</td>\n",
       "      <td>2011-05-18 09:52:00</td>\n",
       "      <td>1.65</td>\n",
       "      <td>16446.0</td>\n",
       "      <td>United Kingdom</td>\n",
       "      <td>1.65</td>\n",
       "      <td>Wednesday</td>\n",
       "    </tr>\n",
       "    <tr>\n",
       "      <th>131623</th>\n",
       "      <td>553573</td>\n",
       "      <td>22982</td>\n",
       "      <td>PANTRY PASTRY BRUSH</td>\n",
       "      <td>1</td>\n",
       "      <td>2011-05-18 09:52:00</td>\n",
       "      <td>1.25</td>\n",
       "      <td>16446.0</td>\n",
       "      <td>United Kingdom</td>\n",
       "      <td>1.25</td>\n",
       "      <td>Wednesday</td>\n",
       "    </tr>\n",
       "    <tr>\n",
       "      <th>390722</th>\n",
       "      <td>581483</td>\n",
       "      <td>23843</td>\n",
       "      <td>PAPER CRAFT , LITTLE BIRDIE</td>\n",
       "      <td>80995</td>\n",
       "      <td>2011-12-09 09:15:00</td>\n",
       "      <td>2.08</td>\n",
       "      <td>16446.0</td>\n",
       "      <td>United Kingdom</td>\n",
       "      <td>168469.60</td>\n",
       "      <td>Friday</td>\n",
       "    </tr>\n",
       "  </tbody>\n",
       "</table>\n",
       "</div>"
      ],
      "text/plain": [
       "       InvoiceNo StockCode                  Description  Quantity  \\\n",
       "131622    553573     22980       PANTRY SCRUBBING BRUSH         1   \n",
       "131623    553573     22982          PANTRY PASTRY BRUSH         1   \n",
       "390722    581483     23843  PAPER CRAFT , LITTLE BIRDIE     80995   \n",
       "\n",
       "               InvoiceDate  UnitPrice  CustomerID         Country  TotalSales  \\\n",
       "131622 2011-05-18 09:52:00       1.65     16446.0  United Kingdom        1.65   \n",
       "131623 2011-05-18 09:52:00       1.25     16446.0  United Kingdom        1.25   \n",
       "390722 2011-12-09 09:15:00       2.08     16446.0  United Kingdom   168469.60   \n",
       "\n",
       "        DayOfWeek  \n",
       "131622  Wednesday  \n",
       "131623  Wednesday  \n",
       "390722     Friday  "
      ]
     },
     "execution_count": 148,
     "metadata": {},
     "output_type": "execute_result"
    }
   ],
   "source": [
    "# Checking if this customer has orderd anything else\n",
    "df[df[\"CustomerID\"] == 16446.0]"
   ]
  },
  {
   "cell_type": "raw",
   "id": "d51dd76f-5e3f-4253-b0b6-e2d0bef22599",
   "metadata": {},
   "source": [
    "Insights: The customer(CustomerID: 16446) has placed 3 orders. But the other two orders have only one quantity. Need to report this.  "
   ]
  },
  {
   "cell_type": "code",
   "execution_count": 149,
   "id": "1fde104b-40c0-4694-aa5d-7ba988d3f9e3",
   "metadata": {},
   "outputs": [
    {
     "data": {
      "text/plain": [
       "(378697, 10)"
      ]
     },
     "execution_count": 149,
     "metadata": {},
     "output_type": "execute_result"
    }
   ],
   "source": [
    "# Excluding some outliers\n",
    "df2 = df[df[\"Quantity\"] < 50]\n",
    "df2.shape"
   ]
  },
  {
   "cell_type": "code",
   "execution_count": 150,
   "id": "11dfe0f9-e2ab-40e2-968f-d409ac93dcc7",
   "metadata": {},
   "outputs": [
    {
     "data": {
      "image/png": "[encoded data removed]",
      "text/plain": [
       "<Figure size 1000x600 with 1 Axes>"
      ]
     },
     "metadata": {},
     "output_type": "display_data"
    }
   ],
   "source": [
    "# Boxplot after excluding outliers\n",
    "plt.figure(figsize=(10, 6))\n",
    "sns.boxplot(y=df2[\"Quantity\"])\n",
    "plt.title(\"Box Plot of Quantity\")\n",
    "plt.ylabel(\"Quantity\")\n",
    "plt.show()"
   ]
  },
  {
   "cell_type": "code",
   "execution_count": 189,
   "id": "014a201f-4ddc-477c-bc99-d1dd25e778c2",
   "metadata": {},
   "outputs": [
    {
     "data": {
      "image/png": "[encoded data removed]",
      "text/plain": [
       "<Figure size 1000x600 with 1 Axes>"
      ]
     },
     "metadata": {},
     "output_type": "display_data"
    }
   ],
   "source": [
    "# Hisplot for checking the distribution\n",
    "plt.figure(figsize=(10, 6))\n",
    "sns.histplot(df2[\"Quantity\"], bins=20, kde=True, color=\"blue\", alpha=0.2)\n",
    "plt.show()"
   ]
  },
  {
   "cell_type": "raw",
   "id": "6f1bb440-8e1d-4c03-9214-8a3b352a6508",
   "metadata": {},
   "source": [
    "Insights: Most of orders have lesser no. of quantities. The no. of large quantities are significantly low. "
   ]
  },
  {
   "cell_type": "markdown",
   "id": "8c51bd77-49e3-4a41-8c87-ffa67bb7ab81",
   "metadata": {},
   "source": [
    "### Exploring Unit Price"
   ]
  },
  {
   "cell_type": "code",
   "execution_count": 152,
   "id": "ec7ac64a-0ef3-4d33-bcf1-1e69b4d82a3f",
   "metadata": {},
   "outputs": [
    {
     "data": {
      "image/png": "[encoded data removed]",
      "text/plain": [
       "<Figure size 1000x600 with 1 Axes>"
      ]
     },
     "metadata": {},
     "output_type": "display_data"
    }
   ],
   "source": [
    "# Boxplot of Unit Price\n",
    "plt.figure(figsize=(10,6))\n",
    "sns.boxplot(y=df[\"UnitPrice\"])\n",
    "plt.title(\"Box Plot of UnitPrice\")\n",
    "plt.ylabel(\"UnitPrice\")\n",
    "plt.show()"
   ]
  },
  {
   "cell_type": "raw",
   "id": "9a527aaa-19c9-443d-a4db-121325dcf05e",
   "metadata": {
    "vscode": {
     "languageId": "raw"
    }
   },
   "source": [
    "Insights: \n",
    "1. Presence of extreme outliers. The maximum value for UnitPrice is 8142.75 which should be identified. \n",
    "2. If we want to remove the outliers:\n",
    "IQR = Q3 - Q1 = 3.75 - 1.25 = 2.50\n",
    "\n",
    "Outliers > Q3 + 1.5(IQR)\n",
    "or, Outliers > 3.75 + 3.75\n",
    "or, Outliers > 3.75"
   ]
  },
  {
   "cell_type": "code",
   "execution_count": 190,
   "id": "48029257-1912-488d-acf2-85d0102889e4",
   "metadata": {},
   "outputs": [
    {
     "data": {
      "text/html": [
       "<div>\n",
       "<style scoped>\n",
       "    .dataframe tbody tr th:only-of-type {\n",
       "        vertical-align: middle;\n",
       "    }\n",
       "\n",
       "    .dataframe tbody tr th {\n",
       "        vertical-align: top;\n",
       "    }\n",
       "\n",
       "    .dataframe thead th {\n",
       "        text-align: right;\n",
       "    }\n",
       "</style>\n",
       "<table border=\"1\" class=\"dataframe\">\n",
       "  <thead>\n",
       "    <tr style=\"text-align: right;\">\n",
       "      <th></th>\n",
       "      <th>InvoiceNo</th>\n",
       "      <th>StockCode</th>\n",
       "      <th>Description</th>\n",
       "      <th>Quantity</th>\n",
       "      <th>InvoiceDate</th>\n",
       "      <th>UnitPrice</th>\n",
       "      <th>CustomerID</th>\n",
       "      <th>Country</th>\n",
       "      <th>TotalSales</th>\n",
       "      <th>DayOfWeek</th>\n",
       "    </tr>\n",
       "  </thead>\n",
       "  <tbody>\n",
       "  </tbody>\n",
       "</table>\n",
       "</div>"
      ],
      "text/plain": [
       "Empty DataFrame\n",
       "Columns: [InvoiceNo, StockCode, Description, Quantity, InvoiceDate, UnitPrice, CustomerID, Country, TotalSales, DayOfWeek]\n",
       "Index: []"
      ]
     },
     "execution_count": 190,
     "metadata": {},
     "output_type": "execute_result"
    }
   ],
   "source": [
    "# Checking the max value of UnitPrice\n",
    "df[df[\"UnitPrice\"] == 8142.75]"
   ]
  },
  {
   "cell_type": "raw",
   "id": "f9359623-abed-4a16-9715-842b1dfed061",
   "metadata": {},
   "source": [
    "Insights: This is the amount paid for POSTAGE(courier charges) as mentioned in the description. We need to find such StockCodes which are not products and needs to be removed from the dataset. "
   ]
  },
  {
   "cell_type": "code",
   "execution_count": 154,
   "id": "ffb8d411-5f29-44de-972e-279b4c82b63e",
   "metadata": {},
   "outputs": [
    {
     "data": {
      "text/plain": [
       "(381693, 10)"
      ]
     },
     "execution_count": 154,
     "metadata": {},
     "output_type": "execute_result"
    }
   ],
   "source": [
    "df3 = df[df[\"UnitPrice\"] < 10]\n",
    "df3.shape"
   ]
  },
  {
   "cell_type": "code",
   "execution_count": 155,
   "id": "bb6d8847-8ea5-4d04-8ab7-53a9ba282d76",
   "metadata": {},
   "outputs": [
    {
     "data": {
      "image/png": "[encoded data removed]",
      "text/plain": [
       "<Figure size 1000x600 with 1 Axes>"
      ]
     },
     "metadata": {},
     "output_type": "display_data"
    }
   ],
   "source": [
    "plt.figure(figsize=(10,6))\n",
    "sns.boxplot(y=df3[\"UnitPrice\"])\n",
    "plt.title(\"Box Plot of UnitPrice\")\n",
    "plt.ylabel(\"UnitPrice\")\n",
    "plt.show()"
   ]
  },
  {
   "cell_type": "code",
   "execution_count": 156,
   "id": "29fb0a82-715e-4a7b-8104-0141fa464042",
   "metadata": {},
   "outputs": [
    {
     "data": {
      "image/png": "[encoded data removed]",
      "text/plain": [
       "<Figure size 1000x600 with 1 Axes>"
      ]
     },
     "metadata": {},
     "output_type": "display_data"
    }
   ],
   "source": [
    "plt.figure(figsize=(10,6))\n",
    "sns.histplot(df3[\"UnitPrice\"], bins=20, color=\"blue\", kde=True, alpha=0.2)\n",
    "plt.show()"
   ]
  },
  {
   "cell_type": "code",
   "execution_count": 157,
   "id": "1939dc3d-bfa8-4e29-8352-97bb33493618",
   "metadata": {},
   "outputs": [],
   "source": [
    "#Insights: Most of the orders are low priced products. "
   ]
  },
  {
   "cell_type": "markdown",
   "id": "4f82cbc2-d913-4b8a-ab07-855ec885aaf6",
   "metadata": {},
   "source": [
    "### Exploring InvoiceDate"
   ]
  },
  {
   "cell_type": "code",
   "execution_count": 158,
   "id": "cae4d07e-070f-4b82-a6c4-621fbecc4836",
   "metadata": {},
   "outputs": [
    {
     "name": "stdout",
     "output_type": "stream",
     "text": [
      "datetime64[ns]\n"
     ]
    }
   ],
   "source": [
    "# Checking the dtype\n",
    "print(df[\"InvoiceDate\"].dtype)"
   ]
  },
  {
   "cell_type": "code",
   "execution_count": 159,
   "id": "9765e571-6f19-4ce0-bc36-0ce8189bd00f",
   "metadata": {},
   "outputs": [
    {
     "name": "stdout",
     "output_type": "stream",
     "text": [
      "datetime64[ns]\n"
     ]
    }
   ],
   "source": [
    "# Changing the InvoiceDate datatype to datetime\n",
    "df[\"InvoiceDate\"] = pd.to_datetime(df[\"InvoiceDate\"])\n",
    "print(df[\"InvoiceDate\"].dtype)"
   ]
  },
  {
   "cell_type": "code",
   "execution_count": 160,
   "id": "cdce651d-2a26-40a3-92ee-9e2dd2f39c3f",
   "metadata": {},
   "outputs": [
    {
     "name": "stdout",
     "output_type": "stream",
     "text": [
      "First Order Date: 2010-12-01 08:26:00\n",
      "Last Order Date: 2011-12-09 12:50:00\n"
     ]
    }
   ],
   "source": [
    "# First and Last order date\n",
    "print(\"First Order Date:\", df[\"InvoiceDate\"].min())\n",
    "print(\"Last Order Date:\", df[\"InvoiceDate\"].max())"
   ]
  },
  {
   "cell_type": "raw",
   "id": "7b95ba21-c8f2-4a44-8ba5-7c7e89886d24",
   "metadata": {},
   "source": [
    "Insight: The orders from this ecommerce site is little over one year. "
   ]
  },
  {
   "cell_type": "markdown",
   "id": "60895351-13b6-4c83-9aad-6f55102e9e76",
   "metadata": {},
   "source": [
    "### Exploring StockCode"
   ]
  },
  {
   "cell_type": "code",
   "execution_count": 161,
   "id": "0550e771-9968-4b71-ad4f-2e4862718dd6",
   "metadata": {
    "scrolled": true
   },
   "outputs": [
    {
     "data": {
      "text/html": [
       "<div>\n",
       "<style scoped>\n",
       "    .dataframe tbody tr th:only-of-type {\n",
       "        vertical-align: middle;\n",
       "    }\n",
       "\n",
       "    .dataframe tbody tr th {\n",
       "        vertical-align: top;\n",
       "    }\n",
       "\n",
       "    .dataframe thead th {\n",
       "        text-align: right;\n",
       "    }\n",
       "</style>\n",
       "<table border=\"1\" class=\"dataframe\">\n",
       "  <thead>\n",
       "    <tr style=\"text-align: right;\">\n",
       "      <th></th>\n",
       "      <th>InvoiceNo</th>\n",
       "      <th>StockCode</th>\n",
       "      <th>Description</th>\n",
       "      <th>Quantity</th>\n",
       "      <th>InvoiceDate</th>\n",
       "      <th>UnitPrice</th>\n",
       "      <th>CustomerID</th>\n",
       "      <th>Country</th>\n",
       "      <th>TotalSales</th>\n",
       "      <th>DayOfWeek</th>\n",
       "    </tr>\n",
       "  </thead>\n",
       "  <tbody>\n",
       "    <tr>\n",
       "      <th>0</th>\n",
       "      <td>536365</td>\n",
       "      <td>85123A</td>\n",
       "      <td>WHITE HANGING HEART T-LIGHT HOLDER</td>\n",
       "      <td>6</td>\n",
       "      <td>2010-12-01 08:26:00</td>\n",
       "      <td>2.55</td>\n",
       "      <td>17850.0</td>\n",
       "      <td>United Kingdom</td>\n",
       "      <td>15.30</td>\n",
       "      <td>Wednesday</td>\n",
       "    </tr>\n",
       "    <tr>\n",
       "      <th>1</th>\n",
       "      <td>536365</td>\n",
       "      <td>71053</td>\n",
       "      <td>WHITE METAL LANTERN</td>\n",
       "      <td>6</td>\n",
       "      <td>2010-12-01 08:26:00</td>\n",
       "      <td>3.39</td>\n",
       "      <td>17850.0</td>\n",
       "      <td>United Kingdom</td>\n",
       "      <td>20.34</td>\n",
       "      <td>Wednesday</td>\n",
       "    </tr>\n",
       "    <tr>\n",
       "      <th>2</th>\n",
       "      <td>536365</td>\n",
       "      <td>84406B</td>\n",
       "      <td>CREAM CUPID HEARTS COAT HANGER</td>\n",
       "      <td>8</td>\n",
       "      <td>2010-12-01 08:26:00</td>\n",
       "      <td>2.75</td>\n",
       "      <td>17850.0</td>\n",
       "      <td>United Kingdom</td>\n",
       "      <td>22.00</td>\n",
       "      <td>Wednesday</td>\n",
       "    </tr>\n",
       "    <tr>\n",
       "      <th>3</th>\n",
       "      <td>536365</td>\n",
       "      <td>84029G</td>\n",
       "      <td>KNITTED UNION FLAG HOT WATER BOTTLE</td>\n",
       "      <td>6</td>\n",
       "      <td>2010-12-01 08:26:00</td>\n",
       "      <td>3.39</td>\n",
       "      <td>17850.0</td>\n",
       "      <td>United Kingdom</td>\n",
       "      <td>20.34</td>\n",
       "      <td>Wednesday</td>\n",
       "    </tr>\n",
       "    <tr>\n",
       "      <th>4</th>\n",
       "      <td>536365</td>\n",
       "      <td>84029E</td>\n",
       "      <td>RED WOOLLY HOTTIE WHITE HEART.</td>\n",
       "      <td>6</td>\n",
       "      <td>2010-12-01 08:26:00</td>\n",
       "      <td>3.39</td>\n",
       "      <td>17850.0</td>\n",
       "      <td>United Kingdom</td>\n",
       "      <td>20.34</td>\n",
       "      <td>Wednesday</td>\n",
       "    </tr>\n",
       "    <tr>\n",
       "      <th>5</th>\n",
       "      <td>536365</td>\n",
       "      <td>22752</td>\n",
       "      <td>SET 7 BABUSHKA NESTING BOXES</td>\n",
       "      <td>2</td>\n",
       "      <td>2010-12-01 08:26:00</td>\n",
       "      <td>7.65</td>\n",
       "      <td>17850.0</td>\n",
       "      <td>United Kingdom</td>\n",
       "      <td>15.30</td>\n",
       "      <td>Wednesday</td>\n",
       "    </tr>\n",
       "    <tr>\n",
       "      <th>6</th>\n",
       "      <td>536365</td>\n",
       "      <td>21730</td>\n",
       "      <td>GLASS STAR FROSTED T-LIGHT HOLDER</td>\n",
       "      <td>6</td>\n",
       "      <td>2010-12-01 08:26:00</td>\n",
       "      <td>4.25</td>\n",
       "      <td>17850.0</td>\n",
       "      <td>United Kingdom</td>\n",
       "      <td>25.50</td>\n",
       "      <td>Wednesday</td>\n",
       "    </tr>\n",
       "    <tr>\n",
       "      <th>7</th>\n",
       "      <td>536366</td>\n",
       "      <td>22633</td>\n",
       "      <td>HAND WARMER UNION JACK</td>\n",
       "      <td>6</td>\n",
       "      <td>2010-12-01 08:28:00</td>\n",
       "      <td>1.85</td>\n",
       "      <td>17850.0</td>\n",
       "      <td>United Kingdom</td>\n",
       "      <td>11.10</td>\n",
       "      <td>Wednesday</td>\n",
       "    </tr>\n",
       "    <tr>\n",
       "      <th>8</th>\n",
       "      <td>536366</td>\n",
       "      <td>22632</td>\n",
       "      <td>HAND WARMER RED POLKA DOT</td>\n",
       "      <td>6</td>\n",
       "      <td>2010-12-01 08:28:00</td>\n",
       "      <td>1.85</td>\n",
       "      <td>17850.0</td>\n",
       "      <td>United Kingdom</td>\n",
       "      <td>11.10</td>\n",
       "      <td>Wednesday</td>\n",
       "    </tr>\n",
       "    <tr>\n",
       "      <th>9</th>\n",
       "      <td>536367</td>\n",
       "      <td>84879</td>\n",
       "      <td>ASSORTED COLOUR BIRD ORNAMENT</td>\n",
       "      <td>32</td>\n",
       "      <td>2010-12-01 08:34:00</td>\n",
       "      <td>1.69</td>\n",
       "      <td>13047.0</td>\n",
       "      <td>United Kingdom</td>\n",
       "      <td>54.08</td>\n",
       "      <td>Wednesday</td>\n",
       "    </tr>\n",
       "  </tbody>\n",
       "</table>\n",
       "</div>"
      ],
      "text/plain": [
       "  InvoiceNo StockCode                          Description  Quantity  \\\n",
       "0    536365    85123A   WHITE HANGING HEART T-LIGHT HOLDER         6   \n",
       "1    536365     71053                  WHITE METAL LANTERN         6   \n",
       "2    536365    84406B       CREAM CUPID HEARTS COAT HANGER         8   \n",
       "3    536365    84029G  KNITTED UNION FLAG HOT WATER BOTTLE         6   \n",
       "4    536365    84029E       RED WOOLLY HOTTIE WHITE HEART.         6   \n",
       "5    536365     22752         SET 7 BABUSHKA NESTING BOXES         2   \n",
       "6    536365     21730    GLASS STAR FROSTED T-LIGHT HOLDER         6   \n",
       "7    536366     22633               HAND WARMER UNION JACK         6   \n",
       "8    536366     22632            HAND WARMER RED POLKA DOT         6   \n",
       "9    536367     84879        ASSORTED COLOUR BIRD ORNAMENT        32   \n",
       "\n",
       "          InvoiceDate  UnitPrice  CustomerID         Country  TotalSales  \\\n",
       "0 2010-12-01 08:26:00       2.55     17850.0  United Kingdom       15.30   \n",
       "1 2010-12-01 08:26:00       3.39     17850.0  United Kingdom       20.34   \n",
       "2 2010-12-01 08:26:00       2.75     17850.0  United Kingdom       22.00   \n",
       "3 2010-12-01 08:26:00       3.39     17850.0  United Kingdom       20.34   \n",
       "4 2010-12-01 08:26:00       3.39     17850.0  United Kingdom       20.34   \n",
       "5 2010-12-01 08:26:00       7.65     17850.0  United Kingdom       15.30   \n",
       "6 2010-12-01 08:26:00       4.25     17850.0  United Kingdom       25.50   \n",
       "7 2010-12-01 08:28:00       1.85     17850.0  United Kingdom       11.10   \n",
       "8 2010-12-01 08:28:00       1.85     17850.0  United Kingdom       11.10   \n",
       "9 2010-12-01 08:34:00       1.69     13047.0  United Kingdom       54.08   \n",
       "\n",
       "   DayOfWeek  \n",
       "0  Wednesday  \n",
       "1  Wednesday  \n",
       "2  Wednesday  \n",
       "3  Wednesday  \n",
       "4  Wednesday  \n",
       "5  Wednesday  \n",
       "6  Wednesday  \n",
       "7  Wednesday  \n",
       "8  Wednesday  \n",
       "9  Wednesday  "
      ]
     },
     "execution_count": 161,
     "metadata": {},
     "output_type": "execute_result"
    }
   ],
   "source": [
    "df.head(10)"
   ]
  },
  {
   "cell_type": "raw",
   "id": "ef9e26a4-8cbb-4c19-8d99-ad324993de76",
   "metadata": {},
   "source": [
    "Insights: The StockCodes are of three different types as per our investigation:\n",
    "1. Numeric Codes: Contains numbers\n",
    "2. AlphaNumeric Codes: Contains both numbers and alphabets"
   ]
  },
  {
   "cell_type": "code",
   "execution_count": 162,
   "id": "76991660-ad8a-4aa9-ad34-1ad8109873c3",
   "metadata": {},
   "outputs": [
    {
     "data": {
      "text/html": [
       "<div>\n",
       "<style scoped>\n",
       "    .dataframe tbody tr th:only-of-type {\n",
       "        vertical-align: middle;\n",
       "    }\n",
       "\n",
       "    .dataframe tbody tr th {\n",
       "        vertical-align: top;\n",
       "    }\n",
       "\n",
       "    .dataframe thead th {\n",
       "        text-align: right;\n",
       "    }\n",
       "</style>\n",
       "<table border=\"1\" class=\"dataframe\">\n",
       "  <thead>\n",
       "    <tr style=\"text-align: right;\">\n",
       "      <th></th>\n",
       "      <th>InvoiceNo</th>\n",
       "      <th>StockCode</th>\n",
       "      <th>Description</th>\n",
       "      <th>Quantity</th>\n",
       "      <th>InvoiceDate</th>\n",
       "      <th>UnitPrice</th>\n",
       "      <th>CustomerID</th>\n",
       "      <th>Country</th>\n",
       "      <th>TotalSales</th>\n",
       "      <th>DayOfWeek</th>\n",
       "    </tr>\n",
       "  </thead>\n",
       "  <tbody>\n",
       "    <tr>\n",
       "      <th>1</th>\n",
       "      <td>536365</td>\n",
       "      <td>71053</td>\n",
       "      <td>WHITE METAL LANTERN</td>\n",
       "      <td>6</td>\n",
       "      <td>2010-12-01 08:26:00</td>\n",
       "      <td>3.39</td>\n",
       "      <td>17850.0</td>\n",
       "      <td>United Kingdom</td>\n",
       "      <td>20.34</td>\n",
       "      <td>Wednesday</td>\n",
       "    </tr>\n",
       "    <tr>\n",
       "      <th>5</th>\n",
       "      <td>536365</td>\n",
       "      <td>22752</td>\n",
       "      <td>SET 7 BABUSHKA NESTING BOXES</td>\n",
       "      <td>2</td>\n",
       "      <td>2010-12-01 08:26:00</td>\n",
       "      <td>7.65</td>\n",
       "      <td>17850.0</td>\n",
       "      <td>United Kingdom</td>\n",
       "      <td>15.30</td>\n",
       "      <td>Wednesday</td>\n",
       "    </tr>\n",
       "    <tr>\n",
       "      <th>6</th>\n",
       "      <td>536365</td>\n",
       "      <td>21730</td>\n",
       "      <td>GLASS STAR FROSTED T-LIGHT HOLDER</td>\n",
       "      <td>6</td>\n",
       "      <td>2010-12-01 08:26:00</td>\n",
       "      <td>4.25</td>\n",
       "      <td>17850.0</td>\n",
       "      <td>United Kingdom</td>\n",
       "      <td>25.50</td>\n",
       "      <td>Wednesday</td>\n",
       "    </tr>\n",
       "    <tr>\n",
       "      <th>7</th>\n",
       "      <td>536366</td>\n",
       "      <td>22633</td>\n",
       "      <td>HAND WARMER UNION JACK</td>\n",
       "      <td>6</td>\n",
       "      <td>2010-12-01 08:28:00</td>\n",
       "      <td>1.85</td>\n",
       "      <td>17850.0</td>\n",
       "      <td>United Kingdom</td>\n",
       "      <td>11.10</td>\n",
       "      <td>Wednesday</td>\n",
       "    </tr>\n",
       "    <tr>\n",
       "      <th>8</th>\n",
       "      <td>536366</td>\n",
       "      <td>22632</td>\n",
       "      <td>HAND WARMER RED POLKA DOT</td>\n",
       "      <td>6</td>\n",
       "      <td>2010-12-01 08:28:00</td>\n",
       "      <td>1.85</td>\n",
       "      <td>17850.0</td>\n",
       "      <td>United Kingdom</td>\n",
       "      <td>11.10</td>\n",
       "      <td>Wednesday</td>\n",
       "    </tr>\n",
       "    <tr>\n",
       "      <th>...</th>\n",
       "      <td>...</td>\n",
       "      <td>...</td>\n",
       "      <td>...</td>\n",
       "      <td>...</td>\n",
       "      <td>...</td>\n",
       "      <td>...</td>\n",
       "      <td>...</td>\n",
       "      <td>...</td>\n",
       "      <td>...</td>\n",
       "      <td>...</td>\n",
       "    </tr>\n",
       "    <tr>\n",
       "      <th>391178</th>\n",
       "      <td>581587</td>\n",
       "      <td>22613</td>\n",
       "      <td>PACK OF 20 SPACEBOY NAPKINS</td>\n",
       "      <td>12</td>\n",
       "      <td>2011-12-09 12:50:00</td>\n",
       "      <td>0.85</td>\n",
       "      <td>12680.0</td>\n",
       "      <td>France</td>\n",
       "      <td>10.20</td>\n",
       "      <td>Friday</td>\n",
       "    </tr>\n",
       "    <tr>\n",
       "      <th>391179</th>\n",
       "      <td>581587</td>\n",
       "      <td>22899</td>\n",
       "      <td>CHILDREN'S APRON DOLLY GIRL</td>\n",
       "      <td>6</td>\n",
       "      <td>2011-12-09 12:50:00</td>\n",
       "      <td>2.10</td>\n",
       "      <td>12680.0</td>\n",
       "      <td>France</td>\n",
       "      <td>12.60</td>\n",
       "      <td>Friday</td>\n",
       "    </tr>\n",
       "    <tr>\n",
       "      <th>391180</th>\n",
       "      <td>581587</td>\n",
       "      <td>23254</td>\n",
       "      <td>CHILDRENS CUTLERY DOLLY GIRL</td>\n",
       "      <td>4</td>\n",
       "      <td>2011-12-09 12:50:00</td>\n",
       "      <td>4.15</td>\n",
       "      <td>12680.0</td>\n",
       "      <td>France</td>\n",
       "      <td>16.60</td>\n",
       "      <td>Friday</td>\n",
       "    </tr>\n",
       "    <tr>\n",
       "      <th>391181</th>\n",
       "      <td>581587</td>\n",
       "      <td>23255</td>\n",
       "      <td>CHILDRENS CUTLERY CIRCUS PARADE</td>\n",
       "      <td>4</td>\n",
       "      <td>2011-12-09 12:50:00</td>\n",
       "      <td>4.15</td>\n",
       "      <td>12680.0</td>\n",
       "      <td>France</td>\n",
       "      <td>16.60</td>\n",
       "      <td>Friday</td>\n",
       "    </tr>\n",
       "    <tr>\n",
       "      <th>391182</th>\n",
       "      <td>581587</td>\n",
       "      <td>22138</td>\n",
       "      <td>BAKING SET 9 PIECE RETROSPOT</td>\n",
       "      <td>3</td>\n",
       "      <td>2011-12-09 12:50:00</td>\n",
       "      <td>4.95</td>\n",
       "      <td>12680.0</td>\n",
       "      <td>France</td>\n",
       "      <td>14.85</td>\n",
       "      <td>Friday</td>\n",
       "    </tr>\n",
       "  </tbody>\n",
       "</table>\n",
       "<p>358309 rows × 10 columns</p>\n",
       "</div>"
      ],
      "text/plain": [
       "       InvoiceNo StockCode                        Description  Quantity  \\\n",
       "1         536365     71053                WHITE METAL LANTERN         6   \n",
       "5         536365     22752       SET 7 BABUSHKA NESTING BOXES         2   \n",
       "6         536365     21730  GLASS STAR FROSTED T-LIGHT HOLDER         6   \n",
       "7         536366     22633             HAND WARMER UNION JACK         6   \n",
       "8         536366     22632          HAND WARMER RED POLKA DOT         6   \n",
       "...          ...       ...                                ...       ...   \n",
       "391178    581587     22613        PACK OF 20 SPACEBOY NAPKINS        12   \n",
       "391179    581587     22899       CHILDREN'S APRON DOLLY GIRL          6   \n",
       "391180    581587     23254      CHILDRENS CUTLERY DOLLY GIRL          4   \n",
       "391181    581587     23255    CHILDRENS CUTLERY CIRCUS PARADE         4   \n",
       "391182    581587     22138      BAKING SET 9 PIECE RETROSPOT          3   \n",
       "\n",
       "               InvoiceDate  UnitPrice  CustomerID         Country  TotalSales  \\\n",
       "1      2010-12-01 08:26:00       3.39     17850.0  United Kingdom       20.34   \n",
       "5      2010-12-01 08:26:00       7.65     17850.0  United Kingdom       15.30   \n",
       "6      2010-12-01 08:26:00       4.25     17850.0  United Kingdom       25.50   \n",
       "7      2010-12-01 08:28:00       1.85     17850.0  United Kingdom       11.10   \n",
       "8      2010-12-01 08:28:00       1.85     17850.0  United Kingdom       11.10   \n",
       "...                    ...        ...         ...             ...         ...   \n",
       "391178 2011-12-09 12:50:00       0.85     12680.0          France       10.20   \n",
       "391179 2011-12-09 12:50:00       2.10     12680.0          France       12.60   \n",
       "391180 2011-12-09 12:50:00       4.15     12680.0          France       16.60   \n",
       "391181 2011-12-09 12:50:00       4.15     12680.0          France       16.60   \n",
       "391182 2011-12-09 12:50:00       4.95     12680.0          France       14.85   \n",
       "\n",
       "        DayOfWeek  \n",
       "1       Wednesday  \n",
       "5       Wednesday  \n",
       "6       Wednesday  \n",
       "7       Wednesday  \n",
       "8       Wednesday  \n",
       "...           ...  \n",
       "391178     Friday  \n",
       "391179     Friday  \n",
       "391180     Friday  \n",
       "391181     Friday  \n",
       "391182     Friday  \n",
       "\n",
       "[358309 rows x 10 columns]"
      ]
     },
     "execution_count": 162,
     "metadata": {},
     "output_type": "execute_result"
    }
   ],
   "source": [
    "# Checking the numeric StockCodes\n",
    "df[\"StockCode\"] = df[\"StockCode\"].astype(str)\n",
    "df[df[\"StockCode\"].str.isnumeric()]"
   ]
  },
  {
   "cell_type": "code",
   "execution_count": 163,
   "id": "1c6c9a3e-9d99-4adb-82b5-27dbe8f98c83",
   "metadata": {},
   "outputs": [
    {
     "data": {
      "text/plain": [
       "(391183, 10)"
      ]
     },
     "execution_count": 163,
     "metadata": {},
     "output_type": "execute_result"
    }
   ],
   "source": [
    "df.shape"
   ]
  },
  {
   "cell_type": "raw",
   "id": "e84a12a2-b468-4564-bd77-d14a9b643ee7",
   "metadata": {},
   "source": [
    "Insights: Out of 392732 StockCodes, 358309 StockCodes are numeric. "
   ]
  },
  {
   "cell_type": "code",
   "execution_count": 164,
   "id": "9be53b7b-2a40-4ddc-8754-d7b9e303f0d5",
   "metadata": {},
   "outputs": [
    {
     "name": "stdout",
     "output_type": "stream",
     "text": [
      "5    358309\n",
      "Name: Length, dtype: int64\n"
     ]
    }
   ],
   "source": [
    "# Filter for StockCodes that are entirely numeric\n",
    "numeric_stockcodes = df[df['StockCode'].str.isnumeric()]\n",
    "\n",
    "# Calculate the length of each numeric StockCode\n",
    "numeric_stockcodes['Length'] = numeric_stockcodes['StockCode'].str.len()\n",
    "\n",
    "# Group by the length and count the occurrences\n",
    "length_counts = numeric_stockcodes['Length'].value_counts().sort_index()\n",
    "\n",
    "# View the result\n",
    "print(length_counts)"
   ]
  },
  {
   "cell_type": "raw",
   "id": "f3add79d-b188-48db-8513-4609a0bb3b32",
   "metadata": {},
   "source": [
    "Insight: All the numeric StockCodes have length 5. "
   ]
  },
  {
   "cell_type": "code",
   "execution_count": 165,
   "id": "7d86e0f9-2cab-4d64-b8b5-57b1fe62f3e7",
   "metadata": {},
   "outputs": [
    {
     "data": {
      "text/html": [
       "<div>\n",
       "<style scoped>\n",
       "    .dataframe tbody tr th:only-of-type {\n",
       "        vertical-align: middle;\n",
       "    }\n",
       "\n",
       "    .dataframe tbody tr th {\n",
       "        vertical-align: top;\n",
       "    }\n",
       "\n",
       "    .dataframe thead th {\n",
       "        text-align: right;\n",
       "    }\n",
       "</style>\n",
       "<table border=\"1\" class=\"dataframe\">\n",
       "  <thead>\n",
       "    <tr style=\"text-align: right;\">\n",
       "      <th></th>\n",
       "      <th>InvoiceNo</th>\n",
       "      <th>StockCode</th>\n",
       "      <th>Description</th>\n",
       "      <th>Quantity</th>\n",
       "      <th>InvoiceDate</th>\n",
       "      <th>UnitPrice</th>\n",
       "      <th>CustomerID</th>\n",
       "      <th>Country</th>\n",
       "      <th>TotalSales</th>\n",
       "      <th>DayOfWeek</th>\n",
       "    </tr>\n",
       "  </thead>\n",
       "  <tbody>\n",
       "    <tr>\n",
       "      <th>0</th>\n",
       "      <td>536365</td>\n",
       "      <td>85123A</td>\n",
       "      <td>WHITE HANGING HEART T-LIGHT HOLDER</td>\n",
       "      <td>6</td>\n",
       "      <td>2010-12-01 08:26:00</td>\n",
       "      <td>2.55</td>\n",
       "      <td>17850.0</td>\n",
       "      <td>United Kingdom</td>\n",
       "      <td>15.30</td>\n",
       "      <td>Wednesday</td>\n",
       "    </tr>\n",
       "    <tr>\n",
       "      <th>2</th>\n",
       "      <td>536365</td>\n",
       "      <td>84406B</td>\n",
       "      <td>CREAM CUPID HEARTS COAT HANGER</td>\n",
       "      <td>8</td>\n",
       "      <td>2010-12-01 08:26:00</td>\n",
       "      <td>2.75</td>\n",
       "      <td>17850.0</td>\n",
       "      <td>United Kingdom</td>\n",
       "      <td>22.00</td>\n",
       "      <td>Wednesday</td>\n",
       "    </tr>\n",
       "    <tr>\n",
       "      <th>3</th>\n",
       "      <td>536365</td>\n",
       "      <td>84029G</td>\n",
       "      <td>KNITTED UNION FLAG HOT WATER BOTTLE</td>\n",
       "      <td>6</td>\n",
       "      <td>2010-12-01 08:26:00</td>\n",
       "      <td>3.39</td>\n",
       "      <td>17850.0</td>\n",
       "      <td>United Kingdom</td>\n",
       "      <td>20.34</td>\n",
       "      <td>Wednesday</td>\n",
       "    </tr>\n",
       "    <tr>\n",
       "      <th>4</th>\n",
       "      <td>536365</td>\n",
       "      <td>84029E</td>\n",
       "      <td>RED WOOLLY HOTTIE WHITE HEART.</td>\n",
       "      <td>6</td>\n",
       "      <td>2010-12-01 08:26:00</td>\n",
       "      <td>3.39</td>\n",
       "      <td>17850.0</td>\n",
       "      <td>United Kingdom</td>\n",
       "      <td>20.34</td>\n",
       "      <td>Wednesday</td>\n",
       "    </tr>\n",
       "    <tr>\n",
       "      <th>48</th>\n",
       "      <td>536373</td>\n",
       "      <td>85123A</td>\n",
       "      <td>WHITE HANGING HEART T-LIGHT HOLDER</td>\n",
       "      <td>6</td>\n",
       "      <td>2010-12-01 09:02:00</td>\n",
       "      <td>2.55</td>\n",
       "      <td>17850.0</td>\n",
       "      <td>United Kingdom</td>\n",
       "      <td>15.30</td>\n",
       "      <td>Wednesday</td>\n",
       "    </tr>\n",
       "    <tr>\n",
       "      <th>...</th>\n",
       "      <td>...</td>\n",
       "      <td>...</td>\n",
       "      <td>...</td>\n",
       "      <td>...</td>\n",
       "      <td>...</td>\n",
       "      <td>...</td>\n",
       "      <td>...</td>\n",
       "      <td>...</td>\n",
       "      <td>...</td>\n",
       "      <td>...</td>\n",
       "    </tr>\n",
       "    <tr>\n",
       "      <th>391052</th>\n",
       "      <td>581578</td>\n",
       "      <td>84997C</td>\n",
       "      <td>CHILDRENS CUTLERY POLKADOT BLUE</td>\n",
       "      <td>8</td>\n",
       "      <td>2011-12-09 12:16:00</td>\n",
       "      <td>4.15</td>\n",
       "      <td>12713.0</td>\n",
       "      <td>Germany</td>\n",
       "      <td>33.20</td>\n",
       "      <td>Friday</td>\n",
       "    </tr>\n",
       "    <tr>\n",
       "      <th>391083</th>\n",
       "      <td>581579</td>\n",
       "      <td>85099C</td>\n",
       "      <td>JUMBO  BAG BAROQUE BLACK WHITE</td>\n",
       "      <td>10</td>\n",
       "      <td>2011-12-09 12:19:00</td>\n",
       "      <td>1.79</td>\n",
       "      <td>17581.0</td>\n",
       "      <td>United Kingdom</td>\n",
       "      <td>17.90</td>\n",
       "      <td>Friday</td>\n",
       "    </tr>\n",
       "    <tr>\n",
       "      <th>391112</th>\n",
       "      <td>581580</td>\n",
       "      <td>84993A</td>\n",
       "      <td>75 GREEN PETIT FOUR CASES</td>\n",
       "      <td>2</td>\n",
       "      <td>2011-12-09 12:20:00</td>\n",
       "      <td>0.42</td>\n",
       "      <td>12748.0</td>\n",
       "      <td>United Kingdom</td>\n",
       "      <td>0.84</td>\n",
       "      <td>Friday</td>\n",
       "    </tr>\n",
       "    <tr>\n",
       "      <th>391118</th>\n",
       "      <td>581580</td>\n",
       "      <td>85049A</td>\n",
       "      <td>TRADITIONAL CHRISTMAS RIBBONS</td>\n",
       "      <td>1</td>\n",
       "      <td>2011-12-09 12:20:00</td>\n",
       "      <td>1.25</td>\n",
       "      <td>12748.0</td>\n",
       "      <td>United Kingdom</td>\n",
       "      <td>1.25</td>\n",
       "      <td>Friday</td>\n",
       "    </tr>\n",
       "    <tr>\n",
       "      <th>391127</th>\n",
       "      <td>581580</td>\n",
       "      <td>85049E</td>\n",
       "      <td>SCANDINAVIAN REDS RIBBONS</td>\n",
       "      <td>2</td>\n",
       "      <td>2011-12-09 12:20:00</td>\n",
       "      <td>1.25</td>\n",
       "      <td>12748.0</td>\n",
       "      <td>United Kingdom</td>\n",
       "      <td>2.50</td>\n",
       "      <td>Friday</td>\n",
       "    </tr>\n",
       "  </tbody>\n",
       "</table>\n",
       "<p>32874 rows × 10 columns</p>\n",
       "</div>"
      ],
      "text/plain": [
       "       InvoiceNo StockCode                          Description  Quantity  \\\n",
       "0         536365    85123A   WHITE HANGING HEART T-LIGHT HOLDER         6   \n",
       "2         536365    84406B       CREAM CUPID HEARTS COAT HANGER         8   \n",
       "3         536365    84029G  KNITTED UNION FLAG HOT WATER BOTTLE         6   \n",
       "4         536365    84029E       RED WOOLLY HOTTIE WHITE HEART.         6   \n",
       "48        536373    85123A   WHITE HANGING HEART T-LIGHT HOLDER         6   \n",
       "...          ...       ...                                  ...       ...   \n",
       "391052    581578    84997C      CHILDRENS CUTLERY POLKADOT BLUE         8   \n",
       "391083    581579    85099C       JUMBO  BAG BAROQUE BLACK WHITE        10   \n",
       "391112    581580    84993A            75 GREEN PETIT FOUR CASES         2   \n",
       "391118    581580    85049A        TRADITIONAL CHRISTMAS RIBBONS         1   \n",
       "391127    581580    85049E            SCANDINAVIAN REDS RIBBONS         2   \n",
       "\n",
       "               InvoiceDate  UnitPrice  CustomerID         Country  TotalSales  \\\n",
       "0      2010-12-01 08:26:00       2.55     17850.0  United Kingdom       15.30   \n",
       "2      2010-12-01 08:26:00       2.75     17850.0  United Kingdom       22.00   \n",
       "3      2010-12-01 08:26:00       3.39     17850.0  United Kingdom       20.34   \n",
       "4      2010-12-01 08:26:00       3.39     17850.0  United Kingdom       20.34   \n",
       "48     2010-12-01 09:02:00       2.55     17850.0  United Kingdom       15.30   \n",
       "...                    ...        ...         ...             ...         ...   \n",
       "391052 2011-12-09 12:16:00       4.15     12713.0         Germany       33.20   \n",
       "391083 2011-12-09 12:19:00       1.79     17581.0  United Kingdom       17.90   \n",
       "391112 2011-12-09 12:20:00       0.42     12748.0  United Kingdom        0.84   \n",
       "391118 2011-12-09 12:20:00       1.25     12748.0  United Kingdom        1.25   \n",
       "391127 2011-12-09 12:20:00       1.25     12748.0  United Kingdom        2.50   \n",
       "\n",
       "        DayOfWeek  \n",
       "0       Wednesday  \n",
       "2       Wednesday  \n",
       "3       Wednesday  \n",
       "4       Wednesday  \n",
       "48      Wednesday  \n",
       "...           ...  \n",
       "391052     Friday  \n",
       "391083     Friday  \n",
       "391112     Friday  \n",
       "391118     Friday  \n",
       "391127     Friday  \n",
       "\n",
       "[32874 rows x 10 columns]"
      ]
     },
     "execution_count": 165,
     "metadata": {},
     "output_type": "execute_result"
    }
   ],
   "source": [
    "# Checking the alphanumeric StockCodes\n",
    "df[~df[\"StockCode\"].str.isnumeric()]"
   ]
  },
  {
   "cell_type": "raw",
   "id": "286bc238-6527-4179-8f8e-530a95695f4a",
   "metadata": {
    "vscode": {
     "languageId": "raw"
    }
   },
   "source": [
    "Insights: Out of 392732 StockCodes, 34423 StockCodes are alphanumeric. "
   ]
  },
  {
   "cell_type": "code",
   "execution_count": 167,
   "id": "21f2d9c1-8d98-4aeb-97a2-fd3b1e8a4c42",
   "metadata": {},
   "outputs": [
    {
     "name": "stdout",
     "output_type": "stream",
     "text": [
      "6    32583\n",
      "7      291\n",
      "Name: Length, dtype: int64\n"
     ]
    }
   ],
   "source": [
    "# Filter for StockCodes that are entirely numeric\n",
    "alphanumeric_stockcodes = df[~df['StockCode'].str.isnumeric()]\n",
    "\n",
    "# Calculate the length of each numeric StockCode\n",
    "alphanumeric_stockcodes['Length'] = alphanumeric_stockcodes['StockCode'].str.len()\n",
    "\n",
    "# Group by the length and count the occurrences\n",
    "length__counts = alphanumeric_stockcodes['Length'].value_counts().sort_index()\n",
    "\n",
    "# View the result\n",
    "print(length__counts)"
   ]
  },
  {
   "cell_type": "code",
   "execution_count": 168,
   "id": "c3ad0cfe-0c1a-4e2d-b37b-c58ad04f546c",
   "metadata": {},
   "outputs": [
    {
     "data": {
      "text/plain": [
       "(32874, 11)"
      ]
     },
     "execution_count": 168,
     "metadata": {},
     "output_type": "execute_result"
    }
   ],
   "source": [
    "alphanumeric_stockcodes.shape"
   ]
  },
  {
   "cell_type": "raw",
   "id": "20a9ab89-4ea6-45b0-8735-c3f4baa629aa",
   "metadata": {},
   "source": [
    "Insights: The alphanumeric StockCodes have different lengths: 1,2,3,4,6,7,12"
   ]
  },
  {
   "cell_type": "code",
   "execution_count": 169,
   "id": "7effb9e5-9a2f-4ef1-b0a4-4c9711206393",
   "metadata": {},
   "outputs": [
    {
     "data": {
      "text/plain": [
       "5    358309\n",
       "6     32583\n",
       "7       291\n",
       "Name: len_sc, dtype: int64"
      ]
     },
     "execution_count": 169,
     "metadata": {},
     "output_type": "execute_result"
    }
   ],
   "source": [
    "# Creating a new column which contains the length of the StockCodes\n",
    "df[\"len_sc\"] = df[\"StockCode\"].str.len()\n",
    "df[\"len_sc\"].value_counts()"
   ]
  },
  {
   "cell_type": "code",
   "execution_count": 170,
   "id": "3fb5b276-7b51-4f76-8698-7b77a2503811",
   "metadata": {},
   "outputs": [
    {
     "data": {
      "text/plain": [
       "Series([], Name: StockCode, dtype: int64)"
      ]
     },
     "execution_count": 170,
     "metadata": {},
     "output_type": "execute_result"
    }
   ],
   "source": [
    "# StockCodes which have a length less than 5\n",
    "df[(df[\"len_sc\"] < 5)][\"StockCode\"].value_counts()"
   ]
  },
  {
   "cell_type": "code",
   "execution_count": 171,
   "id": "327c1018-66f0-434e-b12e-fd84e41e524d",
   "metadata": {},
   "outputs": [
    {
     "data": {
      "text/html": [
       "<div>\n",
       "<style scoped>\n",
       "    .dataframe tbody tr th:only-of-type {\n",
       "        vertical-align: middle;\n",
       "    }\n",
       "\n",
       "    .dataframe tbody tr th {\n",
       "        vertical-align: top;\n",
       "    }\n",
       "\n",
       "    .dataframe thead th {\n",
       "        text-align: right;\n",
       "    }\n",
       "</style>\n",
       "<table border=\"1\" class=\"dataframe\">\n",
       "  <thead>\n",
       "    <tr style=\"text-align: right;\">\n",
       "      <th></th>\n",
       "      <th>StockCode</th>\n",
       "      <th>Description</th>\n",
       "    </tr>\n",
       "  </thead>\n",
       "  <tbody>\n",
       "  </tbody>\n",
       "</table>\n",
       "</div>"
      ],
      "text/plain": [
       "Empty DataFrame\n",
       "Columns: [StockCode, Description]\n",
       "Index: []"
      ]
     },
     "execution_count": 171,
     "metadata": {},
     "output_type": "execute_result"
    }
   ],
   "source": [
    "df_sc = df[(df[\"len_sc\"] < 5)][[\"StockCode\", \"Description\"]].drop_duplicates()\n",
    "df_sc"
   ]
  },
  {
   "cell_type": "code",
   "execution_count": 172,
   "id": "173739d3-3022-4d54-b70b-6d69618a67bb",
   "metadata": {},
   "outputs": [
    {
     "data": {
      "text/html": [
       "<div>\n",
       "<style scoped>\n",
       "    .dataframe tbody tr th:only-of-type {\n",
       "        vertical-align: middle;\n",
       "    }\n",
       "\n",
       "    .dataframe tbody tr th {\n",
       "        vertical-align: top;\n",
       "    }\n",
       "\n",
       "    .dataframe thead th {\n",
       "        text-align: right;\n",
       "    }\n",
       "</style>\n",
       "<table border=\"1\" class=\"dataframe\">\n",
       "  <thead>\n",
       "    <tr style=\"text-align: right;\">\n",
       "      <th></th>\n",
       "      <th>InvoiceNo</th>\n",
       "      <th>StockCode</th>\n",
       "      <th>Description</th>\n",
       "      <th>Quantity</th>\n",
       "      <th>InvoiceDate</th>\n",
       "      <th>UnitPrice</th>\n",
       "      <th>CustomerID</th>\n",
       "      <th>Country</th>\n",
       "      <th>TotalSales</th>\n",
       "      <th>DayOfWeek</th>\n",
       "      <th>len_sc</th>\n",
       "    </tr>\n",
       "  </thead>\n",
       "  <tbody>\n",
       "  </tbody>\n",
       "</table>\n",
       "</div>"
      ],
      "text/plain": [
       "Empty DataFrame\n",
       "Columns: [InvoiceNo, StockCode, Description, Quantity, InvoiceDate, UnitPrice, CustomerID, Country, TotalSales, DayOfWeek, len_sc]\n",
       "Index: []"
      ]
     },
     "execution_count": 172,
     "metadata": {},
     "output_type": "execute_result"
    }
   ],
   "source": [
    "df[df[\"StockCode\"] == 'PADS']"
   ]
  },
  {
   "cell_type": "raw",
   "id": "ea070e19-4837-4b77-8c39-ccc849378f79",
   "metadata": {
    "vscode": {
     "languageId": "raw"
    }
   },
   "source": [
    "Insight: All the StockCodes having length less than 5, are not valid products. There is an ambiguity with 'PADS' but the UnitPrice is so less that it will not affect our analysis. \n",
    "So we will remove all the StockCodes which have a length less than 5. "
   ]
  },
  {
   "cell_type": "code",
   "execution_count": 173,
   "id": "a265b03a-87d2-4efe-9d81-84cc6a56a09d",
   "metadata": {},
   "outputs": [
    {
     "data": {
      "text/plain": [
       "Series([], Name: StockCode, dtype: int64)"
      ]
     },
     "execution_count": 173,
     "metadata": {},
     "output_type": "execute_result"
    }
   ],
   "source": [
    "df[(df[\"len_sc\"] > 7)][\"StockCode\"].value_counts()"
   ]
  },
  {
   "cell_type": "raw",
   "id": "6f0b1877-a01f-41cd-b4bd-998bdf6bc06a",
   "metadata": {},
   "source": [
    "Insight: The StockCodes having length 12 are 'BANK CHARGES' which can be safely dropped from our dataset"
   ]
  },
  {
   "cell_type": "code",
   "execution_count": 174,
   "id": "0a41ea6f-b1a2-41ef-947a-b4ccfe857a33",
   "metadata": {},
   "outputs": [
    {
     "data": {
      "text/plain": [
       "15056BL    291\n",
       "Name: StockCode, dtype: int64"
      ]
     },
     "execution_count": 174,
     "metadata": {},
     "output_type": "execute_result"
    }
   ],
   "source": [
    "df[(df[\"len_sc\"] == 7)][\"StockCode\"].value_counts()"
   ]
  },
  {
   "cell_type": "code",
   "execution_count": 175,
   "id": "02d456f9-f086-405e-acd4-22deb76409af",
   "metadata": {},
   "outputs": [
    {
     "data": {
      "text/html": [
       "<div>\n",
       "<style scoped>\n",
       "    .dataframe tbody tr th:only-of-type {\n",
       "        vertical-align: middle;\n",
       "    }\n",
       "\n",
       "    .dataframe tbody tr th {\n",
       "        vertical-align: top;\n",
       "    }\n",
       "\n",
       "    .dataframe thead th {\n",
       "        text-align: right;\n",
       "    }\n",
       "</style>\n",
       "<table border=\"1\" class=\"dataframe\">\n",
       "  <thead>\n",
       "    <tr style=\"text-align: right;\">\n",
       "      <th></th>\n",
       "      <th>InvoiceNo</th>\n",
       "      <th>StockCode</th>\n",
       "      <th>Description</th>\n",
       "      <th>Quantity</th>\n",
       "      <th>InvoiceDate</th>\n",
       "      <th>UnitPrice</th>\n",
       "      <th>CustomerID</th>\n",
       "      <th>Country</th>\n",
       "      <th>TotalSales</th>\n",
       "      <th>DayOfWeek</th>\n",
       "      <th>len_sc</th>\n",
       "    </tr>\n",
       "  </thead>\n",
       "  <tbody>\n",
       "    <tr>\n",
       "      <th>131</th>\n",
       "      <td>536381</td>\n",
       "      <td>15056BL</td>\n",
       "      <td>EDWARDIAN PARASOL BLACK</td>\n",
       "      <td>2</td>\n",
       "      <td>2010-12-01 09:41:00</td>\n",
       "      <td>5.95</td>\n",
       "      <td>15311.0</td>\n",
       "      <td>United Kingdom</td>\n",
       "      <td>11.9</td>\n",
       "      <td>Wednesday</td>\n",
       "      <td>7</td>\n",
       "    </tr>\n",
       "  </tbody>\n",
       "</table>\n",
       "</div>"
      ],
      "text/plain": [
       "    InvoiceNo StockCode              Description  Quantity  \\\n",
       "131    536381   15056BL  EDWARDIAN PARASOL BLACK         2   \n",
       "\n",
       "            InvoiceDate  UnitPrice  CustomerID         Country  TotalSales  \\\n",
       "131 2010-12-01 09:41:00       5.95     15311.0  United Kingdom        11.9   \n",
       "\n",
       "     DayOfWeek  len_sc  \n",
       "131  Wednesday       7  "
      ]
     },
     "execution_count": 175,
     "metadata": {},
     "output_type": "execute_result"
    }
   ],
   "source": [
    "df[df[\"StockCode\"] == '15056BL'].head(1)"
   ]
  },
  {
   "cell_type": "raw",
   "id": "fc755f8d-71b7-4a87-986f-a76e276c72ed",
   "metadata": {},
   "source": [
    "Insight: The StockCode '15056BL' is a valid stock codes. \n",
    "Therefore we need to keep all the StockCodes of length 5, 6 and 7. "
   ]
  },
  {
   "cell_type": "code",
   "execution_count": 176,
   "id": "d2a23ff2-c3a3-4ef1-8d88-4c4a1de8b219",
   "metadata": {},
   "outputs": [
    {
     "data": {
      "text/plain": [
       "5    358309\n",
       "6     32583\n",
       "7       291\n",
       "Name: len_sc, dtype: int64"
      ]
     },
     "execution_count": 176,
     "metadata": {},
     "output_type": "execute_result"
    }
   ],
   "source": [
    "# Removing all the anomaly stockcodes i.e. stock codes of length 1,2,4,12 \n",
    "# Keeping only the stockcodes having length 5,6,7\n",
    "df = df[(df[\"len_sc\"] >= 5) & (df[\"len_sc\"] < 8)]\n",
    "df[\"len_sc\"].value_counts()"
   ]
  },
  {
   "cell_type": "code",
   "execution_count": 177,
   "id": "be50434c-9abe-42dc-a24e-54ae3f432d94",
   "metadata": {},
   "outputs": [
    {
     "data": {
      "text/plain": [
       "(391183, 11)"
      ]
     },
     "execution_count": 177,
     "metadata": {},
     "output_type": "execute_result"
    }
   ],
   "source": [
    "df.shape"
   ]
  },
  {
   "cell_type": "code",
   "execution_count": 178,
   "id": "013099c4-f6fa-4dc1-ad85-53c89b74a627",
   "metadata": {},
   "outputs": [
    {
     "data": {
      "text/plain": [
       "(391183, 10)"
      ]
     },
     "execution_count": 178,
     "metadata": {},
     "output_type": "execute_result"
    }
   ],
   "source": [
    "# Removing the len_sc column\n",
    "df = df.drop(\"len_sc\", axis=1)\n",
    "df.shape"
   ]
  },
  {
   "cell_type": "markdown",
   "id": "3ac6f536-4841-4d4d-a6a7-862c12961feb",
   "metadata": {},
   "source": [
    "### Exploring Description"
   ]
  },
  {
   "cell_type": "code",
   "execution_count": 179,
   "id": "47e6e293-6342-4ef0-b36c-3dc9cde4f7be",
   "metadata": {},
   "outputs": [
    {
     "data": {
      "text/html": [
       "<div>\n",
       "<style scoped>\n",
       "    .dataframe tbody tr th:only-of-type {\n",
       "        vertical-align: middle;\n",
       "    }\n",
       "\n",
       "    .dataframe tbody tr th {\n",
       "        vertical-align: top;\n",
       "    }\n",
       "\n",
       "    .dataframe thead th {\n",
       "        text-align: right;\n",
       "    }\n",
       "</style>\n",
       "<table border=\"1\" class=\"dataframe\">\n",
       "  <thead>\n",
       "    <tr style=\"text-align: right;\">\n",
       "      <th></th>\n",
       "      <th>StockCode</th>\n",
       "      <th>Description</th>\n",
       "    </tr>\n",
       "  </thead>\n",
       "  <tbody>\n",
       "    <tr>\n",
       "      <th>count</th>\n",
       "      <td>391183</td>\n",
       "      <td>391183</td>\n",
       "    </tr>\n",
       "    <tr>\n",
       "      <th>unique</th>\n",
       "      <td>3659</td>\n",
       "      <td>3871</td>\n",
       "    </tr>\n",
       "    <tr>\n",
       "      <th>top</th>\n",
       "      <td>85123A</td>\n",
       "      <td>WHITE HANGING HEART T-LIGHT HOLDER</td>\n",
       "    </tr>\n",
       "    <tr>\n",
       "      <th>freq</th>\n",
       "      <td>2023</td>\n",
       "      <td>2016</td>\n",
       "    </tr>\n",
       "  </tbody>\n",
       "</table>\n",
       "</div>"
      ],
      "text/plain": [
       "       StockCode                         Description\n",
       "count     391183                              391183\n",
       "unique      3659                                3871\n",
       "top       85123A  WHITE HANGING HEART T-LIGHT HOLDER\n",
       "freq        2023                                2016"
      ]
     },
     "execution_count": 179,
     "metadata": {},
     "output_type": "execute_result"
    }
   ],
   "source": [
    "df[[\"StockCode\", \"Description\"]].describe()"
   ]
  },
  {
   "cell_type": "raw",
   "id": "3ea72fd8-2622-448f-bc8b-37a2073b1197",
   "metadata": {
    "vscode": {
     "languageId": "raw"
    }
   },
   "source": [
    "Insight: The number of unique StockCodes and unique Descriptions does not match, indicating that some products have multiple descriptions. \n",
    "This suggests inconsistency in the data. We should further investigate these cases."
   ]
  },
  {
   "cell_type": "code",
   "execution_count": 180,
   "id": "2890f43e-5ca8-4301-b4fb-8531f2b93601",
   "metadata": {},
   "outputs": [
    {
     "name": "stdout",
     "output_type": "stream",
     "text": [
      "       StockCode                          Description\n",
      "68568     16156L                       WRAP, CAROUSEL\n",
      "190440    16156L                        WRAP CAROUSEL\n",
      "130736    17107D  FLOWER FAIRY,5 SUMMER B'DRAW LINERS\n",
      "350774    17107D         FLOWER FAIRY 5 DRAWER LINERS\n",
      "244552    17107D    FLOWER FAIRY 5 SUMMER DRAW LINERS\n",
      "...          ...                                  ...\n",
      "323381    90014A         SILVER M.O.P. ORBIT NECKLACE\n",
      "130848    90014B         GOLD M PEARL  ORBIT NECKLACE\n",
      "275456    90014B           GOLD M.O.P. ORBIT NECKLACE\n",
      "212296    90014C          SILVER/BLACK ORBIT NECKLACE\n",
      "366253    90014C      SILVER AND BLACK ORBIT NECKLACE\n",
      "\n",
      "[445 rows x 2 columns]\n"
     ]
    }
   ],
   "source": [
    "# Identify stock codes with more than one unique description\n",
    "duplicates = df.groupby('StockCode')['Description'].nunique()\n",
    "duplicates = duplicates[duplicates > 1].index\n",
    "\n",
    "# Filter the rows that have these stock codes\n",
    "duplicate_rows = df[df['StockCode'].isin(duplicates)]\n",
    "\n",
    "# Sort the result by StockCode\n",
    "duplicate_rows_sorted = duplicate_rows[['StockCode', 'Description']].sort_values(by='StockCode')\n",
    "\n",
    "# View the result\n",
    "print(duplicate_rows_sorted.drop_duplicates())\n"
   ]
  },
  {
   "cell_type": "raw",
   "id": "58387364-8059-4b35-802e-11002dc96b79",
   "metadata": {
    "vscode": {
     "languageId": "raw"
    }
   },
   "source": [
    "Insights: The product descriptions are mostly the same, but there are some data entry inconsistencies. \n",
    "In a few cases, the same product has slightly different descriptions due to extra spaces, commas, or minor wording variations. \n",
    "Since the analysis will be based on StockCodes, these inconsistencies can be safely ignored."
   ]
  },
  {
   "cell_type": "markdown",
   "id": "0d0efc05-4cac-452e-9108-f412d50efeb5",
   "metadata": {},
   "source": [
    "### Exploring CustomerID"
   ]
  },
  {
   "cell_type": "code",
   "execution_count": 181,
   "id": "4ad0cef7-37a6-44df-9b98-44f852cb7edc",
   "metadata": {},
   "outputs": [
    {
     "data": {
      "text/plain": [
       "4335"
      ]
     },
     "execution_count": 181,
     "metadata": {},
     "output_type": "execute_result"
    }
   ],
   "source": [
    "df[\"CustomerID\"].nunique()"
   ]
  },
  {
   "cell_type": "raw",
   "id": "d7f74128-b5df-440b-bc43-a0f5fbdc941e",
   "metadata": {},
   "source": [
    "Insight: There 4335 unique customers as per our analysis. "
   ]
  },
  {
   "cell_type": "code",
   "execution_count": 182,
   "id": "ce4465db-2f2b-4277-a7ae-0610efcbdac9",
   "metadata": {},
   "outputs": [
    {
     "data": {
      "text/plain": [
       "17841.0    7667\n",
       "14911.0    5586\n",
       "14096.0    5095\n",
       "12748.0    4397\n",
       "14606.0    2674\n",
       "Name: CustomerID, dtype: int64"
      ]
     },
     "execution_count": 182,
     "metadata": {},
     "output_type": "execute_result"
    }
   ],
   "source": [
    "df[\"CustomerID\"].value_counts().head()"
   ]
  },
  {
   "cell_type": "markdown",
   "id": "95b1dfba-0f71-47d5-b246-9f44d46116ac",
   "metadata": {
    "jp-MarkdownHeadingCollapsed": true
   },
   "source": [
    "### Exploring Country"
   ]
  },
  {
   "cell_type": "code",
   "execution_count": 183,
   "id": "f93197ce-f93c-410d-920b-0b368067ac31",
   "metadata": {},
   "outputs": [
    {
     "data": {
      "text/plain": [
       "37"
      ]
     },
     "execution_count": 183,
     "metadata": {},
     "output_type": "execute_result"
    }
   ],
   "source": [
    "df[\"Country\"].nunique()"
   ]
  },
  {
   "cell_type": "code",
   "execution_count": 184,
   "id": "9f1eaf34-7339-48d1-ae7c-fe4a89bd0713",
   "metadata": {},
   "outputs": [
    {
     "data": {
      "text/plain": [
       "United Kingdom          348892\n",
       "Germany                   8644\n",
       "France                    8019\n",
       "EIRE                      7128\n",
       "Spain                     2418\n",
       "Netherlands               2326\n",
       "Belgium                   1935\n",
       "Switzerland               1811\n",
       "Portugal                  1416\n",
       "Australia                 1183\n",
       "Norway                    1049\n",
       "Channel Islands            743\n",
       "Italy                      741\n",
       "Finland                    647\n",
       "Cyprus                     601\n",
       "Sweden                     427\n",
       "Austria                    384\n",
       "Denmark                    367\n",
       "Poland                     325\n",
       "Japan                      321\n",
       "Israel                     245\n",
       "Unspecified                241\n",
       "Singapore                  215\n",
       "Iceland                    182\n",
       "USA                        179\n",
       "Canada                     150\n",
       "Greece                     142\n",
       "Malta                      109\n",
       "United Arab Emirates        67\n",
       "European Community          57\n",
       "RSA                         57\n",
       "Lebanon                     45\n",
       "Lithuania                   35\n",
       "Brazil                      32\n",
       "Czech Republic              24\n",
       "Bahrain                     17\n",
       "Saudi Arabia                 9\n",
       "Name: Country, dtype: int64"
      ]
     },
     "execution_count": 184,
     "metadata": {},
     "output_type": "execute_result"
    }
   ],
   "source": [
    "df[\"Country\"].value_counts().head(37)"
   ]
  },
  {
   "cell_type": "raw",
   "id": "39fdfdc3-a444-4c65-9be8-e567b6546f2f",
   "metadata": {},
   "source": [
    "Insight: EIRE is Ireland and RSA is South Africa. "
   ]
  },
  {
   "cell_type": "markdown",
   "id": "5893f32a-da84-4f74-8801-6551f4d4c903",
   "metadata": {},
   "source": [
    "### Exploring InvoiceNo"
   ]
  },
  {
   "cell_type": "code",
   "execution_count": 185,
   "id": "d0c52bb3-a047-47f6-8159-2b1bacf55f79",
   "metadata": {},
   "outputs": [
    {
     "data": {
      "text/plain": [
       "18405"
      ]
     },
     "execution_count": 185,
     "metadata": {},
     "output_type": "execute_result"
    }
   ],
   "source": [
    "df[\"InvoiceNo\"].nunique()"
   ]
  },
  {
   "cell_type": "code",
   "execution_count": 186,
   "id": "ede609d1-34b2-40e3-82b4-0d3e83f35b90",
   "metadata": {},
   "outputs": [
    {
     "data": {
      "text/plain": [
       "576339    541\n",
       "579196    532\n",
       "580727    528\n",
       "578270    441\n",
       "573576    434\n",
       "Name: InvoiceNo, dtype: int64"
      ]
     },
     "execution_count": 186,
     "metadata": {},
     "output_type": "execute_result"
    }
   ],
   "source": [
    "df[\"InvoiceNo\"].value_counts().head(5)"
   ]
  },
  {
   "cell_type": "code",
   "execution_count": 187,
   "id": "f688a8c6-efa7-417f-ad6a-554d3318f670",
   "metadata": {},
   "outputs": [
    {
     "data": {
      "text/plain": [
       "(391183, 10)"
      ]
     },
     "execution_count": 187,
     "metadata": {},
     "output_type": "execute_result"
    }
   ],
   "source": [
    "df.shape"
   ]
  },
  {
   "cell_type": "markdown",
   "id": "d4757c3f-1da4-483a-b010-0356aa7462d5",
   "metadata": {},
   "source": [
    "# EDA"
   ]
  },
  {
   "cell_type": "markdown",
   "id": "5f6534e4-33a5-43e1-ac74-bb3bc0f0f028",
   "metadata": {},
   "source": [
    "## Time Series Analysis"
   ]
  },
  {
   "cell_type": "code",
   "execution_count": 69,
   "id": "e2722fe5-998e-401f-9341-eda86c8daa31",
   "metadata": {},
   "outputs": [
    {
     "data": {
      "text/html": [
       "<div>\n",
       "<style scoped>\n",
       "    .dataframe tbody tr th:only-of-type {\n",
       "        vertical-align: middle;\n",
       "    }\n",
       "\n",
       "    .dataframe tbody tr th {\n",
       "        vertical-align: top;\n",
       "    }\n",
       "\n",
       "    .dataframe thead th {\n",
       "        text-align: right;\n",
       "    }\n",
       "</style>\n",
       "<table border=\"1\" class=\"dataframe\">\n",
       "  <thead>\n",
       "    <tr style=\"text-align: right;\">\n",
       "      <th></th>\n",
       "      <th>InvoiceNo</th>\n",
       "      <th>StockCode</th>\n",
       "      <th>Description</th>\n",
       "      <th>Quantity</th>\n",
       "      <th>InvoiceDate</th>\n",
       "      <th>UnitPrice</th>\n",
       "      <th>CustomerID</th>\n",
       "      <th>Country</th>\n",
       "    </tr>\n",
       "  </thead>\n",
       "  <tbody>\n",
       "    <tr>\n",
       "      <th>0</th>\n",
       "      <td>536365</td>\n",
       "      <td>85123A</td>\n",
       "      <td>WHITE HANGING HEART T-LIGHT HOLDER</td>\n",
       "      <td>6</td>\n",
       "      <td>2010-12-01 08:26:00</td>\n",
       "      <td>2.55</td>\n",
       "      <td>17850.0</td>\n",
       "      <td>United Kingdom</td>\n",
       "    </tr>\n",
       "    <tr>\n",
       "      <th>1</th>\n",
       "      <td>536365</td>\n",
       "      <td>71053</td>\n",
       "      <td>WHITE METAL LANTERN</td>\n",
       "      <td>6</td>\n",
       "      <td>2010-12-01 08:26:00</td>\n",
       "      <td>3.39</td>\n",
       "      <td>17850.0</td>\n",
       "      <td>United Kingdom</td>\n",
       "    </tr>\n",
       "    <tr>\n",
       "      <th>2</th>\n",
       "      <td>536365</td>\n",
       "      <td>84406B</td>\n",
       "      <td>CREAM CUPID HEARTS COAT HANGER</td>\n",
       "      <td>8</td>\n",
       "      <td>2010-12-01 08:26:00</td>\n",
       "      <td>2.75</td>\n",
       "      <td>17850.0</td>\n",
       "      <td>United Kingdom</td>\n",
       "    </tr>\n",
       "    <tr>\n",
       "      <th>3</th>\n",
       "      <td>536365</td>\n",
       "      <td>84029G</td>\n",
       "      <td>KNITTED UNION FLAG HOT WATER BOTTLE</td>\n",
       "      <td>6</td>\n",
       "      <td>2010-12-01 08:26:00</td>\n",
       "      <td>3.39</td>\n",
       "      <td>17850.0</td>\n",
       "      <td>United Kingdom</td>\n",
       "    </tr>\n",
       "    <tr>\n",
       "      <th>4</th>\n",
       "      <td>536365</td>\n",
       "      <td>84029E</td>\n",
       "      <td>RED WOOLLY HOTTIE WHITE HEART.</td>\n",
       "      <td>6</td>\n",
       "      <td>2010-12-01 08:26:00</td>\n",
       "      <td>3.39</td>\n",
       "      <td>17850.0</td>\n",
       "      <td>United Kingdom</td>\n",
       "    </tr>\n",
       "  </tbody>\n",
       "</table>\n",
       "</div>"
      ],
      "text/plain": [
       "  InvoiceNo StockCode                          Description  Quantity  \\\n",
       "0    536365    85123A   WHITE HANGING HEART T-LIGHT HOLDER         6   \n",
       "1    536365     71053                  WHITE METAL LANTERN         6   \n",
       "2    536365    84406B       CREAM CUPID HEARTS COAT HANGER         8   \n",
       "3    536365    84029G  KNITTED UNION FLAG HOT WATER BOTTLE         6   \n",
       "4    536365    84029E       RED WOOLLY HOTTIE WHITE HEART.         6   \n",
       "\n",
       "          InvoiceDate  UnitPrice  CustomerID         Country  \n",
       "0 2010-12-01 08:26:00       2.55     17850.0  United Kingdom  \n",
       "1 2010-12-01 08:26:00       3.39     17850.0  United Kingdom  \n",
       "2 2010-12-01 08:26:00       2.75     17850.0  United Kingdom  \n",
       "3 2010-12-01 08:26:00       3.39     17850.0  United Kingdom  \n",
       "4 2010-12-01 08:26:00       3.39     17850.0  United Kingdom  "
      ]
     },
     "execution_count": 69,
     "metadata": {},
     "output_type": "execute_result"
    }
   ],
   "source": [
    "df.head()"
   ]
  },
  {
   "cell_type": "code",
   "execution_count": 70,
   "id": "45e27450-f9d4-4332-b7bc-e69475f11017",
   "metadata": {},
   "outputs": [
    {
     "data": {
      "text/plain": [
       "(391183, 8)"
      ]
     },
     "execution_count": 70,
     "metadata": {},
     "output_type": "execute_result"
    }
   ],
   "source": [
    "df.shape"
   ]
  },
  {
   "cell_type": "code",
   "execution_count": 71,
   "id": "f1d4df68-89ff-4734-8593-077ce1e7dd81",
   "metadata": {},
   "outputs": [
    {
     "data": {
      "text/html": [
       "<div>\n",
       "<style scoped>\n",
       "    .dataframe tbody tr th:only-of-type {\n",
       "        vertical-align: middle;\n",
       "    }\n",
       "\n",
       "    .dataframe tbody tr th {\n",
       "        vertical-align: top;\n",
       "    }\n",
       "\n",
       "    .dataframe thead th {\n",
       "        text-align: right;\n",
       "    }\n",
       "</style>\n",
       "<table border=\"1\" class=\"dataframe\">\n",
       "  <thead>\n",
       "    <tr style=\"text-align: right;\">\n",
       "      <th></th>\n",
       "      <th>InvoiceNo</th>\n",
       "      <th>StockCode</th>\n",
       "      <th>Description</th>\n",
       "      <th>Quantity</th>\n",
       "      <th>InvoiceDate</th>\n",
       "      <th>UnitPrice</th>\n",
       "      <th>CustomerID</th>\n",
       "      <th>Country</th>\n",
       "      <th>TotalSales</th>\n",
       "    </tr>\n",
       "  </thead>\n",
       "  <tbody>\n",
       "    <tr>\n",
       "      <th>0</th>\n",
       "      <td>536365</td>\n",
       "      <td>85123A</td>\n",
       "      <td>WHITE HANGING HEART T-LIGHT HOLDER</td>\n",
       "      <td>6</td>\n",
       "      <td>2010-12-01 08:26:00</td>\n",
       "      <td>2.55</td>\n",
       "      <td>17850.0</td>\n",
       "      <td>United Kingdom</td>\n",
       "      <td>15.30</td>\n",
       "    </tr>\n",
       "    <tr>\n",
       "      <th>1</th>\n",
       "      <td>536365</td>\n",
       "      <td>71053</td>\n",
       "      <td>WHITE METAL LANTERN</td>\n",
       "      <td>6</td>\n",
       "      <td>2010-12-01 08:26:00</td>\n",
       "      <td>3.39</td>\n",
       "      <td>17850.0</td>\n",
       "      <td>United Kingdom</td>\n",
       "      <td>20.34</td>\n",
       "    </tr>\n",
       "    <tr>\n",
       "      <th>2</th>\n",
       "      <td>536365</td>\n",
       "      <td>84406B</td>\n",
       "      <td>CREAM CUPID HEARTS COAT HANGER</td>\n",
       "      <td>8</td>\n",
       "      <td>2010-12-01 08:26:00</td>\n",
       "      <td>2.75</td>\n",
       "      <td>17850.0</td>\n",
       "      <td>United Kingdom</td>\n",
       "      <td>22.00</td>\n",
       "    </tr>\n",
       "    <tr>\n",
       "      <th>3</th>\n",
       "      <td>536365</td>\n",
       "      <td>84029G</td>\n",
       "      <td>KNITTED UNION FLAG HOT WATER BOTTLE</td>\n",
       "      <td>6</td>\n",
       "      <td>2010-12-01 08:26:00</td>\n",
       "      <td>3.39</td>\n",
       "      <td>17850.0</td>\n",
       "      <td>United Kingdom</td>\n",
       "      <td>20.34</td>\n",
       "    </tr>\n",
       "    <tr>\n",
       "      <th>4</th>\n",
       "      <td>536365</td>\n",
       "      <td>84029E</td>\n",
       "      <td>RED WOOLLY HOTTIE WHITE HEART.</td>\n",
       "      <td>6</td>\n",
       "      <td>2010-12-01 08:26:00</td>\n",
       "      <td>3.39</td>\n",
       "      <td>17850.0</td>\n",
       "      <td>United Kingdom</td>\n",
       "      <td>20.34</td>\n",
       "    </tr>\n",
       "  </tbody>\n",
       "</table>\n",
       "</div>"
      ],
      "text/plain": [
       "  InvoiceNo StockCode                          Description  Quantity  \\\n",
       "0    536365    85123A   WHITE HANGING HEART T-LIGHT HOLDER         6   \n",
       "1    536365     71053                  WHITE METAL LANTERN         6   \n",
       "2    536365    84406B       CREAM CUPID HEARTS COAT HANGER         8   \n",
       "3    536365    84029G  KNITTED UNION FLAG HOT WATER BOTTLE         6   \n",
       "4    536365    84029E       RED WOOLLY HOTTIE WHITE HEART.         6   \n",
       "\n",
       "          InvoiceDate  UnitPrice  CustomerID         Country  TotalSales  \n",
       "0 2010-12-01 08:26:00       2.55     17850.0  United Kingdom       15.30  \n",
       "1 2010-12-01 08:26:00       3.39     17850.0  United Kingdom       20.34  \n",
       "2 2010-12-01 08:26:00       2.75     17850.0  United Kingdom       22.00  \n",
       "3 2010-12-01 08:26:00       3.39     17850.0  United Kingdom       20.34  \n",
       "4 2010-12-01 08:26:00       3.39     17850.0  United Kingdom       20.34  "
      ]
     },
     "execution_count": 71,
     "metadata": {},
     "output_type": "execute_result"
    }
   ],
   "source": [
    "# Creating a new column \"Total Sales\"\n",
    "df[\"TotalSales\"] = df[\"Quantity\"] * df[\"UnitPrice\"]\n",
    "df.head()"
   ]
  },
  {
   "cell_type": "code",
   "execution_count": 72,
   "id": "763517fd-3d25-4f9d-bd5f-26c405d5bb62",
   "metadata": {},
   "outputs": [
    {
     "data": {
      "text/plain": [
       "count    391183.000000\n",
       "mean         22.335397\n",
       "std         310.919394\n",
       "min           0.000000\n",
       "25%           4.950000\n",
       "50%          11.900000\n",
       "75%          19.800000\n",
       "max      168469.600000\n",
       "Name: TotalSales, dtype: float64"
      ]
     },
     "execution_count": 72,
     "metadata": {},
     "output_type": "execute_result"
    }
   ],
   "source": [
    "df[\"TotalSales\"].describe()"
   ]
  },
  {
   "cell_type": "code",
   "execution_count": null,
   "id": "6ddc6a47-4de9-411b-96b5-69116e148fbd",
   "metadata": {},
   "outputs": [
    {
     "data": {
      "text/plain": [
       "(391183, 9)"
      ]
     },
     "execution_count": 73,
     "metadata": {},
     "output_type": "execute_result"
    }
   ],
   "source": [
    "# useing this dataframe for the rest of time-series analysis\n",
    "dft = df.copy()\n",
    "dft.shape"
   ]
  },
  {
   "cell_type": "markdown",
   "id": "06a696db-fcd8-45fb-9103-cb9db494eb3a",
   "metadata": {},
   "source": [
    "### Daily Sales Over Time"
   ]
  },
  {
   "cell_type": "code",
   "execution_count": null,
   "id": "7705f54e-fa40-4636-837e-2ef724ab64e8",
   "metadata": {},
   "outputs": [
    {
     "data": {
      "text/html": [
       "<div>\n",
       "<style scoped>\n",
       "    .dataframe tbody tr th:only-of-type {\n",
       "        vertical-align: middle;\n",
       "    }\n",
       "\n",
       "    .dataframe tbody tr th {\n",
       "        vertical-align: top;\n",
       "    }\n",
       "\n",
       "    .dataframe thead th {\n",
       "        text-align: right;\n",
       "    }\n",
       "</style>\n",
       "<table border=\"1\" class=\"dataframe\">\n",
       "  <thead>\n",
       "    <tr style=\"text-align: right;\">\n",
       "      <th></th>\n",
       "      <th>InvoiceNo</th>\n",
       "      <th>StockCode</th>\n",
       "      <th>Description</th>\n",
       "      <th>Quantity</th>\n",
       "      <th>InvoiceDate</th>\n",
       "      <th>UnitPrice</th>\n",
       "      <th>CustomerID</th>\n",
       "      <th>Country</th>\n",
       "      <th>TotalSales</th>\n",
       "    </tr>\n",
       "  </thead>\n",
       "  <tbody>\n",
       "    <tr>\n",
       "      <th>0</th>\n",
       "      <td>536365</td>\n",
       "      <td>85123A</td>\n",
       "      <td>WHITE HANGING HEART T-LIGHT HOLDER</td>\n",
       "      <td>6</td>\n",
       "      <td>2010-12-01</td>\n",
       "      <td>2.55</td>\n",
       "      <td>17850.0</td>\n",
       "      <td>United Kingdom</td>\n",
       "      <td>15.30</td>\n",
       "    </tr>\n",
       "    <tr>\n",
       "      <th>1</th>\n",
       "      <td>536365</td>\n",
       "      <td>71053</td>\n",
       "      <td>WHITE METAL LANTERN</td>\n",
       "      <td>6</td>\n",
       "      <td>2010-12-01</td>\n",
       "      <td>3.39</td>\n",
       "      <td>17850.0</td>\n",
       "      <td>United Kingdom</td>\n",
       "      <td>20.34</td>\n",
       "    </tr>\n",
       "    <tr>\n",
       "      <th>2</th>\n",
       "      <td>536365</td>\n",
       "      <td>84406B</td>\n",
       "      <td>CREAM CUPID HEARTS COAT HANGER</td>\n",
       "      <td>8</td>\n",
       "      <td>2010-12-01</td>\n",
       "      <td>2.75</td>\n",
       "      <td>17850.0</td>\n",
       "      <td>United Kingdom</td>\n",
       "      <td>22.00</td>\n",
       "    </tr>\n",
       "    <tr>\n",
       "      <th>3</th>\n",
       "      <td>536365</td>\n",
       "      <td>84029G</td>\n",
       "      <td>KNITTED UNION FLAG HOT WATER BOTTLE</td>\n",
       "      <td>6</td>\n",
       "      <td>2010-12-01</td>\n",
       "      <td>3.39</td>\n",
       "      <td>17850.0</td>\n",
       "      <td>United Kingdom</td>\n",
       "      <td>20.34</td>\n",
       "    </tr>\n",
       "    <tr>\n",
       "      <th>4</th>\n",
       "      <td>536365</td>\n",
       "      <td>84029E</td>\n",
       "      <td>RED WOOLLY HOTTIE WHITE HEART.</td>\n",
       "      <td>6</td>\n",
       "      <td>2010-12-01</td>\n",
       "      <td>3.39</td>\n",
       "      <td>17850.0</td>\n",
       "      <td>United Kingdom</td>\n",
       "      <td>20.34</td>\n",
       "    </tr>\n",
       "  </tbody>\n",
       "</table>\n",
       "</div>"
      ],
      "text/plain": [
       "  InvoiceNo StockCode                          Description  Quantity  \\\n",
       "0    536365    85123A   WHITE HANGING HEART T-LIGHT HOLDER         6   \n",
       "1    536365     71053                  WHITE METAL LANTERN         6   \n",
       "2    536365    84406B       CREAM CUPID HEARTS COAT HANGER         8   \n",
       "3    536365    84029G  KNITTED UNION FLAG HOT WATER BOTTLE         6   \n",
       "4    536365    84029E       RED WOOLLY HOTTIE WHITE HEART.         6   \n",
       "\n",
       "  InvoiceDate  UnitPrice  CustomerID         Country  TotalSales  \n",
       "0  2010-12-01       2.55     17850.0  United Kingdom       15.30  \n",
       "1  2010-12-01       3.39     17850.0  United Kingdom       20.34  \n",
       "2  2010-12-01       2.75     17850.0  United Kingdom       22.00  \n",
       "3  2010-12-01       3.39     17850.0  United Kingdom       20.34  \n",
       "4  2010-12-01       3.39     17850.0  United Kingdom       20.34  "
      ]
     },
     "execution_count": 74,
     "metadata": {},
     "output_type": "execute_result"
    }
   ],
   "source": [
    "# Analysing Daily sales \n",
    "# Extract date from the datetime\n",
    "dft[\"InvoiceDate\"] = dft[\"InvoiceDate\"].dt.date\n",
    "dft.head()"
   ]
  },
  {
   "cell_type": "code",
   "execution_count": 75,
   "id": "2142de80-afc8-4685-9f25-4ffcf8cf64e0",
   "metadata": {},
   "outputs": [
    {
     "data": {
      "text/html": [
       "<div>\n",
       "<style scoped>\n",
       "    .dataframe tbody tr th:only-of-type {\n",
       "        vertical-align: middle;\n",
       "    }\n",
       "\n",
       "    .dataframe tbody tr th {\n",
       "        vertical-align: top;\n",
       "    }\n",
       "\n",
       "    .dataframe thead th {\n",
       "        text-align: right;\n",
       "    }\n",
       "</style>\n",
       "<table border=\"1\" class=\"dataframe\">\n",
       "  <thead>\n",
       "    <tr style=\"text-align: right;\">\n",
       "      <th></th>\n",
       "      <th>InvoiceDate</th>\n",
       "      <th>TotalSales</th>\n",
       "    </tr>\n",
       "  </thead>\n",
       "  <tbody>\n",
       "    <tr>\n",
       "      <th>0</th>\n",
       "      <td>2010-12-01</td>\n",
       "      <td>46035.29</td>\n",
       "    </tr>\n",
       "    <tr>\n",
       "      <th>1</th>\n",
       "      <td>2010-12-02</td>\n",
       "      <td>47164.57</td>\n",
       "    </tr>\n",
       "    <tr>\n",
       "      <th>2</th>\n",
       "      <td>2010-12-03</td>\n",
       "      <td>23530.93</td>\n",
       "    </tr>\n",
       "    <tr>\n",
       "      <th>3</th>\n",
       "      <td>2010-12-05</td>\n",
       "      <td>30905.32</td>\n",
       "    </tr>\n",
       "    <tr>\n",
       "      <th>4</th>\n",
       "      <td>2010-12-06</td>\n",
       "      <td>30807.90</td>\n",
       "    </tr>\n",
       "  </tbody>\n",
       "</table>\n",
       "</div>"
      ],
      "text/plain": [
       "  InvoiceDate  TotalSales\n",
       "0  2010-12-01    46035.29\n",
       "1  2010-12-02    47164.57\n",
       "2  2010-12-03    23530.93\n",
       "3  2010-12-05    30905.32\n",
       "4  2010-12-06    30807.90"
      ]
     },
     "execution_count": 75,
     "metadata": {},
     "output_type": "execute_result"
    }
   ],
   "source": [
    "daily_sales = dft.groupby(\"InvoiceDate\")[\"TotalSales\"].sum().reset_index()\n",
    "daily_sales.head()"
   ]
  },
  {
   "cell_type": "code",
   "execution_count": null,
   "id": "4419746c-46f0-4767-87db-3cca8213429b",
   "metadata": {},
   "outputs": [
    {
     "data": {
      "image/png": "[encoded data removed]",
      "text/plain": [
       "<Figure size 1200x600 with 1 Axes>"
      ]
     },
     "metadata": {},
     "output_type": "display_data"
    }
   ],
   "source": [
    "plt.figure(figsize=(12, 6))\n",
    "\n",
    "sns.lineplot(data=daily_sales, x=\"InvoiceDate\", y=\"TotalSales\", color=\"royalblue\", linewidth=2)\n",
    "\n",
    "plt.xlabel(\"Date\", fontsize=12, fontweight=\"bold\")\n",
    "plt.ylabel(\"Total Sales\", fontsize=12, fontweight=\"bold\")\n",
    "plt.title(\"Daily Sales Trend Over Time\", fontsize=14, fontweight=\"bold\", color=\"darkred\")\n",
    "\n",
    "\n",
    "plt.gca().xaxis.set_major_formatter(mdates.DateFormatter('%b-%Y'))  # Jan-2010 format\n",
    "plt.gca().xaxis.set_major_locator(mdates.MonthLocator(interval=2))  # Show every 2nd month\n",
    "\n",
    "plt.gca().yaxis.set_major_formatter(mtick.FuncFormatter(lambda x, _: f'{x/1000:.0f}K'))  # Converts 80,000 → 80K\n",
    "\n",
    "\n",
    "plt.xlim(df[\"InvoiceDate\"].min(), df[\"InvoiceDate\"].max())\n",
    "\n",
    "plt.xticks(rotation=45)\n",
    "\n",
    "\n",
    "plt.grid(True, linestyle=\"--\", alpha=0.5)\n",
    "\n",
    "# Show plot\n",
    "plt.show()\n"
   ]
  },
  {
   "cell_type": "code",
   "execution_count": 77,
   "id": "53d8984a-eda0-429f-84fa-1fe9273c3a85",
   "metadata": {},
   "outputs": [
    {
     "name": "stdout",
     "output_type": "stream",
     "text": [
      "InvoiceDate\n",
      "Dec 2010     565199.56\n",
      "Jan 2011     562682.91\n",
      "Feb 2011     442293.59\n",
      "Mar 2011     583143.85\n",
      "Apr 2011     454440.88\n",
      "May 2011     659242.49\n",
      "Jun 2011     653264.92\n",
      "Jul 2011     591603.79\n",
      "Aug 2011     635514.38\n",
      "Sep 2011     938752.63\n",
      "Oct 2011    1002326.56\n",
      "Nov 2011    1136534.00\n",
      "Dec 2011     512228.08\n",
      "Name: TotalSales, dtype: float64\n"
     ]
    }
   ],
   "source": [
    "# Resample sales data monthly and sum up the total sales\n",
    "monthly_sales = df.resample('M', on=\"InvoiceDate\")[\"TotalSales\"].sum()\n",
    "\n",
    "# Convert index to formatted string (e.g., \"Jan 2010\")\n",
    "monthly_sales.index = monthly_sales.index.strftime('%b %Y')\n",
    "\n",
    "# Display the result\n",
    "print(monthly_sales)"
   ]
  },
  {
   "cell_type": "code",
   "execution_count": 78,
   "id": "a5f1c353-3876-46cd-bfd8-752c0d99a289",
   "metadata": {},
   "outputs": [
    {
     "name": "stdout",
     "output_type": "stream",
     "text": [
      "The Average monthly sales over a period of one year is 672094\n"
     ]
    }
   ],
   "source": [
    "print(\"The Average monthly sales over a period of one year is\", round(monthly_sales.values.mean()))"
   ]
  },
  {
   "cell_type": "code",
   "execution_count": 196,
   "id": "029ffbe4-886b-435f-87f9-5c0c8fc06a73",
   "metadata": {},
   "outputs": [
    {
     "data": {
      "image/png": "[encoded data removed]",
      "text/plain": [
       "<Figure size 1200x500 with 1 Axes>"
      ]
     },
     "metadata": {},
     "output_type": "display_data"
    }
   ],
   "source": [
    "plt.figure(figsize=(12, 5))\n",
    "sns.barplot(x=monthly_sales.index, y=monthly_sales.values, palette=\"muted\", edgecolor=\"black\")\n",
    "\n",
    "\n",
    "plt.xlabel(\"Month-Year\", fontsize=12, fontweight=\"bold\")\n",
    "plt.ylabel(\"Total Sales\", fontsize=12, fontweight=\"bold\")\n",
    "plt.title(\"Total Sales Per Month\", fontsize=14, fontweight=\"bold\", color=\"darkred\")\n",
    "\n",
    "\n",
    "plt.gca().yaxis.set_major_formatter(mtick.FuncFormatter(lambda x, _: f'{x/1000:.0f}K'))\n",
    "\n",
    "\n",
    "average_sales = monthly_sales.values.mean()\n",
    "\n",
    "plt.axhline(average_sales, color=\"red\", linestyle=\"dotted\", linewidth=2, label=f\"Avg Sales: {average_sales/1000:.1f}K\")\n",
    "\n",
    "\n",
    "plt.text(x=len(monthly_sales) - 6,  # Position near the last bar\n",
    "         y=average_sales + (average_sales * 0.03),  # Slightly above the line\n",
    "         s=\"Average Monthly Sales\",\n",
    "         color=\"red\",\n",
    "         fontsize=12,\n",
    "         fontweight=\"bold\",\n",
    "         ha=\"right\")  # Align to the right\n",
    "\n",
    "plt.xticks(rotation=45)\n",
    "\n",
    "plt.grid(axis=\"y\", linestyle=\"--\", alpha=0.6)\n",
    "plt.show()"
   ]
  },
  {
   "cell_type": "raw",
   "id": "95e17dfb-73d4-47b7-9ec4-1b7d6de486b1",
   "metadata": {
    "vscode": {
     "languageId": "raw"
    }
   },
   "source": [
    "#Insight: There is an increase in Total Sales in the months of September, October and December. "
   ]
  },
  {
   "cell_type": "markdown",
   "id": "fe00b43b-a503-4d54-88e4-f3c6a51c646f",
   "metadata": {},
   "source": [
    "### Sales by Day"
   ]
  },
  {
   "cell_type": "code",
   "execution_count": 80,
   "id": "a73cb6d2-0bff-4cb6-8ddb-40c201d0566c",
   "metadata": {},
   "outputs": [
    {
     "data": {
      "text/html": [
       "<div>\n",
       "<style scoped>\n",
       "    .dataframe tbody tr th:only-of-type {\n",
       "        vertical-align: middle;\n",
       "    }\n",
       "\n",
       "    .dataframe tbody tr th {\n",
       "        vertical-align: top;\n",
       "    }\n",
       "\n",
       "    .dataframe thead th {\n",
       "        text-align: right;\n",
       "    }\n",
       "</style>\n",
       "<table border=\"1\" class=\"dataframe\">\n",
       "  <thead>\n",
       "    <tr style=\"text-align: right;\">\n",
       "      <th></th>\n",
       "      <th>InvoiceNo</th>\n",
       "      <th>StockCode</th>\n",
       "      <th>Description</th>\n",
       "      <th>Quantity</th>\n",
       "      <th>InvoiceDate</th>\n",
       "      <th>UnitPrice</th>\n",
       "      <th>CustomerID</th>\n",
       "      <th>Country</th>\n",
       "      <th>TotalSales</th>\n",
       "      <th>DayOfWeek</th>\n",
       "    </tr>\n",
       "  </thead>\n",
       "  <tbody>\n",
       "    <tr>\n",
       "      <th>0</th>\n",
       "      <td>536365</td>\n",
       "      <td>85123A</td>\n",
       "      <td>WHITE HANGING HEART T-LIGHT HOLDER</td>\n",
       "      <td>6</td>\n",
       "      <td>2010-12-01 08:26:00</td>\n",
       "      <td>2.55</td>\n",
       "      <td>17850.0</td>\n",
       "      <td>United Kingdom</td>\n",
       "      <td>15.30</td>\n",
       "      <td>Wednesday</td>\n",
       "    </tr>\n",
       "    <tr>\n",
       "      <th>1</th>\n",
       "      <td>536365</td>\n",
       "      <td>71053</td>\n",
       "      <td>WHITE METAL LANTERN</td>\n",
       "      <td>6</td>\n",
       "      <td>2010-12-01 08:26:00</td>\n",
       "      <td>3.39</td>\n",
       "      <td>17850.0</td>\n",
       "      <td>United Kingdom</td>\n",
       "      <td>20.34</td>\n",
       "      <td>Wednesday</td>\n",
       "    </tr>\n",
       "    <tr>\n",
       "      <th>2</th>\n",
       "      <td>536365</td>\n",
       "      <td>84406B</td>\n",
       "      <td>CREAM CUPID HEARTS COAT HANGER</td>\n",
       "      <td>8</td>\n",
       "      <td>2010-12-01 08:26:00</td>\n",
       "      <td>2.75</td>\n",
       "      <td>17850.0</td>\n",
       "      <td>United Kingdom</td>\n",
       "      <td>22.00</td>\n",
       "      <td>Wednesday</td>\n",
       "    </tr>\n",
       "    <tr>\n",
       "      <th>3</th>\n",
       "      <td>536365</td>\n",
       "      <td>84029G</td>\n",
       "      <td>KNITTED UNION FLAG HOT WATER BOTTLE</td>\n",
       "      <td>6</td>\n",
       "      <td>2010-12-01 08:26:00</td>\n",
       "      <td>3.39</td>\n",
       "      <td>17850.0</td>\n",
       "      <td>United Kingdom</td>\n",
       "      <td>20.34</td>\n",
       "      <td>Wednesday</td>\n",
       "    </tr>\n",
       "    <tr>\n",
       "      <th>4</th>\n",
       "      <td>536365</td>\n",
       "      <td>84029E</td>\n",
       "      <td>RED WOOLLY HOTTIE WHITE HEART.</td>\n",
       "      <td>6</td>\n",
       "      <td>2010-12-01 08:26:00</td>\n",
       "      <td>3.39</td>\n",
       "      <td>17850.0</td>\n",
       "      <td>United Kingdom</td>\n",
       "      <td>20.34</td>\n",
       "      <td>Wednesday</td>\n",
       "    </tr>\n",
       "  </tbody>\n",
       "</table>\n",
       "</div>"
      ],
      "text/plain": [
       "  InvoiceNo StockCode                          Description  Quantity  \\\n",
       "0    536365    85123A   WHITE HANGING HEART T-LIGHT HOLDER         6   \n",
       "1    536365     71053                  WHITE METAL LANTERN         6   \n",
       "2    536365    84406B       CREAM CUPID HEARTS COAT HANGER         8   \n",
       "3    536365    84029G  KNITTED UNION FLAG HOT WATER BOTTLE         6   \n",
       "4    536365    84029E       RED WOOLLY HOTTIE WHITE HEART.         6   \n",
       "\n",
       "          InvoiceDate  UnitPrice  CustomerID         Country  TotalSales  \\\n",
       "0 2010-12-01 08:26:00       2.55     17850.0  United Kingdom       15.30   \n",
       "1 2010-12-01 08:26:00       3.39     17850.0  United Kingdom       20.34   \n",
       "2 2010-12-01 08:26:00       2.75     17850.0  United Kingdom       22.00   \n",
       "3 2010-12-01 08:26:00       3.39     17850.0  United Kingdom       20.34   \n",
       "4 2010-12-01 08:26:00       3.39     17850.0  United Kingdom       20.34   \n",
       "\n",
       "   DayOfWeek  \n",
       "0  Wednesday  \n",
       "1  Wednesday  \n",
       "2  Wednesday  \n",
       "3  Wednesday  \n",
       "4  Wednesday  "
      ]
     },
     "execution_count": 80,
     "metadata": {},
     "output_type": "execute_result"
    }
   ],
   "source": [
    "# Analysing Daily sales \n",
    "# Extract the date from the datetime\n",
    "df[\"DayOfWeek\"] = df[\"InvoiceDate\"].dt.day_name()\n",
    "df.head()"
   ]
  },
  {
   "cell_type": "code",
   "execution_count": 81,
   "id": "3f353d69-2859-430c-89ea-8c9891af5e60",
   "metadata": {},
   "outputs": [
    {
     "data": {
      "text/plain": [
       "DayOfWeek\n",
       "Monday       1326500.48\n",
       "Tuesday      1672493.12\n",
       "Wednesday    1559469.25\n",
       "Thursday     1939228.91\n",
       "Friday       1459797.08\n",
       "Saturday            NaN\n",
       "Sunday        779738.80\n",
       "Name: TotalSales, dtype: float64"
      ]
     },
     "execution_count": 81,
     "metadata": {},
     "output_type": "execute_result"
    }
   ],
   "source": [
    "sales_by_day = df.groupby(\"DayOfWeek\")[\"TotalSales\"].sum().reindex(\n",
    "    [\"Monday\", \"Tuesday\", \"Wednesday\", \"Thursday\", \"Friday\", \"Saturday\", \"Sunday\"])\n",
    "sales_by_day"
   ]
  },
  {
   "cell_type": "code",
   "execution_count": 82,
   "id": "1bd5ffe8-358e-4cfa-87cd-7efbdb77d825",
   "metadata": {},
   "outputs": [
    {
     "data": {
      "text/html": [
       "<div>\n",
       "<style scoped>\n",
       "    .dataframe tbody tr th:only-of-type {\n",
       "        vertical-align: middle;\n",
       "    }\n",
       "\n",
       "    .dataframe tbody tr th {\n",
       "        vertical-align: top;\n",
       "    }\n",
       "\n",
       "    .dataframe thead th {\n",
       "        text-align: right;\n",
       "    }\n",
       "</style>\n",
       "<table border=\"1\" class=\"dataframe\">\n",
       "  <thead>\n",
       "    <tr style=\"text-align: right;\">\n",
       "      <th></th>\n",
       "      <th>InvoiceNo</th>\n",
       "      <th>StockCode</th>\n",
       "      <th>Description</th>\n",
       "      <th>Quantity</th>\n",
       "      <th>InvoiceDate</th>\n",
       "      <th>UnitPrice</th>\n",
       "      <th>CustomerID</th>\n",
       "      <th>Country</th>\n",
       "      <th>TotalSales</th>\n",
       "      <th>DayOfWeek</th>\n",
       "    </tr>\n",
       "  </thead>\n",
       "  <tbody>\n",
       "  </tbody>\n",
       "</table>\n",
       "</div>"
      ],
      "text/plain": [
       "Empty DataFrame\n",
       "Columns: [InvoiceNo, StockCode, Description, Quantity, InvoiceDate, UnitPrice, CustomerID, Country, TotalSales, DayOfWeek]\n",
       "Index: []"
      ]
     },
     "execution_count": 82,
     "metadata": {},
     "output_type": "execute_result"
    }
   ],
   "source": [
    "df[df[\"DayOfWeek\"] == \"Saturday\"]"
   ]
  },
  {
   "cell_type": "code",
   "execution_count": null,
   "id": "7db7e3bd-9071-40cf-85de-b0eb8584beeb",
   "metadata": {},
   "outputs": [],
   "source": [
    "#Insight: There are no sales on Saturday!"
   ]
  },
  {
   "cell_type": "code",
   "execution_count": 200,
   "id": "4c402d19-0116-44b6-b9c1-c6472eec9f35",
   "metadata": {},
   "outputs": [
    {
     "data": {
      "image/png": "[encoded data removed]",
      "text/plain": [
       "<Figure size 1000x600 with 1 Axes>"
      ]
     },
     "metadata": {},
     "output_type": "display_data"
    }
   ],
   "source": [
    "# Set figure size\n",
    "plt.figure(figsize=(10, 6))\n",
    "\n",
    "# Create bar plot\n",
    "sns.barplot(x=sales_by_day.index, y=sales_by_day.values, palette=\"muted\", edgecolor=\"black\")\n",
    "\n",
    "# Formatting\n",
    "plt.xlabel(\"Day of the Week\", fontsize=12, fontweight=\"bold\")\n",
    "plt.ylabel(\"Total Sales\", fontsize=12, fontweight=\"bold\")\n",
    "plt.title(\"Total Sales by Day of the Week\", fontsize=14, fontweight=\"bold\", color=\"darkred\")\n",
    "\n",
    "# Format y-axis to show sales in \"K\" instead of full numbers\n",
    "plt.gca().yaxis.set_major_formatter(mtick.FuncFormatter(lambda x, _: f'{x/1000:.0f}K'))\n",
    "\n",
    "# Rotate x-axis labels for better readability\n",
    "plt.xticks(rotation=45)\n",
    "\n",
    "# Add gridlines for better readability\n",
    "plt.grid(axis=\"y\", linestyle=\"--\", alpha=0.6)\n",
    "\n",
    "# Show plot\n",
    "plt.show()"
   ]
  },
  {
   "cell_type": "markdown",
   "id": "ec815c13-332c-4f63-86cf-e8853b210bc1",
   "metadata": {},
   "source": [
    "## Pareto Principle"
   ]
  },
  {
   "cell_type": "markdown",
   "id": "da7a6a2f-e3f6-4926-9476-3f34913372fb",
   "metadata": {},
   "source": [
    "### 80% of the company's revenue comes from 20% of the total customers"
   ]
  },
  {
   "cell_type": "code",
   "execution_count": 84,
   "id": "c20f935d-5cb3-4378-88a3-138c8d99df91",
   "metadata": {},
   "outputs": [
    {
     "data": {
      "text/plain": [
       "3659"
      ]
     },
     "execution_count": 84,
     "metadata": {},
     "output_type": "execute_result"
    }
   ],
   "source": [
    "df[\"StockCode\"].nunique()"
   ]
  },
  {
   "cell_type": "code",
   "execution_count": 85,
   "id": "07c7927d-fd42-4069-b3dd-d1124f393cd2",
   "metadata": {},
   "outputs": [
    {
     "data": {
      "text/plain": [
       "4335"
      ]
     },
     "execution_count": 85,
     "metadata": {},
     "output_type": "execute_result"
    }
   ],
   "source": [
    "df[\"CustomerID\"].nunique()"
   ]
  },
  {
   "cell_type": "code",
   "execution_count": 86,
   "id": "d3f38e5c-4045-4ca7-b2a4-43a4344f51e1",
   "metadata": {},
   "outputs": [
    {
     "data": {
      "text/html": [
       "<div>\n",
       "<style scoped>\n",
       "    .dataframe tbody tr th:only-of-type {\n",
       "        vertical-align: middle;\n",
       "    }\n",
       "\n",
       "    .dataframe tbody tr th {\n",
       "        vertical-align: top;\n",
       "    }\n",
       "\n",
       "    .dataframe thead th {\n",
       "        text-align: right;\n",
       "    }\n",
       "</style>\n",
       "<table border=\"1\" class=\"dataframe\">\n",
       "  <thead>\n",
       "    <tr style=\"text-align: right;\">\n",
       "      <th></th>\n",
       "      <th>CustomerID</th>\n",
       "      <th>TotalSales</th>\n",
       "    </tr>\n",
       "  </thead>\n",
       "  <tbody>\n",
       "    <tr>\n",
       "      <th>0</th>\n",
       "      <td>14646.0</td>\n",
       "      <td>279138.02</td>\n",
       "    </tr>\n",
       "    <tr>\n",
       "      <th>1</th>\n",
       "      <td>18102.0</td>\n",
       "      <td>259657.30</td>\n",
       "    </tr>\n",
       "    <tr>\n",
       "      <th>2</th>\n",
       "      <td>17450.0</td>\n",
       "      <td>194390.79</td>\n",
       "    </tr>\n",
       "    <tr>\n",
       "      <th>3</th>\n",
       "      <td>16446.0</td>\n",
       "      <td>168472.50</td>\n",
       "    </tr>\n",
       "    <tr>\n",
       "      <th>4</th>\n",
       "      <td>14911.0</td>\n",
       "      <td>136161.83</td>\n",
       "    </tr>\n",
       "    <tr>\n",
       "      <th>...</th>\n",
       "      <td>...</td>\n",
       "      <td>...</td>\n",
       "    </tr>\n",
       "    <tr>\n",
       "      <th>4330</th>\n",
       "      <td>17956.0</td>\n",
       "      <td>12.75</td>\n",
       "    </tr>\n",
       "    <tr>\n",
       "      <th>4331</th>\n",
       "      <td>14792.0</td>\n",
       "      <td>6.20</td>\n",
       "    </tr>\n",
       "    <tr>\n",
       "      <th>4332</th>\n",
       "      <td>16454.0</td>\n",
       "      <td>5.90</td>\n",
       "    </tr>\n",
       "    <tr>\n",
       "      <th>4333</th>\n",
       "      <td>16738.0</td>\n",
       "      <td>3.75</td>\n",
       "    </tr>\n",
       "    <tr>\n",
       "      <th>4334</th>\n",
       "      <td>13256.0</td>\n",
       "      <td>0.00</td>\n",
       "    </tr>\n",
       "  </tbody>\n",
       "</table>\n",
       "<p>4335 rows × 2 columns</p>\n",
       "</div>"
      ],
      "text/plain": [
       "      CustomerID  TotalSales\n",
       "0        14646.0   279138.02\n",
       "1        18102.0   259657.30\n",
       "2        17450.0   194390.79\n",
       "3        16446.0   168472.50\n",
       "4        14911.0   136161.83\n",
       "...          ...         ...\n",
       "4330     17956.0       12.75\n",
       "4331     14792.0        6.20\n",
       "4332     16454.0        5.90\n",
       "4333     16738.0        3.75\n",
       "4334     13256.0        0.00\n",
       "\n",
       "[4335 rows x 2 columns]"
      ]
     },
     "execution_count": 86,
     "metadata": {},
     "output_type": "execute_result"
    }
   ],
   "source": [
    "# Total sales per customer\n",
    "sales_per_customer = df.groupby(\"CustomerID\")[\"TotalSales\"].sum().reset_index()\n",
    "sales_per_customer = sales_per_customer.sort_values(by = \"TotalSales\", ascending=False).reset_index(drop=True)\n",
    "sales_per_customer"
   ]
  },
  {
   "cell_type": "code",
   "execution_count": 87,
   "id": "f803f8bb-436e-4459-aced-4b0d79b1a522",
   "metadata": {},
   "outputs": [
    {
     "data": {
      "text/html": [
       "<div>\n",
       "<style scoped>\n",
       "    .dataframe tbody tr th:only-of-type {\n",
       "        vertical-align: middle;\n",
       "    }\n",
       "\n",
       "    .dataframe tbody tr th {\n",
       "        vertical-align: top;\n",
       "    }\n",
       "\n",
       "    .dataframe thead th {\n",
       "        text-align: right;\n",
       "    }\n",
       "</style>\n",
       "<table border=\"1\" class=\"dataframe\">\n",
       "  <thead>\n",
       "    <tr style=\"text-align: right;\">\n",
       "      <th></th>\n",
       "      <th>CustomerID</th>\n",
       "      <th>TotalSales</th>\n",
       "      <th>CumulativePercentage</th>\n",
       "    </tr>\n",
       "  </thead>\n",
       "  <tbody>\n",
       "    <tr>\n",
       "      <th>0</th>\n",
       "      <td>14646.0</td>\n",
       "      <td>279138.02</td>\n",
       "      <td>3.194812</td>\n",
       "    </tr>\n",
       "    <tr>\n",
       "      <th>1</th>\n",
       "      <td>18102.0</td>\n",
       "      <td>259657.30</td>\n",
       "      <td>6.166662</td>\n",
       "    </tr>\n",
       "    <tr>\n",
       "      <th>2</th>\n",
       "      <td>17450.0</td>\n",
       "      <td>194390.79</td>\n",
       "      <td>8.391519</td>\n",
       "    </tr>\n",
       "    <tr>\n",
       "      <th>3</th>\n",
       "      <td>16446.0</td>\n",
       "      <td>168472.50</td>\n",
       "      <td>10.319734</td>\n",
       "    </tr>\n",
       "    <tr>\n",
       "      <th>4</th>\n",
       "      <td>14911.0</td>\n",
       "      <td>136161.83</td>\n",
       "      <td>11.878144</td>\n",
       "    </tr>\n",
       "    <tr>\n",
       "      <th>...</th>\n",
       "      <td>...</td>\n",
       "      <td>...</td>\n",
       "      <td>...</td>\n",
       "    </tr>\n",
       "    <tr>\n",
       "      <th>4330</th>\n",
       "      <td>17956.0</td>\n",
       "      <td>12.75</td>\n",
       "      <td>99.999819</td>\n",
       "    </tr>\n",
       "    <tr>\n",
       "      <th>4331</th>\n",
       "      <td>14792.0</td>\n",
       "      <td>6.20</td>\n",
       "      <td>99.999890</td>\n",
       "    </tr>\n",
       "    <tr>\n",
       "      <th>4332</th>\n",
       "      <td>16454.0</td>\n",
       "      <td>5.90</td>\n",
       "      <td>99.999957</td>\n",
       "    </tr>\n",
       "    <tr>\n",
       "      <th>4333</th>\n",
       "      <td>16738.0</td>\n",
       "      <td>3.75</td>\n",
       "      <td>100.000000</td>\n",
       "    </tr>\n",
       "    <tr>\n",
       "      <th>4334</th>\n",
       "      <td>13256.0</td>\n",
       "      <td>0.00</td>\n",
       "      <td>100.000000</td>\n",
       "    </tr>\n",
       "  </tbody>\n",
       "</table>\n",
       "<p>4335 rows × 3 columns</p>\n",
       "</div>"
      ],
      "text/plain": [
       "      CustomerID  TotalSales  CumulativePercentage\n",
       "0        14646.0   279138.02              3.194812\n",
       "1        18102.0   259657.30              6.166662\n",
       "2        17450.0   194390.79              8.391519\n",
       "3        16446.0   168472.50             10.319734\n",
       "4        14911.0   136161.83             11.878144\n",
       "...          ...         ...                   ...\n",
       "4330     17956.0       12.75             99.999819\n",
       "4331     14792.0        6.20             99.999890\n",
       "4332     16454.0        5.90             99.999957\n",
       "4333     16738.0        3.75            100.000000\n",
       "4334     13256.0        0.00            100.000000\n",
       "\n",
       "[4335 rows x 3 columns]"
      ]
     },
     "execution_count": 87,
     "metadata": {},
     "output_type": "execute_result"
    }
   ],
   "source": [
    "# Creating a new column \"Cumulative Percentage\"\n",
    "sales_per_customer[\"CumulativePercentage\"] = (sales_per_customer[\"TotalSales\"].cumsum()*100)/sales_per_customer[\"TotalSales\"].sum()\n",
    "sales_per_customer"
   ]
  },
  {
   "cell_type": "code",
   "execution_count": 88,
   "id": "4ff44480-3267-402c-8385-83e56db28275",
   "metadata": {},
   "outputs": [
    {
     "name": "stdout",
     "output_type": "stream",
     "text": [
      "26% of customers contribute to 80% of sales.\n"
     ]
    }
   ],
   "source": [
    "# Verifying the Pareto Principle\n",
    "perc = round((len(sales_per_customer[sales_per_customer[\"CumulativePercentage\"] < 80])*100)/len(sales_per_customer))\n",
    "print(f\"{perc}% of customers contribute to 80% of sales.\")"
   ]
  },
  {
   "cell_type": "markdown",
   "id": "c76dcf15-7b20-46ed-933a-ce39fb557936",
   "metadata": {},
   "source": [
    "### 20% of the products are responsible for 80% of the revenue"
   ]
  },
  {
   "cell_type": "code",
   "execution_count": 89,
   "id": "d3cc959e-162a-40cb-9d20-bdb811dc18b7",
   "metadata": {},
   "outputs": [
    {
     "data": {
      "text/plain": [
       "3659"
      ]
     },
     "execution_count": 89,
     "metadata": {},
     "output_type": "execute_result"
    }
   ],
   "source": [
    "df[\"StockCode\"].nunique()"
   ]
  },
  {
   "cell_type": "code",
   "execution_count": 90,
   "id": "8b2fb29e-5b15-42c1-9192-362a203db4e2",
   "metadata": {},
   "outputs": [
    {
     "data": {
      "text/html": [
       "<div>\n",
       "<style scoped>\n",
       "    .dataframe tbody tr th:only-of-type {\n",
       "        vertical-align: middle;\n",
       "    }\n",
       "\n",
       "    .dataframe tbody tr th {\n",
       "        vertical-align: top;\n",
       "    }\n",
       "\n",
       "    .dataframe thead th {\n",
       "        text-align: right;\n",
       "    }\n",
       "</style>\n",
       "<table border=\"1\" class=\"dataframe\">\n",
       "  <thead>\n",
       "    <tr style=\"text-align: right;\">\n",
       "      <th></th>\n",
       "      <th>StockCode</th>\n",
       "      <th>TotalSales</th>\n",
       "    </tr>\n",
       "  </thead>\n",
       "  <tbody>\n",
       "    <tr>\n",
       "      <th>0</th>\n",
       "      <td>23843</td>\n",
       "      <td>168469.60</td>\n",
       "    </tr>\n",
       "    <tr>\n",
       "      <th>1</th>\n",
       "      <td>22423</td>\n",
       "      <td>142264.75</td>\n",
       "    </tr>\n",
       "    <tr>\n",
       "      <th>2</th>\n",
       "      <td>85123A</td>\n",
       "      <td>100547.45</td>\n",
       "    </tr>\n",
       "    <tr>\n",
       "      <th>3</th>\n",
       "      <td>85099B</td>\n",
       "      <td>85040.54</td>\n",
       "    </tr>\n",
       "    <tr>\n",
       "      <th>4</th>\n",
       "      <td>23166</td>\n",
       "      <td>81416.73</td>\n",
       "    </tr>\n",
       "    <tr>\n",
       "      <th>...</th>\n",
       "      <td>...</td>\n",
       "      <td>...</td>\n",
       "    </tr>\n",
       "    <tr>\n",
       "      <th>3654</th>\n",
       "      <td>84201C</td>\n",
       "      <td>0.95</td>\n",
       "    </tr>\n",
       "    <tr>\n",
       "      <th>3655</th>\n",
       "      <td>90104</td>\n",
       "      <td>0.85</td>\n",
       "    </tr>\n",
       "    <tr>\n",
       "      <th>3656</th>\n",
       "      <td>90084</td>\n",
       "      <td>0.85</td>\n",
       "    </tr>\n",
       "    <tr>\n",
       "      <th>3657</th>\n",
       "      <td>21268</td>\n",
       "      <td>0.84</td>\n",
       "    </tr>\n",
       "    <tr>\n",
       "      <th>3658</th>\n",
       "      <td>84227</td>\n",
       "      <td>0.42</td>\n",
       "    </tr>\n",
       "  </tbody>\n",
       "</table>\n",
       "<p>3659 rows × 2 columns</p>\n",
       "</div>"
      ],
      "text/plain": [
       "     StockCode  TotalSales\n",
       "0        23843   168469.60\n",
       "1        22423   142264.75\n",
       "2       85123A   100547.45\n",
       "3       85099B    85040.54\n",
       "4        23166    81416.73\n",
       "...        ...         ...\n",
       "3654    84201C        0.95\n",
       "3655     90104        0.85\n",
       "3656     90084        0.85\n",
       "3657     21268        0.84\n",
       "3658     84227        0.42\n",
       "\n",
       "[3659 rows x 2 columns]"
      ]
     },
     "execution_count": 90,
     "metadata": {},
     "output_type": "execute_result"
    }
   ],
   "source": [
    "# Total sales per product\n",
    "sales_per_product = df.groupby(\"StockCode\")[\"TotalSales\"].sum().reset_index()\n",
    "sales_per_product = sales_per_product.sort_values(by=\"TotalSales\", ascending=False).reset_index(drop=True)\n",
    "sales_per_product"
   ]
  },
  {
   "cell_type": "code",
   "execution_count": 91,
   "id": "b4fa0102-d204-46df-b8fa-24c8e79dc557",
   "metadata": {},
   "outputs": [
    {
     "data": {
      "text/html": [
       "<div>\n",
       "<style scoped>\n",
       "    .dataframe tbody tr th:only-of-type {\n",
       "        vertical-align: middle;\n",
       "    }\n",
       "\n",
       "    .dataframe tbody tr th {\n",
       "        vertical-align: top;\n",
       "    }\n",
       "\n",
       "    .dataframe thead th {\n",
       "        text-align: right;\n",
       "    }\n",
       "</style>\n",
       "<table border=\"1\" class=\"dataframe\">\n",
       "  <thead>\n",
       "    <tr style=\"text-align: right;\">\n",
       "      <th></th>\n",
       "      <th>StockCode</th>\n",
       "      <th>TotalSales</th>\n",
       "      <th>CumulativePercentage</th>\n",
       "    </tr>\n",
       "  </thead>\n",
       "  <tbody>\n",
       "    <tr>\n",
       "      <th>0</th>\n",
       "      <td>23843</td>\n",
       "      <td>168469.60</td>\n",
       "      <td>1.928181</td>\n",
       "    </tr>\n",
       "    <tr>\n",
       "      <th>1</th>\n",
       "      <td>22423</td>\n",
       "      <td>142264.75</td>\n",
       "      <td>3.556441</td>\n",
       "    </tr>\n",
       "    <tr>\n",
       "      <th>2</th>\n",
       "      <td>85123A</td>\n",
       "      <td>100547.45</td>\n",
       "      <td>4.707235</td>\n",
       "    </tr>\n",
       "    <tr>\n",
       "      <th>3</th>\n",
       "      <td>85099B</td>\n",
       "      <td>85040.54</td>\n",
       "      <td>5.680547</td>\n",
       "    </tr>\n",
       "    <tr>\n",
       "      <th>4</th>\n",
       "      <td>23166</td>\n",
       "      <td>81416.73</td>\n",
       "      <td>6.612384</td>\n",
       "    </tr>\n",
       "    <tr>\n",
       "      <th>...</th>\n",
       "      <td>...</td>\n",
       "      <td>...</td>\n",
       "      <td>...</td>\n",
       "    </tr>\n",
       "    <tr>\n",
       "      <th>3654</th>\n",
       "      <td>84201C</td>\n",
       "      <td>0.95</td>\n",
       "      <td>99.999966</td>\n",
       "    </tr>\n",
       "    <tr>\n",
       "      <th>3655</th>\n",
       "      <td>90104</td>\n",
       "      <td>0.85</td>\n",
       "      <td>99.999976</td>\n",
       "    </tr>\n",
       "    <tr>\n",
       "      <th>3656</th>\n",
       "      <td>90084</td>\n",
       "      <td>0.85</td>\n",
       "      <td>99.999986</td>\n",
       "    </tr>\n",
       "    <tr>\n",
       "      <th>3657</th>\n",
       "      <td>21268</td>\n",
       "      <td>0.84</td>\n",
       "      <td>99.999995</td>\n",
       "    </tr>\n",
       "    <tr>\n",
       "      <th>3658</th>\n",
       "      <td>84227</td>\n",
       "      <td>0.42</td>\n",
       "      <td>100.000000</td>\n",
       "    </tr>\n",
       "  </tbody>\n",
       "</table>\n",
       "<p>3659 rows × 3 columns</p>\n",
       "</div>"
      ],
      "text/plain": [
       "     StockCode  TotalSales  CumulativePercentage\n",
       "0        23843   168469.60              1.928181\n",
       "1        22423   142264.75              3.556441\n",
       "2       85123A   100547.45              4.707235\n",
       "3       85099B    85040.54              5.680547\n",
       "4        23166    81416.73              6.612384\n",
       "...        ...         ...                   ...\n",
       "3654    84201C        0.95             99.999966\n",
       "3655     90104        0.85             99.999976\n",
       "3656     90084        0.85             99.999986\n",
       "3657     21268        0.84             99.999995\n",
       "3658     84227        0.42            100.000000\n",
       "\n",
       "[3659 rows x 3 columns]"
      ]
     },
     "execution_count": 91,
     "metadata": {},
     "output_type": "execute_result"
    }
   ],
   "source": [
    "# Creating a new column \"CumulativePercentage\"\n",
    "sales_per_product[\"CumulativePercentage\"] = (sales_per_product[\"TotalSales\"].cumsum()*100)/sales_per_product[\"TotalSales\"].sum()\n",
    "sales_per_product"
   ]
  },
  {
   "cell_type": "code",
   "execution_count": 92,
   "id": "ff45709e-5087-4cb8-8993-4c830bfb017e",
   "metadata": {},
   "outputs": [
    {
     "name": "stdout",
     "output_type": "stream",
     "text": [
      "21% of products contribute to 80% of sales.\n"
     ]
    }
   ],
   "source": [
    "# Verifying the Pareto Principle\n",
    "perc = round((len(sales_per_product[sales_per_product[\"CumulativePercentage\"] < 80])*100)/len(sales_per_product))\n",
    "print(f\"{perc}% of products contribute to 80% of sales.\")"
   ]
  },
  {
   "cell_type": "markdown",
   "id": "5f452c7d-ae22-4d97-82ff-1cff614a115b",
   "metadata": {},
   "source": [
    "### 20% of the products contribute to 80% of the sales volume"
   ]
  },
  {
   "cell_type": "code",
   "execution_count": 93,
   "id": "5f00675c-f8d1-4e91-9f02-744728f25c69",
   "metadata": {},
   "outputs": [
    {
     "data": {
      "text/html": [
       "<div>\n",
       "<style scoped>\n",
       "    .dataframe tbody tr th:only-of-type {\n",
       "        vertical-align: middle;\n",
       "    }\n",
       "\n",
       "    .dataframe tbody tr th {\n",
       "        vertical-align: top;\n",
       "    }\n",
       "\n",
       "    .dataframe thead th {\n",
       "        text-align: right;\n",
       "    }\n",
       "</style>\n",
       "<table border=\"1\" class=\"dataframe\">\n",
       "  <thead>\n",
       "    <tr style=\"text-align: right;\">\n",
       "      <th></th>\n",
       "      <th>StockCode</th>\n",
       "      <th>Quantity</th>\n",
       "    </tr>\n",
       "  </thead>\n",
       "  <tbody>\n",
       "    <tr>\n",
       "      <th>0</th>\n",
       "      <td>23843</td>\n",
       "      <td>80995</td>\n",
       "    </tr>\n",
       "    <tr>\n",
       "      <th>1</th>\n",
       "      <td>23166</td>\n",
       "      <td>77916</td>\n",
       "    </tr>\n",
       "    <tr>\n",
       "      <th>2</th>\n",
       "      <td>84077</td>\n",
       "      <td>54319</td>\n",
       "    </tr>\n",
       "    <tr>\n",
       "      <th>3</th>\n",
       "      <td>22197</td>\n",
       "      <td>49160</td>\n",
       "    </tr>\n",
       "    <tr>\n",
       "      <th>4</th>\n",
       "      <td>85099B</td>\n",
       "      <td>46078</td>\n",
       "    </tr>\n",
       "    <tr>\n",
       "      <th>...</th>\n",
       "      <td>...</td>\n",
       "      <td>...</td>\n",
       "    </tr>\n",
       "    <tr>\n",
       "      <th>3654</th>\n",
       "      <td>84569C</td>\n",
       "      <td>1</td>\n",
       "    </tr>\n",
       "    <tr>\n",
       "      <th>3655</th>\n",
       "      <td>90025F</td>\n",
       "      <td>1</td>\n",
       "    </tr>\n",
       "    <tr>\n",
       "      <th>3656</th>\n",
       "      <td>90130A</td>\n",
       "      <td>1</td>\n",
       "    </tr>\n",
       "    <tr>\n",
       "      <th>3657</th>\n",
       "      <td>21414</td>\n",
       "      <td>1</td>\n",
       "    </tr>\n",
       "    <tr>\n",
       "      <th>3658</th>\n",
       "      <td>90165B</td>\n",
       "      <td>1</td>\n",
       "    </tr>\n",
       "  </tbody>\n",
       "</table>\n",
       "<p>3659 rows × 2 columns</p>\n",
       "</div>"
      ],
      "text/plain": [
       "     StockCode  Quantity\n",
       "0        23843     80995\n",
       "1        23166     77916\n",
       "2        84077     54319\n",
       "3        22197     49160\n",
       "4       85099B     46078\n",
       "...        ...       ...\n",
       "3654    84569C         1\n",
       "3655    90025F         1\n",
       "3656    90130A         1\n",
       "3657     21414         1\n",
       "3658    90165B         1\n",
       "\n",
       "[3659 rows x 2 columns]"
      ]
     },
     "execution_count": 93,
     "metadata": {},
     "output_type": "execute_result"
    }
   ],
   "source": [
    "# Sales volume per product\n",
    "volume_per_product = df.groupby(\"StockCode\")[\"Quantity\"].sum().reset_index()\n",
    "volume_per_product = volume_per_product.sort_values(by=\"Quantity\", ascending=False).reset_index(drop=True)\n",
    "volume_per_product"
   ]
  },
  {
   "cell_type": "code",
   "execution_count": 94,
   "id": "5f0c136a-19d4-43d7-8d13-d1934ac35418",
   "metadata": {},
   "outputs": [
    {
     "data": {
      "text/html": [
       "<div>\n",
       "<style scoped>\n",
       "    .dataframe tbody tr th:only-of-type {\n",
       "        vertical-align: middle;\n",
       "    }\n",
       "\n",
       "    .dataframe tbody tr th {\n",
       "        vertical-align: top;\n",
       "    }\n",
       "\n",
       "    .dataframe thead th {\n",
       "        text-align: right;\n",
       "    }\n",
       "</style>\n",
       "<table border=\"1\" class=\"dataframe\">\n",
       "  <thead>\n",
       "    <tr style=\"text-align: right;\">\n",
       "      <th></th>\n",
       "      <th>StockCode</th>\n",
       "      <th>Quantity</th>\n",
       "      <th>CumulativePercentage</th>\n",
       "    </tr>\n",
       "  </thead>\n",
       "  <tbody>\n",
       "    <tr>\n",
       "      <th>0</th>\n",
       "      <td>23843</td>\n",
       "      <td>80995</td>\n",
       "      <td>1.570992</td>\n",
       "    </tr>\n",
       "    <tr>\n",
       "      <th>1</th>\n",
       "      <td>23166</td>\n",
       "      <td>77916</td>\n",
       "      <td>3.082262</td>\n",
       "    </tr>\n",
       "    <tr>\n",
       "      <th>2</th>\n",
       "      <td>84077</td>\n",
       "      <td>54319</td>\n",
       "      <td>4.135842</td>\n",
       "    </tr>\n",
       "    <tr>\n",
       "      <th>3</th>\n",
       "      <td>22197</td>\n",
       "      <td>49160</td>\n",
       "      <td>5.089357</td>\n",
       "    </tr>\n",
       "    <tr>\n",
       "      <th>4</th>\n",
       "      <td>85099B</td>\n",
       "      <td>46078</td>\n",
       "      <td>5.983093</td>\n",
       "    </tr>\n",
       "    <tr>\n",
       "      <th>...</th>\n",
       "      <td>...</td>\n",
       "      <td>...</td>\n",
       "      <td>...</td>\n",
       "    </tr>\n",
       "    <tr>\n",
       "      <th>3654</th>\n",
       "      <td>84569C</td>\n",
       "      <td>1</td>\n",
       "      <td>99.999922</td>\n",
       "    </tr>\n",
       "    <tr>\n",
       "      <th>3655</th>\n",
       "      <td>90025F</td>\n",
       "      <td>1</td>\n",
       "      <td>99.999942</td>\n",
       "    </tr>\n",
       "    <tr>\n",
       "      <th>3656</th>\n",
       "      <td>90130A</td>\n",
       "      <td>1</td>\n",
       "      <td>99.999961</td>\n",
       "    </tr>\n",
       "    <tr>\n",
       "      <th>3657</th>\n",
       "      <td>21414</td>\n",
       "      <td>1</td>\n",
       "      <td>99.999981</td>\n",
       "    </tr>\n",
       "    <tr>\n",
       "      <th>3658</th>\n",
       "      <td>90165B</td>\n",
       "      <td>1</td>\n",
       "      <td>100.000000</td>\n",
       "    </tr>\n",
       "  </tbody>\n",
       "</table>\n",
       "<p>3659 rows × 3 columns</p>\n",
       "</div>"
      ],
      "text/plain": [
       "     StockCode  Quantity  CumulativePercentage\n",
       "0        23843     80995              1.570992\n",
       "1        23166     77916              3.082262\n",
       "2        84077     54319              4.135842\n",
       "3        22197     49160              5.089357\n",
       "4       85099B     46078              5.983093\n",
       "...        ...       ...                   ...\n",
       "3654    84569C         1             99.999922\n",
       "3655    90025F         1             99.999942\n",
       "3656    90130A         1             99.999961\n",
       "3657     21414         1             99.999981\n",
       "3658    90165B         1            100.000000\n",
       "\n",
       "[3659 rows x 3 columns]"
      ]
     },
     "execution_count": 94,
     "metadata": {},
     "output_type": "execute_result"
    }
   ],
   "source": [
    "# Creating a new column \"CumulativePercentage\"\n",
    "volume_per_product[\"CumulativePercentage\"] = (volume_per_product[\"Quantity\"].cumsum()*100)/volume_per_product[\"Quantity\"].sum()\n",
    "volume_per_product"
   ]
  },
  {
   "cell_type": "code",
   "execution_count": null,
   "id": "65026c6e-099f-4fed-b5b4-ca903608076d",
   "metadata": {},
   "outputs": [
    {
     "name": "stdout",
     "output_type": "stream",
     "text": [
      "23% of products contribute to 80% of sales volume.\n"
     ]
    }
   ],
   "source": [
    "# Verifying the Pareto Principle (80/20)\n",
    "perc = round((len(volume_per_product[volume_per_product[\"CumulativePercentage\"] < 80])*100)/len(volume_per_product))\n",
    "print(f\"{perc}% of products contribute to 80% of sales volume.\")"
   ]
  },
  {
   "cell_type": "markdown",
   "id": "c1e7f367-cd17-42d4-8868-b1f10628581d",
   "metadata": {},
   "source": [
    "## Create RFM Table"
   ]
  },
  {
   "cell_type": "code",
   "execution_count": 96,
   "id": "bfe590b7-643b-4138-8329-486a06d815a6",
   "metadata": {},
   "outputs": [
    {
     "name": "stdout",
     "output_type": "stream",
     "text": [
      "2011-12-10 12:50:00\n"
     ]
    }
   ],
   "source": [
    "# Latest date in the dataset (for Recency calculation)\n",
    "latest_date = df[\"InvoiceDate\"].max() + pd.Timedelta(days=1)\n",
    "print(latest_date)"
   ]
  },
  {
   "cell_type": "code",
   "execution_count": 97,
   "id": "a4577616-0410-4639-8e78-11a523473eae",
   "metadata": {},
   "outputs": [
    {
     "data": {
      "text/html": [
       "<div>\n",
       "<style scoped>\n",
       "    .dataframe tbody tr th:only-of-type {\n",
       "        vertical-align: middle;\n",
       "    }\n",
       "\n",
       "    .dataframe tbody tr th {\n",
       "        vertical-align: top;\n",
       "    }\n",
       "\n",
       "    .dataframe thead th {\n",
       "        text-align: right;\n",
       "    }\n",
       "</style>\n",
       "<table border=\"1\" class=\"dataframe\">\n",
       "  <thead>\n",
       "    <tr style=\"text-align: right;\">\n",
       "      <th></th>\n",
       "      <th>CustomerID</th>\n",
       "      <th>Recency</th>\n",
       "      <th>Frequency</th>\n",
       "      <th>Monetary</th>\n",
       "    </tr>\n",
       "  </thead>\n",
       "  <tbody>\n",
       "    <tr>\n",
       "      <th>0</th>\n",
       "      <td>12346.0</td>\n",
       "      <td>326</td>\n",
       "      <td>1</td>\n",
       "      <td>77183.60</td>\n",
       "    </tr>\n",
       "    <tr>\n",
       "      <th>1</th>\n",
       "      <td>12347.0</td>\n",
       "      <td>2</td>\n",
       "      <td>7</td>\n",
       "      <td>4310.00</td>\n",
       "    </tr>\n",
       "    <tr>\n",
       "      <th>2</th>\n",
       "      <td>12348.0</td>\n",
       "      <td>75</td>\n",
       "      <td>4</td>\n",
       "      <td>1437.24</td>\n",
       "    </tr>\n",
       "    <tr>\n",
       "      <th>3</th>\n",
       "      <td>12349.0</td>\n",
       "      <td>19</td>\n",
       "      <td>1</td>\n",
       "      <td>1457.55</td>\n",
       "    </tr>\n",
       "    <tr>\n",
       "      <th>4</th>\n",
       "      <td>12350.0</td>\n",
       "      <td>310</td>\n",
       "      <td>1</td>\n",
       "      <td>294.40</td>\n",
       "    </tr>\n",
       "  </tbody>\n",
       "</table>\n",
       "</div>"
      ],
      "text/plain": [
       "   CustomerID  Recency  Frequency  Monetary\n",
       "0     12346.0      326          1  77183.60\n",
       "1     12347.0        2          7   4310.00\n",
       "2     12348.0       75          4   1437.24\n",
       "3     12349.0       19          1   1457.55\n",
       "4     12350.0      310          1    294.40"
      ]
     },
     "execution_count": 97,
     "metadata": {},
     "output_type": "execute_result"
    }
   ],
   "source": [
    "# Group by CustomerID and calculate RFM metrics\n",
    "rfm_df = df.groupby(\"CustomerID\").agg({\n",
    "    \"InvoiceDate\": lambda x: (latest_date - x.max()).days,  # Recency\n",
    "    \"InvoiceNo\": \"nunique\",  # Frequency\n",
    "    \"TotalSales\": \"sum\"  # Monetary\n",
    "}).reset_index()\n",
    "\n",
    "# Rename columns\n",
    "rfm_df.columns = [\"CustomerID\", \"Recency\", \"Frequency\", \"Monetary\"]\n",
    "\n",
    "# Display the top rows\n",
    "rfm_df.head()"
   ]
  },
  {
   "cell_type": "code",
   "execution_count": 98,
   "id": "fafdd222-459c-442b-bd73-808f15714ad3",
   "metadata": {},
   "outputs": [
    {
     "data": {
      "text/html": [
       "<div>\n",
       "<style scoped>\n",
       "    .dataframe tbody tr th:only-of-type {\n",
       "        vertical-align: middle;\n",
       "    }\n",
       "\n",
       "    .dataframe tbody tr th {\n",
       "        vertical-align: top;\n",
       "    }\n",
       "\n",
       "    .dataframe thead th {\n",
       "        text-align: right;\n",
       "    }\n",
       "</style>\n",
       "<table border=\"1\" class=\"dataframe\">\n",
       "  <thead>\n",
       "    <tr style=\"text-align: right;\">\n",
       "      <th></th>\n",
       "      <th>CustomerID</th>\n",
       "      <th>Recency</th>\n",
       "      <th>Frequency</th>\n",
       "      <th>Monetary</th>\n",
       "    </tr>\n",
       "  </thead>\n",
       "  <tbody>\n",
       "    <tr>\n",
       "      <th>count</th>\n",
       "      <td>4335.000000</td>\n",
       "      <td>4335.000000</td>\n",
       "      <td>4335.000000</td>\n",
       "      <td>4335.000000</td>\n",
       "    </tr>\n",
       "    <tr>\n",
       "      <th>mean</th>\n",
       "      <td>15298.780392</td>\n",
       "      <td>92.684890</td>\n",
       "      <td>4.245675</td>\n",
       "      <td>2015.508106</td>\n",
       "    </tr>\n",
       "    <tr>\n",
       "      <th>std</th>\n",
       "      <td>1722.075082</td>\n",
       "      <td>100.172622</td>\n",
       "      <td>7.636337</td>\n",
       "      <td>8902.699230</td>\n",
       "    </tr>\n",
       "    <tr>\n",
       "      <th>min</th>\n",
       "      <td>12346.000000</td>\n",
       "      <td>1.000000</td>\n",
       "      <td>1.000000</td>\n",
       "      <td>0.000000</td>\n",
       "    </tr>\n",
       "    <tr>\n",
       "      <th>25%</th>\n",
       "      <td>13811.500000</td>\n",
       "      <td>18.000000</td>\n",
       "      <td>1.000000</td>\n",
       "      <td>304.105000</td>\n",
       "    </tr>\n",
       "    <tr>\n",
       "      <th>50%</th>\n",
       "      <td>15297.000000</td>\n",
       "      <td>51.000000</td>\n",
       "      <td>2.000000</td>\n",
       "      <td>661.520000</td>\n",
       "    </tr>\n",
       "    <tr>\n",
       "      <th>75%</th>\n",
       "      <td>16778.500000</td>\n",
       "      <td>143.000000</td>\n",
       "      <td>5.000000</td>\n",
       "      <td>1631.475000</td>\n",
       "    </tr>\n",
       "    <tr>\n",
       "      <th>max</th>\n",
       "      <td>18287.000000</td>\n",
       "      <td>374.000000</td>\n",
       "      <td>206.000000</td>\n",
       "      <td>279138.020000</td>\n",
       "    </tr>\n",
       "  </tbody>\n",
       "</table>\n",
       "</div>"
      ],
      "text/plain": [
       "         CustomerID      Recency    Frequency       Monetary\n",
       "count   4335.000000  4335.000000  4335.000000    4335.000000\n",
       "mean   15298.780392    92.684890     4.245675    2015.508106\n",
       "std     1722.075082   100.172622     7.636337    8902.699230\n",
       "min    12346.000000     1.000000     1.000000       0.000000\n",
       "25%    13811.500000    18.000000     1.000000     304.105000\n",
       "50%    15297.000000    51.000000     2.000000     661.520000\n",
       "75%    16778.500000   143.000000     5.000000    1631.475000\n",
       "max    18287.000000   374.000000   206.000000  279138.020000"
      ]
     },
     "execution_count": 98,
     "metadata": {},
     "output_type": "execute_result"
    }
   ],
   "source": [
    "rfm_df.describe()"
   ]
  },
  {
   "cell_type": "markdown",
   "id": "03786f63-03d0-4696-b6b2-a0ad2d2d20f1",
   "metadata": {},
   "source": [
    "## Adding RFM Scores"
   ]
  },
  {
   "cell_type": "code",
   "execution_count": 111,
   "id": "86835c17-0ecd-4b5a-9978-f4166069c0a3",
   "metadata": {},
   "outputs": [
    {
     "name": "stdout",
     "output_type": "stream",
     "text": [
      "      CustomerID  Recency  Frequency  Monetary  F_Rank  R_Score  F_Score  \\\n",
      "0        12346.0      326          1  77183.60     1.0        1        1   \n",
      "1        12347.0        2          7   4310.00  3644.0        5        5   \n",
      "2        12348.0       75          4   1437.24  2840.0        2        4   \n",
      "3        12349.0       19          1   1457.55     2.0        4        1   \n",
      "4        12350.0      310          1    294.40     3.0        1        1   \n",
      "...          ...      ...        ...       ...     ...      ...      ...   \n",
      "4330     18280.0      278          1    180.60  1505.0        1        2   \n",
      "4331     18281.0      181          1     80.82  1506.0        1        2   \n",
      "4332     18282.0        8          2    178.05  2337.0        5        3   \n",
      "4333     18283.0        4         16   2039.58  4184.0        5        5   \n",
      "4334     18287.0       43          3   1837.28  2839.0        3        4   \n",
      "\n",
      "      M_Score     Segment  \n",
      "0           5     Dormant  \n",
      "1           5  High Value  \n",
      "2           4     At-Risk  \n",
      "3           4     At-Risk  \n",
      "4           2     Dormant  \n",
      "...       ...         ...  \n",
      "4330        1     At-Risk  \n",
      "4331        1     At-Risk  \n",
      "4332        1     At-Risk  \n",
      "4333        5  High Value  \n",
      "4334        4     At-Risk  \n",
      "\n",
      "[4335 rows x 9 columns]\n",
      "1.0\n",
      "867.8000000000001\n",
      "1\n",
      "1\n",
      "['1 - 1']\n",
      "867.8000000000001\n",
      "1734.6000000000001\n",
      "1\n",
      "2\n",
      "['1 - 1', '1 - 2']\n",
      "1734.6000000000001\n",
      "2601.4000000000005\n",
      "2\n",
      "3\n",
      "['1 - 1', '1 - 2', '2 - 3']\n",
      "2601.4000000000005\n",
      "3468.2000000000003\n",
      "3\n",
      "5\n",
      "['1 - 1', '1 - 2', '2 - 3', '3 - 5']\n",
      "3468.2000000000003\n",
      "4335.0\n",
      "5\n",
      "206\n",
      "['1 - 1', '1 - 2', '2 - 3', '3 - 5', '5 - 206']\n",
      "   Score Frequency Range (Mapped) Monetary Range\n",
      "0      1                    1 - 1        0 - 246\n",
      "1      2                    1 - 2      246 - 482\n",
      "2      3                    2 - 3      482 - 922\n",
      "3      4                    3 - 5     922 - 2028\n",
      "4      5                  5 - 206  2028 - 279138\n",
      "   Score Recency Range\n",
      "0      5        1 - 14\n",
      "1      4       14 - 33\n",
      "2      3       33 - 72\n",
      "3      2      72 - 179\n",
      "4      1     179 - 374\n"
     ]
    }
   ],
   "source": [
    "# Rank-based Frequency scoring\n",
    "rfm_df[\"F_Rank\"] = rfm_df[\"Frequency\"].rank(method=\"first\")\n",
    "print(rfm_df)\n",
    "\n",
    "# Get bin edges for Recency, Frequency (ranked), and Monetary\n",
    "_, recency_bins = pd.qcut(rfm_df[\"Recency\"], q=5, labels=[5, 4, 3, 2, 1], retbins=True)\n",
    "_, frequency_bins = pd.qcut(rfm_df[\"F_Rank\"], q=5, labels=[1, 2, 3, 4, 5], retbins=True)\n",
    "_, monetary_bins = pd.qcut(rfm_df[\"Monetary\"], q=5, labels=[1, 2, 3, 4, 5], retbins=True)\n",
    "\n",
    "# Convert frequency rank bins to actual frequency values\n",
    "actual_freq_bins = []\n",
    "for i in range(len(frequency_bins) - 1):\n",
    "    lower_rank = frequency_bins[i]\n",
    "    upper_rank = frequency_bins[i + 1]\n",
    "    actual_lower = rfm_df.loc[rfm_df[\"F_Rank\"] >= lower_rank, \"Frequency\"].min()\n",
    "    actual_upper = rfm_df.loc[rfm_df[\"F_Rank\"] <= upper_rank, \"Frequency\"].max()\n",
    "    actual_freq_bins.append(f\"{actual_lower} - {actual_upper}\")\n",
    "    print(lower_rank)\n",
    "    print(upper_rank)\n",
    "    print(actual_lower)\n",
    "    print(actual_upper)\n",
    "    print(actual_freq_bins)\n",
    "\n",
    "# Create a DataFrame with readable bin ranges\n",
    "rfm_bin_ranges1 = pd.DataFrame({\n",
    "    \"Score\": [1,2,3,4,5],\n",
    "    \"Frequency Range (Mapped)\": actual_freq_bins,\n",
    "    \"Monetary Range\": [f\"{int(monetary_bins[i])} - {int(monetary_bins[i+1])}\" for i in range(len(monetary_bins)-1)]\n",
    "})\n",
    "rfm_bin_ranges2 = pd.DataFrame({\n",
    "    \"Score\": [5,4,3,2,1],\n",
    "    \"Recency Range\": [f\"{int(recency_bins[i])} - {int(recency_bins[i+1])}\" for i in range(len(recency_bins)-1)]\n",
    "})\n",
    "\n",
    "# Display bin ranges\n",
    "print(rfm_bin_ranges1)\n",
    "print(rfm_bin_ranges2)"
   ]
  },
  {
   "cell_type": "code",
   "execution_count": 112,
   "id": "52605e5c-0110-401b-bcff-0efece8f210c",
   "metadata": {},
   "outputs": [
    {
     "data": {
      "text/html": [
       "<div>\n",
       "<style scoped>\n",
       "    .dataframe tbody tr th:only-of-type {\n",
       "        vertical-align: middle;\n",
       "    }\n",
       "\n",
       "    .dataframe tbody tr th {\n",
       "        vertical-align: top;\n",
       "    }\n",
       "\n",
       "    .dataframe thead th {\n",
       "        text-align: right;\n",
       "    }\n",
       "</style>\n",
       "<table border=\"1\" class=\"dataframe\">\n",
       "  <thead>\n",
       "    <tr style=\"text-align: right;\">\n",
       "      <th></th>\n",
       "      <th>CustomerID</th>\n",
       "      <th>Recency</th>\n",
       "      <th>Frequency</th>\n",
       "      <th>Monetary</th>\n",
       "      <th>F_Rank</th>\n",
       "      <th>R_Score</th>\n",
       "      <th>F_Score</th>\n",
       "      <th>M_Score</th>\n",
       "      <th>Segment</th>\n",
       "    </tr>\n",
       "  </thead>\n",
       "  <tbody>\n",
       "    <tr>\n",
       "      <th>0</th>\n",
       "      <td>12346.0</td>\n",
       "      <td>326</td>\n",
       "      <td>1</td>\n",
       "      <td>77183.60</td>\n",
       "      <td>1.0</td>\n",
       "      <td>1</td>\n",
       "      <td>1</td>\n",
       "      <td>5</td>\n",
       "      <td>Dormant</td>\n",
       "    </tr>\n",
       "    <tr>\n",
       "      <th>1</th>\n",
       "      <td>12347.0</td>\n",
       "      <td>2</td>\n",
       "      <td>7</td>\n",
       "      <td>4310.00</td>\n",
       "      <td>3644.0</td>\n",
       "      <td>5</td>\n",
       "      <td>5</td>\n",
       "      <td>5</td>\n",
       "      <td>High Value</td>\n",
       "    </tr>\n",
       "    <tr>\n",
       "      <th>2</th>\n",
       "      <td>12348.0</td>\n",
       "      <td>75</td>\n",
       "      <td>4</td>\n",
       "      <td>1437.24</td>\n",
       "      <td>2840.0</td>\n",
       "      <td>2</td>\n",
       "      <td>4</td>\n",
       "      <td>4</td>\n",
       "      <td>At-Risk</td>\n",
       "    </tr>\n",
       "    <tr>\n",
       "      <th>3</th>\n",
       "      <td>12349.0</td>\n",
       "      <td>19</td>\n",
       "      <td>1</td>\n",
       "      <td>1457.55</td>\n",
       "      <td>2.0</td>\n",
       "      <td>4</td>\n",
       "      <td>1</td>\n",
       "      <td>4</td>\n",
       "      <td>At-Risk</td>\n",
       "    </tr>\n",
       "    <tr>\n",
       "      <th>4</th>\n",
       "      <td>12350.0</td>\n",
       "      <td>310</td>\n",
       "      <td>1</td>\n",
       "      <td>294.40</td>\n",
       "      <td>3.0</td>\n",
       "      <td>1</td>\n",
       "      <td>1</td>\n",
       "      <td>2</td>\n",
       "      <td>Dormant</td>\n",
       "    </tr>\n",
       "  </tbody>\n",
       "</table>\n",
       "</div>"
      ],
      "text/plain": [
       "   CustomerID  Recency  Frequency  Monetary  F_Rank R_Score F_Score M_Score  \\\n",
       "0     12346.0      326          1  77183.60     1.0       1       1       5   \n",
       "1     12347.0        2          7   4310.00  3644.0       5       5       5   \n",
       "2     12348.0       75          4   1437.24  2840.0       2       4       4   \n",
       "3     12349.0       19          1   1457.55     2.0       4       1       4   \n",
       "4     12350.0      310          1    294.40     3.0       1       1       2   \n",
       "\n",
       "      Segment  \n",
       "0     Dormant  \n",
       "1  High Value  \n",
       "2     At-Risk  \n",
       "3     At-Risk  \n",
       "4     Dormant  "
      ]
     },
     "execution_count": 112,
     "metadata": {},
     "output_type": "execute_result"
    }
   ],
   "source": [
    "# Recency Score (lower is better, so reverse the labels)\n",
    "rfm_df[\"R_Score\"] = pd.qcut(rfm_df[\"Recency\"], q=5, labels=[5, 4, 3, 2, 1])\n",
    "\n",
    "# Frequency Score (higher is better)\n",
    "rfm_df[\"F_Score\"] = pd.qcut(rfm_df[\"Frequency\"].rank(method=\"first\"), q=5, labels=[1, 2, 3, 4, 5])\n",
    "\n",
    "# Monetary Score (higher is better)\n",
    "rfm_df[\"M_Score\"] = pd.qcut(rfm_df[\"Monetary\"], q=5, labels=[1, 2, 3, 4, 5])\n",
    "\n",
    "rfm_df.head()"
   ]
  },
  {
   "cell_type": "code",
   "execution_count": 113,
   "id": "6dcba383-50f9-4c5e-932c-390a41f920b1",
   "metadata": {},
   "outputs": [],
   "source": [
    "rfm_df[\"R_Score\"] = rfm_df[\"R_Score\"].astype(int)\n",
    "rfm_df[\"F_Score\"] = rfm_df[\"F_Score\"].astype(int)\n",
    "rfm_df[\"M_Score\"] = rfm_df[\"M_Score\"].astype(int)"
   ]
  },
  {
   "cell_type": "code",
   "execution_count": 114,
   "id": "7e9d544a-8a86-4157-b162-f356e3e9b762",
   "metadata": {},
   "outputs": [],
   "source": [
    "def rfm_segment(row):\n",
    "    if row[\"R_Score\"] == 5 and row[\"F_Score\"] == 5: \n",
    "        return \"High Value\"   \n",
    "    if row[\"R_Score\"] >= 4 and row[\"F_Score\"] >= 4: \n",
    "        return \"Loyal\"\n",
    "    elif row[\"R_Score\"] >= 2 or row[\"F_Score\"] >= 2: \n",
    "        return \"At-Risk\"\n",
    "    else:\n",
    "        return \"Dormant\"\n",
    "\n",
    "rfm_df[\"Segment\"] = rfm_df.apply(rfm_segment, axis=1)"
   ]
  },
  {
   "cell_type": "code",
   "execution_count": 115,
   "id": "17432d00-4c8e-4c7a-832c-f22068e2806f",
   "metadata": {},
   "outputs": [
    {
     "data": {
      "text/plain": [
       "At-Risk       2837\n",
       "Loyal          693\n",
       "High Value     443\n",
       "Dormant        362\n",
       "Name: Segment, dtype: int64"
      ]
     },
     "execution_count": 115,
     "metadata": {},
     "output_type": "execute_result"
    }
   ],
   "source": [
    "rfm_df[\"Segment\"].value_counts()"
   ]
  },
  {
   "cell_type": "code",
   "execution_count": 204,
   "id": "1fd3ac24-cbfd-498c-abb9-ce2b9ceea00e",
   "metadata": {},
   "outputs": [
    {
     "name": "stdout",
     "output_type": "stream",
     "text": [
      "F_Score         1         2         3         4         5\n",
      "R_Score                                                  \n",
      "1        1.729282  1.745928  2.550725  3.106383  4.000000\n",
      "2        1.989950  2.135678  2.903084  3.631902  4.340000\n",
      "3        1.933333  2.098901  2.888298  3.721154  4.641026\n",
      "4        1.618557  2.123967  2.824859  3.738956  4.680328\n",
      "5        1.659091  2.431034  2.781022  3.755000  4.762980\n"
     ]
    },
    {
     "data": {
      "image/png": "[encoded data removed]",
      "text/plain": [
       "<Figure size 800x600 with 2 Axes>"
      ]
     },
     "metadata": {},
     "output_type": "display_data"
    }
   ],
   "source": [
    "import pandas as pd\n",
    "import seaborn as sns\n",
    "import matplotlib.pyplot as plt\n",
    "\n",
    "# Assuming rfm_df is already loaded\n",
    "rfm_pivot = rfm_df.pivot_table(index='R_Score', columns='F_Score', values='M_Score', aggfunc='mean', fill_value=0)\n",
    "print(rfm_pivot)\n",
    "\n",
    "# Plot heatmap\n",
    "plt.figure(figsize=(8,6))\n",
    "sns.heatmap(rfm_pivot, cmap=\"PiYG\", annot=True, fmt=\".2f\", linewidths=0.5)\n",
    "\n",
    "# Labels and title\n",
    "plt.title(\"M_Score Heatmap (Avg. Spending per R_Score - F_Score)\", color = 'red')\n",
    "plt.xlabel(\"F_Score (Frequency Score)\", color='red')\n",
    "plt.ylabel(\"R_Score (Recency Score)\", color='red')\n",
    "\n",
    "# Save with transparency & high resolution\n",
    "plt.savefig(\"Heatmap.png\", dpi=300, bbox_inches=\"tight\")\n",
    "\n",
    "plt.show()\n",
    "\n"
   ]
  },
  {
   "cell_type": "raw",
   "id": "78fb1c3b",
   "metadata": {
    "vscode": {
     "languageId": "raw"
    }
   },
   "source": [
    "1)Frequent buyers tend to spend more (Yes ✅)\n",
    "\n",
    "In the heatmap, the right-hand side (high F_Score) cells usually have higher M_Score values.\n",
    "\n",
    "This means customers who purchase more often are also the ones who contribute higher spending.\n",
    "\n",
    "Business implication → Loyal, repeat buyers are revenue drivers. Nurture them with loyalty programs and cross-sell/upsell.\n",
    "\n",
    "2)Recent buyers spend more (Yes ✅, but not always equally strong)\n",
    "\n",
    "The top rows (low R_Score = recent purchases) generally show higher M_Scores than the bottom rows (old purchases).\n",
    "\n",
    "This means recent engagement is linked with higher spending.\n",
    "\n",
    "Business implication → Recency matters. If a customer hasn’t bought for a long time, their spending drops, signaling churn risk.\n",
    "\n",
    "3)The best customers are those with High F + Low R\n",
    "\n",
    "These customers are buying frequently and recently → they also show the highest average M_Score.\n",
    "\n",
    "Business implication → These are your champion customers. Keep them with exclusives, loyalty rewards, and VIP treatment.\n",
    "\n",
    "4)Customers with High R + Low F + Low M are at risk\n",
    "\n",
    "They purchased long ago, rarely, and didn’t spend much.\n",
    "\n",
    "Business implication → They are drifting away → target with win-back campaigns."
   ]
  },
  {
   "cell_type": "code",
   "execution_count": 205,
   "id": "310f800c-4441-4ff6-b376-26fba0f7f975",
   "metadata": {},
   "outputs": [
    {
     "data": {
      "image/png": "[encoded data removed]",
      "text/plain": [
       "<Figure size 800x600 with 2 Axes>"
      ]
     },
     "metadata": {},
     "output_type": "display_data"
    }
   ],
   "source": [
    "# Assuming rfm_df is already loaded\n",
    "rfm_pivot = rfm_df.pivot_table(index='R_Score', columns='F_Score', values='M_Score', aggfunc='count', fill_value=0)\n",
    "\n",
    "# Plot heatmap\n",
    "plt.figure(figsize=(8,6))\n",
    "sns.heatmap(rfm_pivot, cmap=\"PiYG\", annot=True, fmt=\".2f\", linewidths=0.5)\n",
    "\n",
    "# Labels and title\n",
    "plt.title(\"M_Score Heatmap (Avg. Spending per R_Score - F_Score)\")\n",
    "plt.xlabel(\"F_Score (Frequency Score)\")\n",
    "plt.ylabel(\"R_Score (Recency Score)\")\n",
    "plt.show()"
   ]
  },
  {
   "cell_type": "code",
   "execution_count": 119,
   "id": "52f37c0c-790b-4288-a0ee-b0fdd1565dcd",
   "metadata": {},
   "outputs": [
    {
     "data": {
      "text/html": [
       "<div>\n",
       "<style scoped>\n",
       "    .dataframe tbody tr th:only-of-type {\n",
       "        vertical-align: middle;\n",
       "    }\n",
       "\n",
       "    .dataframe tbody tr th {\n",
       "        vertical-align: top;\n",
       "    }\n",
       "\n",
       "    .dataframe thead th {\n",
       "        text-align: right;\n",
       "    }\n",
       "</style>\n",
       "<table border=\"1\" class=\"dataframe\">\n",
       "  <thead>\n",
       "    <tr style=\"text-align: right;\">\n",
       "      <th></th>\n",
       "      <th>CustomerID</th>\n",
       "      <th>Recency</th>\n",
       "      <th>Frequency</th>\n",
       "      <th>Monetary</th>\n",
       "      <th>F_Rank</th>\n",
       "      <th>R_Score</th>\n",
       "      <th>F_Score</th>\n",
       "      <th>M_Score</th>\n",
       "      <th>Segment</th>\n",
       "    </tr>\n",
       "  </thead>\n",
       "  <tbody>\n",
       "    <tr>\n",
       "      <th>0</th>\n",
       "      <td>12346.0</td>\n",
       "      <td>326</td>\n",
       "      <td>1</td>\n",
       "      <td>77183.60</td>\n",
       "      <td>1.0</td>\n",
       "      <td>1</td>\n",
       "      <td>1</td>\n",
       "      <td>5</td>\n",
       "      <td>Dormant</td>\n",
       "    </tr>\n",
       "    <tr>\n",
       "      <th>1</th>\n",
       "      <td>12347.0</td>\n",
       "      <td>2</td>\n",
       "      <td>7</td>\n",
       "      <td>4310.00</td>\n",
       "      <td>3644.0</td>\n",
       "      <td>5</td>\n",
       "      <td>5</td>\n",
       "      <td>5</td>\n",
       "      <td>High Value</td>\n",
       "    </tr>\n",
       "    <tr>\n",
       "      <th>2</th>\n",
       "      <td>12348.0</td>\n",
       "      <td>75</td>\n",
       "      <td>4</td>\n",
       "      <td>1437.24</td>\n",
       "      <td>2840.0</td>\n",
       "      <td>2</td>\n",
       "      <td>4</td>\n",
       "      <td>4</td>\n",
       "      <td>At-Risk</td>\n",
       "    </tr>\n",
       "    <tr>\n",
       "      <th>3</th>\n",
       "      <td>12349.0</td>\n",
       "      <td>19</td>\n",
       "      <td>1</td>\n",
       "      <td>1457.55</td>\n",
       "      <td>2.0</td>\n",
       "      <td>4</td>\n",
       "      <td>1</td>\n",
       "      <td>4</td>\n",
       "      <td>At-Risk</td>\n",
       "    </tr>\n",
       "    <tr>\n",
       "      <th>4</th>\n",
       "      <td>12350.0</td>\n",
       "      <td>310</td>\n",
       "      <td>1</td>\n",
       "      <td>294.40</td>\n",
       "      <td>3.0</td>\n",
       "      <td>1</td>\n",
       "      <td>1</td>\n",
       "      <td>2</td>\n",
       "      <td>Dormant</td>\n",
       "    </tr>\n",
       "    <tr>\n",
       "      <th>...</th>\n",
       "      <td>...</td>\n",
       "      <td>...</td>\n",
       "      <td>...</td>\n",
       "      <td>...</td>\n",
       "      <td>...</td>\n",
       "      <td>...</td>\n",
       "      <td>...</td>\n",
       "      <td>...</td>\n",
       "      <td>...</td>\n",
       "    </tr>\n",
       "    <tr>\n",
       "      <th>4330</th>\n",
       "      <td>18280.0</td>\n",
       "      <td>278</td>\n",
       "      <td>1</td>\n",
       "      <td>180.60</td>\n",
       "      <td>1505.0</td>\n",
       "      <td>1</td>\n",
       "      <td>2</td>\n",
       "      <td>1</td>\n",
       "      <td>At-Risk</td>\n",
       "    </tr>\n",
       "    <tr>\n",
       "      <th>4331</th>\n",
       "      <td>18281.0</td>\n",
       "      <td>181</td>\n",
       "      <td>1</td>\n",
       "      <td>80.82</td>\n",
       "      <td>1506.0</td>\n",
       "      <td>1</td>\n",
       "      <td>2</td>\n",
       "      <td>1</td>\n",
       "      <td>At-Risk</td>\n",
       "    </tr>\n",
       "    <tr>\n",
       "      <th>4332</th>\n",
       "      <td>18282.0</td>\n",
       "      <td>8</td>\n",
       "      <td>2</td>\n",
       "      <td>178.05</td>\n",
       "      <td>2337.0</td>\n",
       "      <td>5</td>\n",
       "      <td>3</td>\n",
       "      <td>1</td>\n",
       "      <td>At-Risk</td>\n",
       "    </tr>\n",
       "    <tr>\n",
       "      <th>4333</th>\n",
       "      <td>18283.0</td>\n",
       "      <td>4</td>\n",
       "      <td>16</td>\n",
       "      <td>2039.58</td>\n",
       "      <td>4184.0</td>\n",
       "      <td>5</td>\n",
       "      <td>5</td>\n",
       "      <td>5</td>\n",
       "      <td>High Value</td>\n",
       "    </tr>\n",
       "    <tr>\n",
       "      <th>4334</th>\n",
       "      <td>18287.0</td>\n",
       "      <td>43</td>\n",
       "      <td>3</td>\n",
       "      <td>1837.28</td>\n",
       "      <td>2839.0</td>\n",
       "      <td>3</td>\n",
       "      <td>4</td>\n",
       "      <td>4</td>\n",
       "      <td>At-Risk</td>\n",
       "    </tr>\n",
       "  </tbody>\n",
       "</table>\n",
       "<p>4335 rows × 9 columns</p>\n",
       "</div>"
      ],
      "text/plain": [
       "      CustomerID  Recency  Frequency  Monetary  F_Rank  R_Score  F_Score  \\\n",
       "0        12346.0      326          1  77183.60     1.0        1        1   \n",
       "1        12347.0        2          7   4310.00  3644.0        5        5   \n",
       "2        12348.0       75          4   1437.24  2840.0        2        4   \n",
       "3        12349.0       19          1   1457.55     2.0        4        1   \n",
       "4        12350.0      310          1    294.40     3.0        1        1   \n",
       "...          ...      ...        ...       ...     ...      ...      ...   \n",
       "4330     18280.0      278          1    180.60  1505.0        1        2   \n",
       "4331     18281.0      181          1     80.82  1506.0        1        2   \n",
       "4332     18282.0        8          2    178.05  2337.0        5        3   \n",
       "4333     18283.0        4         16   2039.58  4184.0        5        5   \n",
       "4334     18287.0       43          3   1837.28  2839.0        3        4   \n",
       "\n",
       "      M_Score     Segment  \n",
       "0           5     Dormant  \n",
       "1           5  High Value  \n",
       "2           4     At-Risk  \n",
       "3           4     At-Risk  \n",
       "4           2     Dormant  \n",
       "...       ...         ...  \n",
       "4330        1     At-Risk  \n",
       "4331        1     At-Risk  \n",
       "4332        1     At-Risk  \n",
       "4333        5  High Value  \n",
       "4334        4     At-Risk  \n",
       "\n",
       "[4335 rows x 9 columns]"
      ]
     },
     "execution_count": 119,
     "metadata": {},
     "output_type": "execute_result"
    }
   ],
   "source": [
    "rfm_df"
   ]
  },
  {
   "cell_type": "code",
   "execution_count": 207,
   "id": "36f1d314-384a-4253-8253-68f715b31f7c",
   "metadata": {},
   "outputs": [],
   "source": [
    "rfm_df.to_csv(\"rfm_data.csv\", index=False)"
   ]
  },
  {
   "cell_type": "code",
   "execution_count": null,
   "id": "fdb7507e-ebf7-4f50-8dc7-dac1f183c7dd",
   "metadata": {},
   "outputs": [],
   "source": [
    "rfm_df.to_csv(\"rfm_new_data.csv\", index=False)"
   ]
  },
  {
   "cell_type": "code",
   "execution_count": null,
   "id": "e9313e64-0d60-4dd3-bad2-31b40b51ab17",
   "metadata": {},
   "outputs": [],
   "source": [
    "df.to_csv(\"df_cleaned.csv\", index=False)"
   ]
  },
  {
   "cell_type": "raw",
   "id": "a7221661",
   "metadata": {
    "vscode": {
     "languageId": "raw"
    }
   },
   "source": [
    "1.Customer Segmentation\n",
    "\n",
    "Use RFM to identify high-value segments (recent, frequent, high spend).\n",
    "\n",
    "Spot low-value or at-risk customers (low recency/frequency).\n",
    "Business impact: You now know who are your champions, who are slipping away, who need attention.\n",
    "\n",
    "2.Develop Targeted Marketing Campaigns\n",
    "\n",
    "Personalized offers: E.g., discounts for at-risk customers, loyalty perks for top spenders.\n",
    "Retention programs: Re-engage customers who haven’t bought in a while. Business impact: More efficient marketing spend because you’re not treating all customers the same.\n",
    "\n",
    "3.Optimize Customer Experience (CX)\n",
    "\n",
    "Improve journeys for frequent buyers (make it easier/faster for them to shop).\n",
    "High-value customers may get VIP service, while low-value get self-service. Business impact: Customers feel valued → retention improves.\n",
    "\n",
    "4.Cross-Selling and Up-Selling\n",
    "\n",
    "Suggest premium/related products to frequent and high-value customers. \n",
    "Business impact: Increase average order value and customer lifetime value.\n",
    "\n",
    "5.Data-Driven Forecasting\n",
    "\n",
    "Use segmentation to predict revenue, churn, and campaign results.\n",
    "Track which groups respond best to offers. Business impact: Helps plan inventory, budgets, product launches.\n",
    "\n",
    "6.Review and Iterate\n",
    "\n",
    "Customers change: today’s “champion” could be tomorrow’s “dormant”.\n",
    "Continuously monitor and run A/B tests. Business impact: Keeps strategies fresh and effective.\n",
    "\n",
    "7.Resource Allocation\n",
    "\n",
    "Invest more in high-value segments (more ROI).\n",
    "Use low-cost strategies for low-value groups to gradually move them up. \n",
    "Business impact: Efficient use of marketing budget.\n",
    "\n",
    "8.Integration with Other Business Units\n",
    "\n",
    "Share insights with Sales (so they know who to upsell), Support (so they know which customers need special care), and Product (so they know what customers want).\n",
    "Business impact: Whole company aligns around customer-driven growth."
   ]
  }
 ],
 "metadata": {
  "kernelspec": {
   "display_name": "Python 3",
   "language": "python",
   "name": "python3"
  },
  "language_info": {
   "codemirror_mode": {
    "name": "ipython",
    "version": 3
   },
   "file_extension": ".py",
   "mimetype": "text/x-python",
   "name": "python",
   "nbconvert_exporter": "python",
   "pygments_lexer": "ipython3",
   "version": "3.10.8"
  }
 },
 "nbformat": 4,
 "nbformat_minor": 5
}
